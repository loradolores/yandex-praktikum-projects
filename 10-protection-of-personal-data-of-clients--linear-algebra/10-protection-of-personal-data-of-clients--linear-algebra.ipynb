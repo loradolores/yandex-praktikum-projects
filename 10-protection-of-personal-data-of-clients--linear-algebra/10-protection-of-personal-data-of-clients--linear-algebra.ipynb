{
 "cells": [
  {
   "cell_type": "markdown",
   "metadata": {},
   "source": [
    "# Защита персональных данных клиентов\n",
    "\n",
    "<h2> (Тема №10: Линейная алгебра) <a class=\"tocSkip\"> </h2>"
   ]
  },
  {
   "cell_type": "markdown",
   "metadata": {},
   "source": [
    "<a name=\"1\"></a>\n",
    "## 1. Содержание"
   ]
  },
  {
   "cell_type": "markdown",
   "metadata": {},
   "source": [
    "[1. Содержание](#1)\n",
    "\n",
    "[2. Описание проекта](#2)\n",
    "\n",
    "*    [2.1. Цель проекта](#21)\n",
    "*    [2.2. Задачи проекта](#22)\n",
    "*    [2.3. Описание данных](#23)\n",
    "*    [2.4. План работы](#24)\n",
    "\n",
    "[3. Исследование данных](#3)\n",
    "\n",
    "*    [3.1. Изучение данных](#31)\n",
    "*    [3.2. Вывод](#32)\n",
    "\n",
    "[4. Умножение матриц](#4)\n",
    "\n",
    "*    [4.1. Расчёт](#41)\n",
    "*    [4.2. Вывод](#42)\n",
    "\n",
    "[5. Алгоритм преобразования](#5)\n",
    "\n",
    "[6. Проверка алгоритма](#6)\n",
    "\n",
    "*    [6.1. Разделение данных на выборки](#61)\n",
    "*    [6.2. Создание матрицы без проверки её обратимости](#62)\n",
    "*    [6.3. Создание матрицы с проверкой её обратимости](#63)\n",
    "*    [6.4. Создание класса линейной регрессии `LinearReg`](#64)\n",
    "*    [6.5. Функция для предсказания *R2*](#65)\n",
    "*    [6.6. `Pipeline` для предсказания *R2*](#66)\n",
    "\n",
    "        *    [6.6.1. `LinearReg`](#661)\n",
    "        *    [6.6.2. `LinearRegression`](#662)\n",
    "        *    [6.6.3. Вывод по п. 6.6](#663)\n",
    "    \n",
    "    \n",
    "*    [6.7. Вывод](#67)\n",
    "\n",
    "[7. Общий вывод](#7)"
   ]
  },
  {
   "cell_type": "markdown",
   "metadata": {},
   "source": [
    "<a name=\"2\"></a> <div style=\"text-align: right\">[Cодержание](#1.-Содержание)</div>\n",
    "## 2. Описание проекта"
   ]
  },
  {
   "cell_type": "markdown",
   "metadata": {},
   "source": [
    "Нам нужно защитить данные клиентов страховой компании «Хоть потоп». Разработаем такой метод преобразования данных, чтобы по ним было сложно восстановить персональную информацию. Обоснуем корректность его работы.\n",
    "\n",
    "Нужно защитить данные, чтобы при преобразовании качество моделей машинного обучения не ухудшилось. Подбирать наилучшую модель не требуется."
   ]
  },
  {
   "cell_type": "markdown",
   "metadata": {},
   "source": [
    "<a name=\"21\"></a> <div style=\"text-align: right\">[Cодержание](#1.-Содержание)</div>\n",
    "### 2.1. Цель проекта"
   ]
  },
  {
   "cell_type": "markdown",
   "metadata": {},
   "source": [
    "Провести исследование с целью построения модели машинного обучения для преобразования данных, по которым было бы сложно восстановить персональную информацию.\n",
    "\n",
    "Результаты исследования позволят защитить данные клиентов страховой компании «Хоть потоп»."
   ]
  },
  {
   "cell_type": "markdown",
   "metadata": {},
   "source": [
    "<a name=\"22\"></a> <div style=\"text-align: right\">[Cодержание](#1.-Содержание)</div>\n",
    "### 2.2. Задачи проекта"
   ]
  },
  {
   "cell_type": "markdown",
   "metadata": {},
   "source": [
    "1. Исследовать данные.\n",
    "2. Выполнить умножение матриц.\n",
    "3. Написать алгоритм преобразования.\n",
    "4. Выполнить проверку алгоритма.\n",
    "5. Написать общий вывод.\n",
    "\n",
    "В ходе проведения исследования необходимо проверить гипотезу:\n",
    "\n",
    "- Гипотеза: при умножении признаков на обратимую матрицу качество линейной регрессии не меняется."
   ]
  },
  {
   "cell_type": "markdown",
   "metadata": {},
   "source": [
    "<a name=\"23\"></a> <div style=\"text-align: right\">[Cодержание](#1.-Содержание)</div>\n",
    "### 2.3. Описание данных"
   ]
  },
  {
   "cell_type": "markdown",
   "metadata": {},
   "source": [
    "Набор данных находится в файле `insurance.csv`.\n",
    "- **Признаки**: пол, возраст и зарплата застрахованного, количество членов его семьи.\n",
    "- **Целевой признак**: количество страховых выплат клиенту за последние 5 лет."
   ]
  },
  {
   "cell_type": "markdown",
   "metadata": {},
   "source": [
    "<a name=\"24\"></a> <div style=\"text-align: right\">[Cодержание](#1.-Содержание)</div>\n",
    "### 2.4. План работы"
   ]
  },
  {
   "cell_type": "markdown",
   "metadata": {},
   "source": [
    "1. Загрузим и изучим данные.\n",
    "\n",
    "\n",
    "2. Ответим на вопрос и обоснуем решение.\n",
    "\n",
    "   Умножим признаки на обратимую матрицу. Изменится ли качество линейной регрессии? (Её можно обучить заново.)\n",
    "\n",
    "   a. Изменится. Приведём примеры матриц.\n",
    "\n",
    "   b. Не изменится. Укажем, как связаны параметры линейной регрессии в исходной задаче и в преобразованной.\n",
    "\n",
    "\n",
    "3. Предложим алгоритм преобразования данных для решения задачи. Обоснуем, почему качество линейной регрессии не поменяется.\n",
    "\n",
    "\n",
    "4. Запрограммируем этот алгоритм, применив матричные операции. Проверим, что качество линейной регрессии из `sklearn` не отличается до и после преобразования. Применим метрику *R2*."
   ]
  },
  {
   "cell_type": "markdown",
   "metadata": {},
   "source": [
    "<a name=\"3\"></a> <div style=\"text-align: right\">[Cодержание](#1.-Содержание)</div>\n",
    "## 3. Исследование данных"
   ]
  },
  {
   "cell_type": "code",
   "execution_count": 1,
   "metadata": {},
   "outputs": [],
   "source": [
    "import matplotlib.pyplot as plt\n",
    "import numpy as np\n",
    "import pandas as pd\n",
    "import seaborn as sns\n",
    "import warnings\n",
    "warnings.simplefilter(action='ignore', category=UserWarning)\n",
    "\n",
    "from sklearn.base import BaseEstimator, TransformerMixin\n",
    "from sklearn.linear_model import LinearRegression\n",
    "from sklearn.metrics import r2_score\n",
    "from sklearn.model_selection import train_test_split\n",
    "from sklearn.pipeline import Pipeline\n",
    "from sklearn.preprocessing import FunctionTransformer\n",
    "\n",
    "RANDOM_STATE = 12345\n",
    "TEST_SIZE = 0.2"
   ]
  },
  {
   "cell_type": "markdown",
   "metadata": {},
   "source": [
    "<a name=\"31\"></a> <div style=\"text-align: right\">[Cодержание](#1.-Содержание)</div>\n",
    "### 3.1. Изучение данных"
   ]
  },
  {
   "cell_type": "markdown",
   "metadata": {},
   "source": [
    "Загрузим и изучим данные."
   ]
  },
  {
   "cell_type": "code",
   "execution_count": 2,
   "metadata": {},
   "outputs": [],
   "source": [
    "try:\n",
    "    data = pd.read_csv('/datasets/insurance.csv')\n",
    "except:\n",
    "    try:\n",
    "        data = pd.read_csv(r'C:/Users/lorad/OneDrive/Documents/Моя папка/Data Science/Курсы/'\n",
    "                            'Яндекс.Практикум. Специалист по Data Science/Проектная работа/'\n",
    "                            '10. Линейная алгебра/insurance.csv')\n",
    "    except:\n",
    "        try:\n",
    "            data = pd.read_csv(r'D:/Юлия/Data Science/Курсы/'\n",
    "                                'Яндекс.Практикум. Специалист по Data Science/Проектная работа/'\n",
    "                                '10. Линейная алгебра/insurance.csv')\n",
    "        except:\n",
    "            data = pd.read_csv('https://docs.google.com/spreadsheets/d/e/'\n",
    "            '2PACX-1vSY2zJ6hE8ott_YRz92O1dNRTC-KYDg75fBNz4nuwRjadLVyUtix_ZTs0Zid6L4L4cbDcN0l-Jy-b6k/'\n",
    "                               'pub?gid=1767464452&single=true&output=csv')"
   ]
  },
  {
   "cell_type": "code",
   "execution_count": 3,
   "metadata": {},
   "outputs": [
    {
     "data": {
      "text/plain": [
       "(5000, 5)"
      ]
     },
     "execution_count": 3,
     "metadata": {},
     "output_type": "execute_result"
    }
   ],
   "source": [
    "data.shape"
   ]
  },
  {
   "cell_type": "code",
   "execution_count": 4,
   "metadata": {
    "scrolled": true
   },
   "outputs": [
    {
     "data": {
      "text/html": [
       "<div>\n",
       "<style scoped>\n",
       "    .dataframe tbody tr th:only-of-type {\n",
       "        vertical-align: middle;\n",
       "    }\n",
       "\n",
       "    .dataframe tbody tr th {\n",
       "        vertical-align: top;\n",
       "    }\n",
       "\n",
       "    .dataframe thead th {\n",
       "        text-align: right;\n",
       "    }\n",
       "</style>\n",
       "<table border=\"1\" class=\"dataframe\">\n",
       "  <thead>\n",
       "    <tr style=\"text-align: right;\">\n",
       "      <th></th>\n",
       "      <th>Пол</th>\n",
       "      <th>Возраст</th>\n",
       "      <th>Зарплата</th>\n",
       "      <th>Члены семьи</th>\n",
       "      <th>Страховые выплаты</th>\n",
       "    </tr>\n",
       "  </thead>\n",
       "  <tbody>\n",
       "    <tr>\n",
       "      <th>0</th>\n",
       "      <td>1</td>\n",
       "      <td>41.0</td>\n",
       "      <td>49600.0</td>\n",
       "      <td>1</td>\n",
       "      <td>0</td>\n",
       "    </tr>\n",
       "    <tr>\n",
       "      <th>1</th>\n",
       "      <td>0</td>\n",
       "      <td>46.0</td>\n",
       "      <td>38000.0</td>\n",
       "      <td>1</td>\n",
       "      <td>1</td>\n",
       "    </tr>\n",
       "    <tr>\n",
       "      <th>2</th>\n",
       "      <td>0</td>\n",
       "      <td>29.0</td>\n",
       "      <td>21000.0</td>\n",
       "      <td>0</td>\n",
       "      <td>0</td>\n",
       "    </tr>\n",
       "    <tr>\n",
       "      <th>3</th>\n",
       "      <td>0</td>\n",
       "      <td>21.0</td>\n",
       "      <td>41700.0</td>\n",
       "      <td>2</td>\n",
       "      <td>0</td>\n",
       "    </tr>\n",
       "    <tr>\n",
       "      <th>4</th>\n",
       "      <td>1</td>\n",
       "      <td>28.0</td>\n",
       "      <td>26100.0</td>\n",
       "      <td>0</td>\n",
       "      <td>0</td>\n",
       "    </tr>\n",
       "  </tbody>\n",
       "</table>\n",
       "</div>"
      ],
      "text/plain": [
       "   Пол  Возраст  Зарплата  Члены семьи  Страховые выплаты\n",
       "0    1     41.0   49600.0            1                  0\n",
       "1    0     46.0   38000.0            1                  1\n",
       "2    0     29.0   21000.0            0                  0\n",
       "3    0     21.0   41700.0            2                  0\n",
       "4    1     28.0   26100.0            0                  0"
      ]
     },
     "execution_count": 4,
     "metadata": {},
     "output_type": "execute_result"
    }
   ],
   "source": [
    "data.head()"
   ]
  },
  {
   "cell_type": "markdown",
   "metadata": {},
   "source": [
    "Посмотрим общую информацию о данных."
   ]
  },
  {
   "cell_type": "code",
   "execution_count": 5,
   "metadata": {
    "scrolled": true
   },
   "outputs": [
    {
     "name": "stdout",
     "output_type": "stream",
     "text": [
      "<class 'pandas.core.frame.DataFrame'>\n",
      "RangeIndex: 5000 entries, 0 to 4999\n",
      "Data columns (total 5 columns):\n",
      " #   Column             Non-Null Count  Dtype  \n",
      "---  ------             --------------  -----  \n",
      " 0   Пол                5000 non-null   int64  \n",
      " 1   Возраст            5000 non-null   float64\n",
      " 2   Зарплата           5000 non-null   float64\n",
      " 3   Члены семьи        5000 non-null   int64  \n",
      " 4   Страховые выплаты  5000 non-null   int64  \n",
      "dtypes: float64(2), int64(3)\n",
      "memory usage: 195.4 KB\n"
     ]
    }
   ],
   "source": [
    "data.info()"
   ]
  },
  {
   "cell_type": "markdown",
   "metadata": {},
   "source": [
    "Посмотрим описание данных."
   ]
  },
  {
   "cell_type": "code",
   "execution_count": 6,
   "metadata": {
    "scrolled": false
   },
   "outputs": [
    {
     "data": {
      "text/html": [
       "<div>\n",
       "<style scoped>\n",
       "    .dataframe tbody tr th:only-of-type {\n",
       "        vertical-align: middle;\n",
       "    }\n",
       "\n",
       "    .dataframe tbody tr th {\n",
       "        vertical-align: top;\n",
       "    }\n",
       "\n",
       "    .dataframe thead th {\n",
       "        text-align: right;\n",
       "    }\n",
       "</style>\n",
       "<table border=\"1\" class=\"dataframe\">\n",
       "  <thead>\n",
       "    <tr style=\"text-align: right;\">\n",
       "      <th></th>\n",
       "      <th>Пол</th>\n",
       "      <th>Возраст</th>\n",
       "      <th>Зарплата</th>\n",
       "      <th>Члены семьи</th>\n",
       "      <th>Страховые выплаты</th>\n",
       "    </tr>\n",
       "  </thead>\n",
       "  <tbody>\n",
       "    <tr>\n",
       "      <th>count</th>\n",
       "      <td>5000.000000</td>\n",
       "      <td>5000.000000</td>\n",
       "      <td>5000.000000</td>\n",
       "      <td>5000.000000</td>\n",
       "      <td>5000.000000</td>\n",
       "    </tr>\n",
       "    <tr>\n",
       "      <th>mean</th>\n",
       "      <td>0.499000</td>\n",
       "      <td>30.952800</td>\n",
       "      <td>39916.360000</td>\n",
       "      <td>1.194200</td>\n",
       "      <td>0.148000</td>\n",
       "    </tr>\n",
       "    <tr>\n",
       "      <th>std</th>\n",
       "      <td>0.500049</td>\n",
       "      <td>8.440807</td>\n",
       "      <td>9900.083569</td>\n",
       "      <td>1.091387</td>\n",
       "      <td>0.463183</td>\n",
       "    </tr>\n",
       "    <tr>\n",
       "      <th>min</th>\n",
       "      <td>0.000000</td>\n",
       "      <td>18.000000</td>\n",
       "      <td>5300.000000</td>\n",
       "      <td>0.000000</td>\n",
       "      <td>0.000000</td>\n",
       "    </tr>\n",
       "    <tr>\n",
       "      <th>25%</th>\n",
       "      <td>0.000000</td>\n",
       "      <td>24.000000</td>\n",
       "      <td>33300.000000</td>\n",
       "      <td>0.000000</td>\n",
       "      <td>0.000000</td>\n",
       "    </tr>\n",
       "    <tr>\n",
       "      <th>50%</th>\n",
       "      <td>0.000000</td>\n",
       "      <td>30.000000</td>\n",
       "      <td>40200.000000</td>\n",
       "      <td>1.000000</td>\n",
       "      <td>0.000000</td>\n",
       "    </tr>\n",
       "    <tr>\n",
       "      <th>75%</th>\n",
       "      <td>1.000000</td>\n",
       "      <td>37.000000</td>\n",
       "      <td>46600.000000</td>\n",
       "      <td>2.000000</td>\n",
       "      <td>0.000000</td>\n",
       "    </tr>\n",
       "    <tr>\n",
       "      <th>max</th>\n",
       "      <td>1.000000</td>\n",
       "      <td>65.000000</td>\n",
       "      <td>79000.000000</td>\n",
       "      <td>6.000000</td>\n",
       "      <td>5.000000</td>\n",
       "    </tr>\n",
       "  </tbody>\n",
       "</table>\n",
       "</div>"
      ],
      "text/plain": [
       "               Пол      Возраст      Зарплата  Члены семьи  Страховые выплаты\n",
       "count  5000.000000  5000.000000   5000.000000  5000.000000        5000.000000\n",
       "mean      0.499000    30.952800  39916.360000     1.194200           0.148000\n",
       "std       0.500049     8.440807   9900.083569     1.091387           0.463183\n",
       "min       0.000000    18.000000   5300.000000     0.000000           0.000000\n",
       "25%       0.000000    24.000000  33300.000000     0.000000           0.000000\n",
       "50%       0.000000    30.000000  40200.000000     1.000000           0.000000\n",
       "75%       1.000000    37.000000  46600.000000     2.000000           0.000000\n",
       "max       1.000000    65.000000  79000.000000     6.000000           5.000000"
      ]
     },
     "execution_count": 6,
     "metadata": {},
     "output_type": "execute_result"
    }
   ],
   "source": [
    "data.describe()"
   ]
  },
  {
   "cell_type": "markdown",
   "metadata": {},
   "source": [
    "При помощи гистограмм визуализируем распределение переменных в датасете."
   ]
  },
  {
   "cell_type": "code",
   "execution_count": 7,
   "metadata": {},
   "outputs": [
    {
     "data": {
      "image/png": "[encoded data removed]",
      "text/plain": [
       "<Figure size 720x720 with 6 Axes>"
      ]
     },
     "metadata": {
      "needs_background": "light"
     },
     "output_type": "display_data"
    }
   ],
   "source": [
    "data.hist(figsize=(10, 10), bins=50, alpha=0.7, color='deepskyblue')\n",
    "plt.show()"
   ]
  },
  {
   "cell_type": "markdown",
   "metadata": {},
   "source": [
    "Выведем коэффициенты корреляции Пирсона для переменных датасета."
   ]
  },
  {
   "cell_type": "code",
   "execution_count": 8,
   "metadata": {},
   "outputs": [
    {
     "data": {
      "text/html": [
       "<div>\n",
       "<style scoped>\n",
       "    .dataframe tbody tr th:only-of-type {\n",
       "        vertical-align: middle;\n",
       "    }\n",
       "\n",
       "    .dataframe tbody tr th {\n",
       "        vertical-align: top;\n",
       "    }\n",
       "\n",
       "    .dataframe thead th {\n",
       "        text-align: right;\n",
       "    }\n",
       "</style>\n",
       "<table border=\"1\" class=\"dataframe\">\n",
       "  <thead>\n",
       "    <tr style=\"text-align: right;\">\n",
       "      <th></th>\n",
       "      <th>Пол</th>\n",
       "      <th>Возраст</th>\n",
       "      <th>Зарплата</th>\n",
       "      <th>Члены семьи</th>\n",
       "      <th>Страховые выплаты</th>\n",
       "    </tr>\n",
       "  </thead>\n",
       "  <tbody>\n",
       "    <tr>\n",
       "      <th>Пол</th>\n",
       "      <td>1.000000</td>\n",
       "      <td>0.002074</td>\n",
       "      <td>0.014910</td>\n",
       "      <td>-0.008991</td>\n",
       "      <td>0.010140</td>\n",
       "    </tr>\n",
       "    <tr>\n",
       "      <th>Возраст</th>\n",
       "      <td>0.002074</td>\n",
       "      <td>1.000000</td>\n",
       "      <td>-0.019093</td>\n",
       "      <td>-0.006692</td>\n",
       "      <td>0.651030</td>\n",
       "    </tr>\n",
       "    <tr>\n",
       "      <th>Зарплата</th>\n",
       "      <td>0.014910</td>\n",
       "      <td>-0.019093</td>\n",
       "      <td>1.000000</td>\n",
       "      <td>-0.030296</td>\n",
       "      <td>-0.014963</td>\n",
       "    </tr>\n",
       "    <tr>\n",
       "      <th>Члены семьи</th>\n",
       "      <td>-0.008991</td>\n",
       "      <td>-0.006692</td>\n",
       "      <td>-0.030296</td>\n",
       "      <td>1.000000</td>\n",
       "      <td>-0.036290</td>\n",
       "    </tr>\n",
       "    <tr>\n",
       "      <th>Страховые выплаты</th>\n",
       "      <td>0.010140</td>\n",
       "      <td>0.651030</td>\n",
       "      <td>-0.014963</td>\n",
       "      <td>-0.036290</td>\n",
       "      <td>1.000000</td>\n",
       "    </tr>\n",
       "  </tbody>\n",
       "</table>\n",
       "</div>"
      ],
      "text/plain": [
       "                        Пол   Возраст  Зарплата  Члены семьи  \\\n",
       "Пол                1.000000  0.002074  0.014910    -0.008991   \n",
       "Возраст            0.002074  1.000000 -0.019093    -0.006692   \n",
       "Зарплата           0.014910 -0.019093  1.000000    -0.030296   \n",
       "Члены семьи       -0.008991 -0.006692 -0.030296     1.000000   \n",
       "Страховые выплаты  0.010140  0.651030 -0.014963    -0.036290   \n",
       "\n",
       "                   Страховые выплаты  \n",
       "Пол                         0.010140  \n",
       "Возраст                     0.651030  \n",
       "Зарплата                   -0.014963  \n",
       "Члены семьи                -0.036290  \n",
       "Страховые выплаты           1.000000  "
      ]
     },
     "execution_count": 8,
     "metadata": {},
     "output_type": "execute_result"
    }
   ],
   "source": [
    "data.corr()"
   ]
  },
  {
   "cell_type": "markdown",
   "metadata": {},
   "source": [
    "Построим тепловую карту (хитмэп) коэффициентов корреляции Пирсона для переменных датасета."
   ]
  },
  {
   "cell_type": "code",
   "execution_count": 9,
   "metadata": {},
   "outputs": [
    {
     "data": {
      "image/png": "[encoded data removed]",
      "text/plain": [
       "<Figure size 720x576 with 2 Axes>"
      ]
     },
     "metadata": {
      "needs_background": "light"
     },
     "output_type": "display_data"
    }
   ],
   "source": [
    "plt.figure(figsize=(10,8))\n",
    "sns.heatmap(\n",
    "    data.corr(), annot=True, fmt = '.2f', \n",
    "    vmin=-1, vmax=1, center=0, cmap='coolwarm')\n",
    "plt.show()"
   ]
  },
  {
   "cell_type": "markdown",
   "metadata": {},
   "source": [
    "Проверим датасет на наличие явных дубликатов."
   ]
  },
  {
   "cell_type": "code",
   "execution_count": 10,
   "metadata": {},
   "outputs": [
    {
     "data": {
      "text/plain": [
       "153"
      ]
     },
     "execution_count": 10,
     "metadata": {},
     "output_type": "execute_result"
    }
   ],
   "source": [
    "data.duplicated().sum()"
   ]
  },
  {
   "cell_type": "markdown",
   "metadata": {},
   "source": [
    "Удалим явные дубликаты."
   ]
  },
  {
   "cell_type": "code",
   "execution_count": 11,
   "metadata": {},
   "outputs": [
    {
     "data": {
      "text/plain": [
       "(4847, 5)"
      ]
     },
     "execution_count": 11,
     "metadata": {},
     "output_type": "execute_result"
    }
   ],
   "source": [
    "data = data.drop_duplicates()\n",
    "data.shape"
   ]
  },
  {
   "cell_type": "markdown",
   "metadata": {},
   "source": [
    "Т.к. в нашей задаче используется линейная модель, которую мы решаем аналитически (т.е. без регуляризаций и градиентных спусков), проверим датасет на мультиколлинеарность.\n",
    "\n",
    "В случае мультиколлинеарности матрица $𝑋^𝑇*𝑋$ близка к вырожденной, и, в результате, появляется чувствительность к малейшему изменению входных данных, приводящая к сильному изменению весов модели. Отсюда возникает переобучение, и теряется интерпретируемость."
   ]
  },
  {
   "cell_type": "code",
   "execution_count": 12,
   "metadata": {
    "scrolled": false
   },
   "outputs": [
    {
     "data": {
      "image/png": "[encoded data removed]",
      "text/plain": [
       "<Figure size 834.5x720 with 20 Axes>"
      ]
     },
     "metadata": {
      "needs_background": "light"
     },
     "output_type": "display_data"
    }
   ],
   "source": [
    "sns.pairplot(data, hue='Страховые выплаты')\n",
    "plt.show()"
   ]
  },
  {
   "cell_type": "markdown",
   "metadata": {},
   "source": [
    "<a name=\"32\"></a> <div style=\"text-align: right\">[Cодержание](#1.-Содержание)</div>\n",
    "### 3.2. Вывод"
   ]
  },
  {
   "cell_type": "markdown",
   "metadata": {},
   "source": [
    "В разделе [**Исследование данных**](#3.-Исследование-данных) были выполнены следующие задачи:\n",
    "1. Получена общая информация о датасете.\n",
    "2. Визуализировано распределение переменных в датасете.\n",
    "3. Построена тепловая карта (хитмэп) коэффициентов корреляции Пирсона для переменных датасета.\n",
    "4. Датасет проверен на наличие явных дубликатов.\n",
    "5. Датасет проверен на мультиколлинеарность.\n",
    "\n",
    "\n",
    "В результате выполнения задач этого раздела было выявлено следующее:\n",
    "- пропусков в данных нет;\n",
    "- никаких аномалий в данных не обнаружено;\n",
    "- существует повышенная корреляция между признаками \"возраст\" и \"страховые выплаты\", что логично;\n",
    "- явные дубликаты удалены;\n",
    "- мультиколлинеарность отсутствует (корреляция между признаками везде ниже 0,75 $\\div$ 0,8).\n",
    "\n",
    "**В проекте решается задача регрессии.**\n",
    "\n",
    "Таким образом, данные подготовлены для обучения моделей."
   ]
  },
  {
   "cell_type": "markdown",
   "metadata": {},
   "source": [
    "<a name=\"4\"></a> <div style=\"text-align: right\">[Cодержание](#1.-Содержание)</div>\n",
    "## 4. Умножение матриц"
   ]
  },
  {
   "cell_type": "markdown",
   "metadata": {},
   "source": [
    "<a name=\"41\"></a> <div style=\"text-align: right\">[Cодержание](#1.-Содержание)</div>\n",
    "### 4.1. Расчёт"
   ]
  },
  {
   "cell_type": "markdown",
   "metadata": {},
   "source": [
    "**1. Запишем формулы линейной регрессии.**\n",
    "\n",
    "\n",
    "Предсказания:\n",
    "\n",
    "$$\n",
    "a = Xw\n",
    "$$\n",
    "\n",
    "Задача обучения:\n",
    "\n",
    "$$\n",
    "w = \\arg\\min_w MSE(Xw, y)\n",
    "$$\n",
    "\n",
    "Формула обучения:\n",
    "\n",
    "$$\n",
    "w = (X^T X)^{-1} X^T y\n",
    "$$\n",
    "\n",
    "\n",
    "Обозначения:\n",
    "\n",
    "- $X$ — матрица признаков (нулевой столбец состоит из единиц)\n",
    "\n",
    "- $y$ — вектор целевого признака\n",
    "\n",
    "- $P$ — матрица, на которую умножаются признаки\n",
    "\n",
    "- $w$ — вектор весов линейной регрессии (нулевой элемент равен сдвигу)"
   ]
  },
  {
   "cell_type": "markdown",
   "metadata": {},
   "source": [
    "**2. Свойства матриц.**\n",
    "\n",
    "Основные свойства транспонирования матриц:\n",
    "\n",
    "- Двойное транспонирование *возвращает* исходную матрицу: $(А^{T})^{T}=А$.\n",
    "\n",
    "- Транспонирование *суммы* матриц эквивалентно сумме транспонированных слагаемых: $(А+В)^{T}=А^{T}+В^{T}$.\n",
    "\n",
    "- Транспонирование *произведения* двух матриц эквивалентно произведению транспонированных матриц, взятых *в обратном порядке*: $(АВ)^{T} = В^{T}А^{T}$.\n",
    "\n",
    "- Произведение матрицы на свою транспонированную: $А^{T}А$ или $АА^{T}$ всегда имеет результатом *симметричную* квадратную матрицу.\n",
    "\n",
    "\n",
    "Основные свойства обратной матрицы:\n",
    "\n",
    "- $АА^{-1}=А^{-1}А=E$, где $E$ - единичная матрица.\n",
    "\n",
    "- $(АВ)^{-1}=В^{-1}А^{-1}$, т.е. при раскрытии скобок порядок сомножителей меняется на обратный.\n",
    "\n",
    "- $(А^{T})^{-1}=(А^{-1})^{T}$, т.е. операции обращения и транспонирования можно менять местами.\n",
    "\n",
    "\n",
    "Умножение матриц ассоциативно:\n",
    "\n",
    "$$\n",
    "(ABC)^{-1} = C^{-1}(AB)^{-1} = (BC)^{-1}A^{-1} = C^{-1}B^{-1}A^{-1}\n",
    "$$\n",
    "\n",
    "НО! Умножение матриц некоммутативно. Это значит, что от перестановки местами матриц в произведении результат меняется."
   ]
  },
  {
   "cell_type": "markdown",
   "metadata": {},
   "source": [
    "**3. Умножим признаки на обратимую матрицу.** Изменится ли качество линейной регрессии? (Её можно обучить заново.)\n",
    "\n",
    "Ответ: не изменится.\n",
    "\n",
    "**Обоснование.**\n",
    "\n",
    "Умножим матрицу признаков $X$ в формуле обучения $w(X) = (X^T X)^{-1} X^T y$ на обратимую матрицу $P$:\n",
    "\n",
    "$$\n",
    "w(XP) = [(XP)^T (XP)]^{-1} (XP)^T y = [P^T X^T XP]^{-1} P^T X^T y = P^{-1}[P^T (X^T X)]^{-1} P^T X^T y = P^{-1}(X^T X)^{-1} [(P^T)^{-1} P^T] X^T y = P^{-1}(X^T X)^{-1} X^T y,\n",
    "$$\n",
    "\n",
    "где $[(P^T)^{-1} P^T]=E$.\n",
    "\n",
    "\n",
    "Отсюда укажем, как связаны параметры линейной регрессии в исходной задаче и в преобразованной:\n",
    "\n",
    "$$\n",
    "w(XP) = P^{-1} w(X)\n",
    "$$\n",
    "\n",
    "\n",
    "Подставим $w(XP)$ в формулу предсказания $a = Xw(X)$ (т.е. заменим $X$ на $XP$):\n",
    "\n",
    "$$\n",
    "a = XP w(XP) = XP [P^{-1} w(X)] = Xw(X)\n",
    "$$"
   ]
  },
  {
   "cell_type": "markdown",
   "metadata": {},
   "source": [
    "<a name=\"42\"></a> <div style=\"text-align: right\">[Cодержание](#1.-Содержание)</div>\n",
    "### 4.2. Вывод"
   ]
  },
  {
   "cell_type": "markdown",
   "metadata": {},
   "source": [
    "В разделе [**Умножение матриц**](#4.-Умножение-матриц) были выполнены следующие задачи:\n",
    "1. Записаны формулы линейной регрессии.\n",
    "2. Описаны свойства матриц.\n",
    "3. Приведено умножение признаков на обратимую матрицу.\n",
    "\n",
    "\n",
    "В результате выполнения задач этого раздела было выявлено следующее:\n",
    "- при умножении матрицы признаков $X$ на обратимую матрицу $P$ вектор весов $w$ меняется, а вектор целевого признака $a$ нет. Т.е. качество линейной регрессии не изменится."
   ]
  },
  {
   "cell_type": "markdown",
   "metadata": {},
   "source": [
    "<a name=\"5\"></a> <div style=\"text-align: right\">[Cодержание](#1.-Содержание)</div>\n",
    "## 5. Алгоритм преобразования"
   ]
  },
  {
   "cell_type": "markdown",
   "metadata": {},
   "source": [
    "Предложим алгоритм преобразования данных для решения задачи:\n",
    "\n",
    "1.\tРазобьём исходные данные, выделив целевой признак.\n",
    "2.\tРазделим данные на обучающую и тестовую выборки.\n",
    "3.\tСгенерируем случайную квадратную матрицу *P* с размером, равным количеству признаков в исходном датасете. Нужно генерировать матрицу до тех пор, пока мы не получим обратимую, и наш код гарантированно полностью не отработает. Добиться этого можно с помощью написания специальных для этого функций.\n",
    "4.\tУмножим признаки обучающей и тестовой  выборок  исходного датасета на сгенерированную случайную квадратную матрицу *P*.\n",
    "5.\tСоздадим класс модели машинного обучения `LinearReg`.\n",
    "6.\tНапишем функцию для создания модели линейной регрессии и получим её предсказания метрики *R2*.\n",
    "7.\tПолучим *R2* модели для исходной и преобразованной матриц."
   ]
  },
  {
   "cell_type": "markdown",
   "metadata": {},
   "source": [
    "<a name=\"6\"></a> <div style=\"text-align: right\">[Cодержание](#1.-Содержание)</div>\n",
    "## 6. Проверка алгоритма"
   ]
  },
  {
   "cell_type": "markdown",
   "metadata": {},
   "source": [
    "Запрограммируем алгоритм преобразования данных, применив матричные операции. Проверим, что качество линейной регрессии из `sklearn` не отличается до и после преобразования. Применим метрику *R2*."
   ]
  },
  {
   "cell_type": "markdown",
   "metadata": {},
   "source": [
    "<a name=\"61\"></a> <div style=\"text-align: right\">[Cодержание](#1.-Содержание)</div>\n",
    "### 6.1. Разделение данных на выборки"
   ]
  },
  {
   "cell_type": "markdown",
   "metadata": {},
   "source": [
    "Разобьём исходные данные, выделив целевой признак."
   ]
  },
  {
   "cell_type": "code",
   "execution_count": 13,
   "metadata": {},
   "outputs": [],
   "source": [
    "features = data.drop('Страховые выплаты', axis=1)\n",
    "target = data['Страховые выплаты']"
   ]
  },
  {
   "cell_type": "markdown",
   "metadata": {},
   "source": [
    "Разделим данные на обучающую и тестовую выборки в соотношении 80:20."
   ]
  },
  {
   "cell_type": "code",
   "execution_count": 14,
   "metadata": {},
   "outputs": [],
   "source": [
    "features_train, features_test, target_train, target_test = train_test_split(\n",
    "    features, target, test_size=TEST_SIZE, random_state=RANDOM_STATE)"
   ]
  },
  {
   "cell_type": "markdown",
   "metadata": {},
   "source": [
    "<a name=\"62\"></a> <div style=\"text-align: right\">[Cодержание](#1.-Содержание)</div>\n",
    "### 6.2. Создание матрицы без проверки её обратимости"
   ]
  },
  {
   "cell_type": "markdown",
   "metadata": {},
   "source": [
    "Сгенерируем матрицу без использования функции, проверяющей её обратимость.\n",
    "\n",
    "Квадратные матрицы, для которых можно найти обратные, называются обратимыми (англ. *invertible matrix*). \n",
    "\n",
    "Необратимые матрицы встречаются редко. Если сгенерировать случайную матрицу функцией `numpy.random.normal()` (англ. «нормальное распределение»), вероятность получить необратимую матрицу близка к нулю.\n",
    "\n",
    "Сгенерируем случайную квадратную матрицу *P* с размером, равным количеству признаков в исходном датасете (т.к. количество столбцов исходной матрицы датасета должно совпадать с количеством строк матрицы *P*)."
   ]
  },
  {
   "cell_type": "code",
   "execution_count": 15,
   "metadata": {},
   "outputs": [
    {
     "data": {
      "text/plain": [
       "array([[-0.3118109 ,  0.99141627, -0.08879067,  0.34249121],\n",
       "       [ 0.19563604,  0.80233465, -0.77639427,  1.21485927],\n",
       "       [-0.06834831,  0.9966402 ,  0.44283757, -0.81013411],\n",
       "       [-0.81773874, -0.42740112, -1.02874266,  1.71184951]])"
      ]
     },
     "metadata": {},
     "output_type": "display_data"
    }
   ],
   "source": [
    "P = np.random.normal(size=(data.shape[1] - 1, data.shape[1] - 1))\n",
    "display(P)"
   ]
  },
  {
   "cell_type": "markdown",
   "metadata": {},
   "source": [
    "Чтобы найти обратную матрицу, вызовем функцию `numpy.linalg.inv()` (от англ. *linear algebra*, «линейная алгебра»; *invert*, «обратить»). Также она поможет проверить матрицу на обратимость: если матрица необратима, будет обнаружена ошибка.\n",
    "\n",
    "Проверим, что матрица *P* обратима (умножим её на обратную ей матрицу)."
   ]
  },
  {
   "cell_type": "code",
   "execution_count": 16,
   "metadata": {},
   "outputs": [
    {
     "data": {
      "text/plain": [
       "array([[ 1.,  0.,  0., -0.],\n",
       "       [ 0.,  1.,  0.,  0.],\n",
       "       [-0.,  0.,  1.,  0.],\n",
       "       [ 0.,  0.,  0.,  1.]])"
      ]
     },
     "metadata": {},
     "output_type": "display_data"
    }
   ],
   "source": [
    "display(np.round(P @ np.linalg.inv(P)))"
   ]
  },
  {
   "cell_type": "markdown",
   "metadata": {},
   "source": [
    "По условию задания необходимо разработать такой метод преобразования данных, чтобы по ним было сложно восстановить персональную информацию и, при этом, качество моделей машинного обучения не ухудшилось.\n",
    "\n",
    "Преобразуем датасет: умножим признаки обучающей и тестовой выборок исходного датасета на сгенерированную случайную квадратную матрицу *P*."
   ]
  },
  {
   "cell_type": "code",
   "execution_count": 17,
   "metadata": {},
   "outputs": [
    {
     "data": {
      "text/html": [
       "<div>\n",
       "<style scoped>\n",
       "    .dataframe tbody tr th:only-of-type {\n",
       "        vertical-align: middle;\n",
       "    }\n",
       "\n",
       "    .dataframe tbody tr th {\n",
       "        vertical-align: top;\n",
       "    }\n",
       "\n",
       "    .dataframe thead th {\n",
       "        text-align: right;\n",
       "    }\n",
       "</style>\n",
       "<table border=\"1\" class=\"dataframe\">\n",
       "  <thead>\n",
       "    <tr style=\"text-align: right;\">\n",
       "      <th></th>\n",
       "      <th>0</th>\n",
       "      <th>1</th>\n",
       "      <th>2</th>\n",
       "      <th>3</th>\n",
       "    </tr>\n",
       "  </thead>\n",
       "  <tbody>\n",
       "    <tr>\n",
       "      <th>640</th>\n",
       "      <td>-2017.632266</td>\n",
       "      <td>29523.015377</td>\n",
       "      <td>13086.253095</td>\n",
       "      <td>-23945.953731</td>\n",
       "    </tr>\n",
       "    <tr>\n",
       "      <th>4510</th>\n",
       "      <td>-3898.419894</td>\n",
       "      <td>56928.588887</td>\n",
       "      <td>25264.810374</td>\n",
       "      <td>-46225.359750</td>\n",
       "    </tr>\n",
       "    <tr>\n",
       "      <th>1623</th>\n",
       "      <td>-2843.820047</td>\n",
       "      <td>41590.949194</td>\n",
       "      <td>18435.706241</td>\n",
       "      <td>-33734.373584</td>\n",
       "    </tr>\n",
       "    <tr>\n",
       "      <th>3460</th>\n",
       "      <td>-2320.472575</td>\n",
       "      <td>33904.784612</td>\n",
       "      <td>15037.502850</td>\n",
       "      <td>-27514.563791</td>\n",
       "    </tr>\n",
       "    <tr>\n",
       "      <th>1820</th>\n",
       "      <td>-2391.857654</td>\n",
       "      <td>35017.321380</td>\n",
       "      <td>15506.603554</td>\n",
       "      <td>-28377.615055</td>\n",
       "    </tr>\n",
       "  </tbody>\n",
       "</table>\n",
       "</div>"
      ],
      "text/plain": [
       "                0             1             2             3\n",
       "640  -2017.632266  29523.015377  13086.253095 -23945.953731\n",
       "4510 -3898.419894  56928.588887  25264.810374 -46225.359750\n",
       "1623 -2843.820047  41590.949194  18435.706241 -33734.373584\n",
       "3460 -2320.472575  33904.784612  15037.502850 -27514.563791\n",
       "1820 -2391.857654  35017.321380  15506.603554 -28377.615055"
      ]
     },
     "metadata": {},
     "output_type": "display_data"
    },
    {
     "data": {
      "text/html": [
       "<div>\n",
       "<style scoped>\n",
       "    .dataframe tbody tr th:only-of-type {\n",
       "        vertical-align: middle;\n",
       "    }\n",
       "\n",
       "    .dataframe tbody tr th {\n",
       "        vertical-align: top;\n",
       "    }\n",
       "\n",
       "    .dataframe thead th {\n",
       "        text-align: right;\n",
       "    }\n",
       "</style>\n",
       "<table border=\"1\" class=\"dataframe\">\n",
       "  <thead>\n",
       "    <tr style=\"text-align: right;\">\n",
       "      <th></th>\n",
       "      <th>0</th>\n",
       "      <th>1</th>\n",
       "      <th>2</th>\n",
       "      <th>3</th>\n",
       "    </tr>\n",
       "  </thead>\n",
       "  <tbody>\n",
       "    <tr>\n",
       "      <th>1335</th>\n",
       "      <td>-3221.852572</td>\n",
       "      <td>47060.862691</td>\n",
       "      <td>20883.987544</td>\n",
       "      <td>-38210.045952</td>\n",
       "    </tr>\n",
       "    <tr>\n",
       "      <th>3875</th>\n",
       "      <td>-4498.205308</td>\n",
       "      <td>65705.255498</td>\n",
       "      <td>29158.062594</td>\n",
       "      <td>-53348.620161</td>\n",
       "    </tr>\n",
       "    <tr>\n",
       "      <th>166</th>\n",
       "      <td>-2312.499122</td>\n",
       "      <td>33812.716537</td>\n",
       "      <td>14984.426408</td>\n",
       "      <td>-27419.689937</td>\n",
       "    </tr>\n",
       "    <tr>\n",
       "      <th>3003</th>\n",
       "      <td>-1313.128120</td>\n",
       "      <td>19265.592166</td>\n",
       "      <td>8514.428280</td>\n",
       "      <td>-15584.785200</td>\n",
       "    </tr>\n",
       "    <tr>\n",
       "      <th>424</th>\n",
       "      <td>-1872.214837</td>\n",
       "      <td>27443.658172</td>\n",
       "      <td>12140.261611</td>\n",
       "      <td>-22219.380925</td>\n",
       "    </tr>\n",
       "  </tbody>\n",
       "</table>\n",
       "</div>"
      ],
      "text/plain": [
       "                0             1             2             3\n",
       "1335 -3221.852572  47060.862691  20883.987544 -38210.045952\n",
       "3875 -4498.205308  65705.255498  29158.062594 -53348.620161\n",
       "166  -2312.499122  33812.716537  14984.426408 -27419.689937\n",
       "3003 -1313.128120  19265.592166   8514.428280 -15584.785200\n",
       "424  -1872.214837  27443.658172  12140.261611 -22219.380925"
      ]
     },
     "metadata": {},
     "output_type": "display_data"
    }
   ],
   "source": [
    "features_train_P = features_train @ P\n",
    "features_test_P = features_test @ P\n",
    "\n",
    "display(features_train_P.head())\n",
    "display(features_test_P.head())"
   ]
  },
  {
   "cell_type": "markdown",
   "metadata": {},
   "source": [
    "Проверим, изменились ли данные после преобразования исходной матрицы."
   ]
  },
  {
   "cell_type": "code",
   "execution_count": 18,
   "metadata": {},
   "outputs": [
    {
     "data": {
      "text/html": [
       "<div>\n",
       "<style scoped>\n",
       "    .dataframe tbody tr th:only-of-type {\n",
       "        vertical-align: middle;\n",
       "    }\n",
       "\n",
       "    .dataframe tbody tr th {\n",
       "        vertical-align: top;\n",
       "    }\n",
       "\n",
       "    .dataframe thead th {\n",
       "        text-align: right;\n",
       "    }\n",
       "</style>\n",
       "<table border=\"1\" class=\"dataframe\">\n",
       "  <thead>\n",
       "    <tr style=\"text-align: right;\">\n",
       "      <th></th>\n",
       "      <th>Пол</th>\n",
       "      <th>Возраст</th>\n",
       "      <th>Зарплата</th>\n",
       "      <th>Члены семьи</th>\n",
       "    </tr>\n",
       "  </thead>\n",
       "  <tbody>\n",
       "    <tr>\n",
       "      <th>640</th>\n",
       "      <td>0</td>\n",
       "      <td>28.0</td>\n",
       "      <td>29600.0</td>\n",
       "      <td>0</td>\n",
       "    </tr>\n",
       "    <tr>\n",
       "      <th>4510</th>\n",
       "      <td>0</td>\n",
       "      <td>26.0</td>\n",
       "      <td>57100.0</td>\n",
       "      <td>1</td>\n",
       "    </tr>\n",
       "    <tr>\n",
       "      <th>1623</th>\n",
       "      <td>1</td>\n",
       "      <td>38.0</td>\n",
       "      <td>41700.0</td>\n",
       "      <td>1</td>\n",
       "    </tr>\n",
       "    <tr>\n",
       "      <th>3460</th>\n",
       "      <td>1</td>\n",
       "      <td>23.0</td>\n",
       "      <td>34000.0</td>\n",
       "      <td>1</td>\n",
       "    </tr>\n",
       "    <tr>\n",
       "      <th>1820</th>\n",
       "      <td>0</td>\n",
       "      <td>45.0</td>\n",
       "      <td>35100.0</td>\n",
       "      <td>2</td>\n",
       "    </tr>\n",
       "  </tbody>\n",
       "</table>\n",
       "</div>"
      ],
      "text/plain": [
       "      Пол  Возраст  Зарплата  Члены семьи\n",
       "640     0     28.0   29600.0            0\n",
       "4510    0     26.0   57100.0            1\n",
       "1623    1     38.0   41700.0            1\n",
       "3460    1     23.0   34000.0            1\n",
       "1820    0     45.0   35100.0            2"
      ]
     },
     "metadata": {},
     "output_type": "display_data"
    }
   ],
   "source": [
    "# исходный датасет\n",
    "display(features_train.head())"
   ]
  },
  {
   "cell_type": "code",
   "execution_count": 19,
   "metadata": {
    "scrolled": true
   },
   "outputs": [
    {
     "data": {
      "text/html": [
       "<div>\n",
       "<style scoped>\n",
       "    .dataframe tbody tr th:only-of-type {\n",
       "        vertical-align: middle;\n",
       "    }\n",
       "\n",
       "    .dataframe tbody tr th {\n",
       "        vertical-align: top;\n",
       "    }\n",
       "\n",
       "    .dataframe thead th {\n",
       "        text-align: right;\n",
       "    }\n",
       "</style>\n",
       "<table border=\"1\" class=\"dataframe\">\n",
       "  <thead>\n",
       "    <tr style=\"text-align: right;\">\n",
       "      <th></th>\n",
       "      <th>0</th>\n",
       "      <th>1</th>\n",
       "      <th>2</th>\n",
       "      <th>3</th>\n",
       "    </tr>\n",
       "  </thead>\n",
       "  <tbody>\n",
       "    <tr>\n",
       "      <th>640</th>\n",
       "      <td>-0.0</td>\n",
       "      <td>28.0</td>\n",
       "      <td>29600.0</td>\n",
       "      <td>0.0</td>\n",
       "    </tr>\n",
       "    <tr>\n",
       "      <th>4510</th>\n",
       "      <td>-0.0</td>\n",
       "      <td>26.0</td>\n",
       "      <td>57100.0</td>\n",
       "      <td>1.0</td>\n",
       "    </tr>\n",
       "    <tr>\n",
       "      <th>1623</th>\n",
       "      <td>1.0</td>\n",
       "      <td>38.0</td>\n",
       "      <td>41700.0</td>\n",
       "      <td>1.0</td>\n",
       "    </tr>\n",
       "    <tr>\n",
       "      <th>3460</th>\n",
       "      <td>1.0</td>\n",
       "      <td>23.0</td>\n",
       "      <td>34000.0</td>\n",
       "      <td>1.0</td>\n",
       "    </tr>\n",
       "    <tr>\n",
       "      <th>1820</th>\n",
       "      <td>-0.0</td>\n",
       "      <td>45.0</td>\n",
       "      <td>35100.0</td>\n",
       "      <td>2.0</td>\n",
       "    </tr>\n",
       "  </tbody>\n",
       "</table>\n",
       "</div>"
      ],
      "text/plain": [
       "        0     1        2    3\n",
       "640  -0.0  28.0  29600.0  0.0\n",
       "4510 -0.0  26.0  57100.0  1.0\n",
       "1623  1.0  38.0  41700.0  1.0\n",
       "3460  1.0  23.0  34000.0  1.0\n",
       "1820 -0.0  45.0  35100.0  2.0"
      ]
     },
     "metadata": {},
     "output_type": "display_data"
    }
   ],
   "source": [
    "# преобразованная матрица\n",
    "display(np.round(features_train_P @ np.linalg.inv(P)).head())"
   ]
  },
  {
   "cell_type": "markdown",
   "metadata": {},
   "source": [
    "После преобразования исходной матрицы данные не изменились."
   ]
  },
  {
   "cell_type": "markdown",
   "metadata": {},
   "source": [
    "<a name=\"63\"></a> <div style=\"text-align: right\">[Cодержание](#1.-Содержание)</div>\n",
    "### 6.3. Создание матрицы с проверкой её обратимости"
   ]
  },
  {
   "cell_type": "markdown",
   "metadata": {},
   "source": [
    "Сгенерируем матрицу с использованием функции, проверяющей её обратимость.\n",
    "\n",
    "Мы можем избежать лишних шагов и написать функцию, которая будет генерировать матрицу до тех пор, пока мы не получим обратимую, и наш код гарантированно полностью не отработает. \n",
    "\n",
    "Напишем три варианта написания кода для такой функции."
   ]
  },
  {
   "cell_type": "markdown",
   "metadata": {},
   "source": [
    "<a name=\"Вариант-1\"></a>\n",
    "**Вариант 1.**"
   ]
  },
  {
   "cell_type": "code",
   "execution_count": 20,
   "metadata": {},
   "outputs": [
    {
     "name": "stdout",
     "output_type": "stream",
     "text": [
      "[[-0.30488422  1.08823012 -1.42675177  0.21598862]\n",
      " [ 1.21852433 -1.79354683 -1.30151431  0.72673313]\n",
      " [-0.72740416  1.32390879  0.0612446   1.18659259]\n",
      " [-0.27973172 -1.41243842  0.41117511 -1.64824832]]\n"
     ]
    }
   ],
   "source": [
    "def get_rand_matrix():\n",
    "    det = 0\n",
    "    while det == 0:\n",
    "        matrix = np.random.normal(size=(data.shape[1] - 1, data.shape[1] - 1))\n",
    "        det = np.linalg.det(matrix)\n",
    "    return matrix\n",
    "\n",
    "\n",
    "mat = get_rand_matrix()\n",
    "\n",
    "print(mat)"
   ]
  },
  {
   "cell_type": "markdown",
   "metadata": {},
   "source": [
    "**Вариант 2** (с помощью рекурсии)."
   ]
  },
  {
   "cell_type": "code",
   "execution_count": 21,
   "metadata": {},
   "outputs": [
    {
     "name": "stdout",
     "output_type": "stream",
     "text": [
      "[[-0.25310183  1.9781446   0.88081878 -0.49679434]\n",
      " [-1.36079765 -1.20357077  0.92752501  1.20489279]\n",
      " [ 1.43530214 -0.46923689 -3.23293146  0.3998435 ]\n",
      " [ 0.14932065  0.22092826  2.35610711 -0.27456827]]\n"
     ]
    }
   ],
   "source": [
    "def func(dim):\n",
    "    transform_matrix = np.random.rand(dim, dim)\n",
    "    try: \n",
    "        inv = np.linalg.inv(transform_matrix)\n",
    "        return transform_matrix, inv\n",
    "    except:\n",
    "        func(dim)\n",
    "   \n",
    "\n",
    "features_new, inv_P = func(data.shape[1] - 1)\n",
    "\n",
    "print(inv_P)"
   ]
  },
  {
   "cell_type": "markdown",
   "metadata": {},
   "source": [
    "**Вариант 3** (с помощью рекурсии).\n",
    "\n",
    "В этом варианте мы можем вывести и сгенерированную квадратную матрицу, и преобразованные матрицы исходного датасета для обучающей и тестовой выборок."
   ]
  },
  {
   "cell_type": "code",
   "execution_count": 22,
   "metadata": {},
   "outputs": [
    {
     "data": {
      "text/plain": [
       "'Сгенерированная квадратная матрица P'"
      ]
     },
     "metadata": {},
     "output_type": "display_data"
    },
    {
     "data": {
      "text/plain": [
       "array([[-1.31136747,  0.3921804 ,  0.18868055, -0.67088287],\n",
       "       [ 1.75872714,  0.14106138, -0.17773045,  0.79787127],\n",
       "       [-0.41702659, -0.22854768,  0.3550602 ,  0.33039819],\n",
       "       [ 0.58912996,  0.19073027, -0.5545481 ,  0.6259302 ]])"
      ]
     },
     "metadata": {},
     "output_type": "display_data"
    },
    {
     "data": {
      "text/plain": [
       "'Преобразованная исходная матрица для обучающей выборки'"
      ]
     },
     "metadata": {},
     "output_type": "display_data"
    },
    {
     "data": {
      "text/html": [
       "<div>\n",
       "<style scoped>\n",
       "    .dataframe tbody tr th:only-of-type {\n",
       "        vertical-align: middle;\n",
       "    }\n",
       "\n",
       "    .dataframe tbody tr th {\n",
       "        vertical-align: top;\n",
       "    }\n",
       "\n",
       "    .dataframe thead th {\n",
       "        text-align: right;\n",
       "    }\n",
       "</style>\n",
       "<table border=\"1\" class=\"dataframe\">\n",
       "  <thead>\n",
       "    <tr style=\"text-align: right;\">\n",
       "      <th></th>\n",
       "      <th>0</th>\n",
       "      <th>1</th>\n",
       "      <th>2</th>\n",
       "      <th>3</th>\n",
       "    </tr>\n",
       "  </thead>\n",
       "  <tbody>\n",
       "    <tr>\n",
       "      <th>640</th>\n",
       "      <td>22818.109857</td>\n",
       "      <td>36933.483560</td>\n",
       "      <td>29815.406405</td>\n",
       "      <td>-38360.255937</td>\n",
       "    </tr>\n",
       "    <tr>\n",
       "      <th>4510</th>\n",
       "      <td>43962.573897</td>\n",
       "      <td>71207.880912</td>\n",
       "      <td>57514.280840</td>\n",
       "      <td>-74006.013501</td>\n",
       "    </tr>\n",
       "    <tr>\n",
       "      <th>1623</th>\n",
       "      <td>32143.011015</td>\n",
       "      <td>52029.985785</td>\n",
       "      <td>42004.160189</td>\n",
       "      <td>-54041.383197</td>\n",
       "    </tr>\n",
       "    <tr>\n",
       "      <th>3460</th>\n",
       "      <td>26192.050536</td>\n",
       "      <td>42411.537228</td>\n",
       "      <td>34247.408517</td>\n",
       "      <td>-44064.706849</td>\n",
       "    </tr>\n",
       "    <tr>\n",
       "      <th>1820</th>\n",
       "      <td>27081.702232</td>\n",
       "      <td>43813.020335</td>\n",
       "      <td>35359.233139</td>\n",
       "      <td>-45482.909494</td>\n",
       "    </tr>\n",
       "  </tbody>\n",
       "</table>\n",
       "</div>"
      ],
      "text/plain": [
       "                 0             1             2             3\n",
       "640   22818.109857  36933.483560  29815.406405 -38360.255937\n",
       "4510  43962.573897  71207.880912  57514.280840 -74006.013501\n",
       "1623  32143.011015  52029.985785  42004.160189 -54041.383197\n",
       "3460  26192.050536  42411.537228  34247.408517 -44064.706849\n",
       "1820  27081.702232  43813.020335  35359.233139 -45482.909494"
      ]
     },
     "metadata": {},
     "output_type": "display_data"
    },
    {
     "data": {
      "text/plain": [
       "'Преобразованная исходная матрица для тестовой выборки'"
      ]
     },
     "metadata": {},
     "output_type": "display_data"
    },
    {
     "data": {
      "text/html": [
       "<div>\n",
       "<style scoped>\n",
       "    .dataframe tbody tr th:only-of-type {\n",
       "        vertical-align: middle;\n",
       "    }\n",
       "\n",
       "    .dataframe tbody tr th {\n",
       "        vertical-align: top;\n",
       "    }\n",
       "\n",
       "    .dataframe thead th {\n",
       "        text-align: right;\n",
       "    }\n",
       "</style>\n",
       "<table border=\"1\" class=\"dataframe\">\n",
       "  <thead>\n",
       "    <tr style=\"text-align: right;\">\n",
       "      <th></th>\n",
       "      <th>0</th>\n",
       "      <th>1</th>\n",
       "      <th>2</th>\n",
       "      <th>3</th>\n",
       "    </tr>\n",
       "  </thead>\n",
       "  <tbody>\n",
       "    <tr>\n",
       "      <th>1335</th>\n",
       "      <td>36342.873437</td>\n",
       "      <td>58864.246835</td>\n",
       "      <td>47540.955120</td>\n",
       "      <td>-61175.711919</td>\n",
       "    </tr>\n",
       "    <tr>\n",
       "      <th>3875</th>\n",
       "      <td>50741.287476</td>\n",
       "      <td>82185.117058</td>\n",
       "      <td>66376.232278</td>\n",
       "      <td>-85412.510944</td>\n",
       "    </tr>\n",
       "    <tr>\n",
       "      <th>166</th>\n",
       "      <td>26135.081077</td>\n",
       "      <td>42301.056725</td>\n",
       "      <td>34148.971577</td>\n",
       "      <td>-43931.380847</td>\n",
       "    </tr>\n",
       "    <tr>\n",
       "      <th>3003</th>\n",
       "      <td>14919.350981</td>\n",
       "      <td>24110.991065</td>\n",
       "      <td>19445.083842</td>\n",
       "      <td>-25004.306447</td>\n",
       "    </tr>\n",
       "    <tr>\n",
       "      <th>424</th>\n",
       "      <td>21239.096499</td>\n",
       "      <td>34341.509745</td>\n",
       "      <td>27704.686930</td>\n",
       "      <td>-35631.347319</td>\n",
       "    </tr>\n",
       "  </tbody>\n",
       "</table>\n",
       "</div>"
      ],
      "text/plain": [
       "                 0             1             2             3\n",
       "1335  36342.873437  58864.246835  47540.955120 -61175.711919\n",
       "3875  50741.287476  82185.117058  66376.232278 -85412.510944\n",
       "166   26135.081077  42301.056725  34148.971577 -43931.380847\n",
       "3003  14919.350981  24110.991065  19445.083842 -25004.306447\n",
       "424   21239.096499  34341.509745  27704.686930 -35631.347319"
      ]
     },
     "metadata": {},
     "output_type": "display_data"
    }
   ],
   "source": [
    "def func(X, seed):\n",
    "    try:\n",
    "        state = np.random.RandomState(seed=seed)\n",
    "        rand_matrix = state.normal(size=(X.shape[1], X.shape[1])) \n",
    "        inv = np.linalg.inv(rand_matrix)\n",
    "        return X @ rand_matrix, inv\n",
    "    except np.linalg.LinAlgError:\n",
    "        func(X, seed)\n",
    "        \n",
    "        \n",
    "features_train_P, inv_P = func(features_train, RANDOM_STATE)\n",
    "features_test_P, inv_P = func(features_test, RANDOM_STATE)\n",
    "\n",
    "display('Сгенерированная квадратная матрица P', inv_P)\n",
    "display('Преобразованная исходная матрица для обучающей выборки', \n",
    "        features_train_P.head())\n",
    "display('Преобразованная исходная матрица для тестовой выборки', \n",
    "        features_test_P.head())"
   ]
  },
  {
   "cell_type": "markdown",
   "metadata": {},
   "source": [
    "<a name=\"64\"></a> <div style=\"text-align: right\">[Cодержание](#1.-Содержание)</div>\n",
    "### 6.4. Создание класса линейной регрессии `LinearReg`"
   ]
  },
  {
   "cell_type": "markdown",
   "metadata": {},
   "source": [
    "Создадим класс модели **линейной регрессии** `LinearReg`.\n",
    "\n",
    "Применим сокращённую запись формулы линейной регрессии: в обучающую выборку добавим единичный столбец `numpy.ones()`."
   ]
  },
  {
   "cell_type": "code",
   "execution_count": 23,
   "metadata": {},
   "outputs": [],
   "source": [
    "class LinearReg:\n",
    "    def fit(self, train_features, train_target):\n",
    "        X = np.concatenate(\n",
    "            (np.ones((train_features.shape[0], 1)), train_features), axis=1)\n",
    "        y = train_target\n",
    "        w = ((np.linalg.inv(X.T @ X)) @ X.T) @ y\n",
    "        self.w = w[1:]\n",
    "        self.w0 = w[0]\n",
    "\n",
    "    def predict(self, test_features):\n",
    "        return (test_features @ self.w) + self.w0"
   ]
  },
  {
   "cell_type": "markdown",
   "metadata": {},
   "source": [
    "<a name=\"65\"></a> <div style=\"text-align: right\">[Cодержание](#1.-Содержание)</div>\n",
    "### 6.5. Функция для предсказания *R2*"
   ]
  },
  {
   "cell_type": "markdown",
   "metadata": {},
   "source": [
    "Напишем функцию `model()` для предсказания метрики *R2*, применив созданный выше класс модели линейной регрессии `LinearReg`."
   ]
  },
  {
   "cell_type": "code",
   "execution_count": 24,
   "metadata": {},
   "outputs": [],
   "source": [
    "def model(x_train, y_train, x_test, y_test):\n",
    "    model = LinearReg()\n",
    "    model.fit(x_train, y_train)\n",
    "    predictions = model.predict(x_test)\n",
    "    print('R2 модели:', r2_score(y_test, predictions))\n",
    "    print(f'R2 модели (округлённо): {r2_score(y_test, predictions):.2f}')"
   ]
  },
  {
   "cell_type": "markdown",
   "metadata": {},
   "source": [
    "*R2* модели для исходной матрицы."
   ]
  },
  {
   "cell_type": "code",
   "execution_count": 25,
   "metadata": {},
   "outputs": [
    {
     "name": "stdout",
     "output_type": "stream",
     "text": [
      "R2 модели: 0.4160549216151216\n",
      "R2 модели (округлённо): 0.42\n"
     ]
    }
   ],
   "source": [
    "model(features_train, target_train, features_test, target_test)"
   ]
  },
  {
   "cell_type": "markdown",
   "metadata": {},
   "source": [
    "*R2* модели для преобразованной матрицы."
   ]
  },
  {
   "cell_type": "code",
   "execution_count": 26,
   "metadata": {
    "scrolled": true
   },
   "outputs": [
    {
     "name": "stdout",
     "output_type": "stream",
     "text": [
      "R2 модели: 0.4160549011922787\n",
      "R2 модели (округлённо): 0.42\n"
     ]
    }
   ],
   "source": [
    "model(features_train_P, target_train, features_test_P, target_test)"
   ]
  },
  {
   "cell_type": "markdown",
   "metadata": {},
   "source": [
    "<a name=\"66\"></a> <div style=\"text-align: right\">[Cодержание](#1.-Содержание)</div>\n",
    "### 6.6. `Pipeline` для предсказания *R2*"
   ]
  },
  {
   "cell_type": "markdown",
   "metadata": {},
   "source": [
    "Для предсказания метрики *R2* полезно использовать **`Pipeline`**.\n",
    "\n",
    "В узком смысле, `Pipeline` – это модуль `sklearn.pipeline`, который позволяет автоматизировать предварительные преобразования данных перед обучением модели. "
   ]
  },
  {
   "cell_type": "markdown",
   "metadata": {},
   "source": [
    "<a name=\"661\"></a> <div style=\"text-align: right\">[Cодержание](#1.-Содержание)</div>\n",
    "#### 6.1.1. `LinearReg`"
   ]
  },
  {
   "cell_type": "markdown",
   "metadata": {},
   "source": [
    "Построим `Pipeline` с использованием созданного ранее класса модели линейной регрессии `LinearReg`."
   ]
  },
  {
   "cell_type": "markdown",
   "metadata": {},
   "source": [
    "Создадим класс `MatrixTransformer`."
   ]
  },
  {
   "cell_type": "code",
   "execution_count": 27,
   "metadata": {},
   "outputs": [],
   "source": [
    "class MatrixTransformer(BaseEstimator, TransformerMixin):\n",
    "\n",
    "    def __init__(self, variables):\n",
    "        # в конструкторе сохраним имена колонок и \n",
    "        # сгененрируем матрицу преобразования\n",
    "        self.variables = variables\n",
    "        size = len(variables)\n",
    "        rng = np.random.default_rng(seed=RANDOM_STATE)\n",
    "        self.M = rng.normal(size=(size, size))\n",
    "\n",
    "    def fit(self, X, y):\n",
    "        return self\n",
    "\n",
    "    def transform(self, X):\n",
    "        X_tr = X.drop(self.variables, axis=1)\n",
    "        X_tr[self.variables] = X[self.variables] @ self.M\n",
    "        return X_tr"
   ]
  },
  {
   "cell_type": "markdown",
   "metadata": {},
   "source": [
    "Иcпользуем `Pipeline`."
   ]
  },
  {
   "cell_type": "code",
   "execution_count": 28,
   "metadata": {},
   "outputs": [],
   "source": [
    "pipe_1 = Pipeline([\n",
    "    ('transformer', MatrixTransformer(features.columns)),\n",
    "    ('model', LinearReg()),\n",
    "])"
   ]
  },
  {
   "cell_type": "markdown",
   "metadata": {},
   "source": [
    "Обучим модель линейной регрессии на исходных признаках датасета и получим её предсказания метрики *R2*."
   ]
  },
  {
   "cell_type": "code",
   "execution_count": 29,
   "metadata": {},
   "outputs": [
    {
     "data": {
      "text/plain": [
       "0.4160549127767784"
      ]
     },
     "execution_count": 29,
     "metadata": {},
     "output_type": "execute_result"
    }
   ],
   "source": [
    "pipe_1.fit(features_train, target_train)\n",
    "predictions = pipe_1.predict(features_test)\n",
    "r2_score(target_test, predictions)"
   ]
  },
  {
   "cell_type": "markdown",
   "metadata": {},
   "source": [
    "Преобразуем датасет: умножим признаки обучающей и тестовой выборок исходного датасета на сгенерированную случайную квадратную матрицу *P*."
   ]
  },
  {
   "cell_type": "code",
   "execution_count": 30,
   "metadata": {},
   "outputs": [
    {
     "data": {
      "text/html": [
       "<div>\n",
       "<style scoped>\n",
       "    .dataframe tbody tr th:only-of-type {\n",
       "        vertical-align: middle;\n",
       "    }\n",
       "\n",
       "    .dataframe tbody tr th {\n",
       "        vertical-align: top;\n",
       "    }\n",
       "\n",
       "    .dataframe thead th {\n",
       "        text-align: right;\n",
       "    }\n",
       "</style>\n",
       "<table border=\"1\" class=\"dataframe\">\n",
       "  <thead>\n",
       "    <tr style=\"text-align: right;\">\n",
       "      <th></th>\n",
       "      <th>0</th>\n",
       "      <th>1</th>\n",
       "      <th>2</th>\n",
       "      <th>3</th>\n",
       "    </tr>\n",
       "  </thead>\n",
       "  <tbody>\n",
       "    <tr>\n",
       "      <th>640</th>\n",
       "      <td>-2017.632266</td>\n",
       "      <td>29523.015377</td>\n",
       "      <td>13086.253095</td>\n",
       "      <td>-23945.953731</td>\n",
       "    </tr>\n",
       "    <tr>\n",
       "      <th>4510</th>\n",
       "      <td>-3898.419894</td>\n",
       "      <td>56928.588887</td>\n",
       "      <td>25264.810374</td>\n",
       "      <td>-46225.359750</td>\n",
       "    </tr>\n",
       "    <tr>\n",
       "      <th>1623</th>\n",
       "      <td>-2843.820047</td>\n",
       "      <td>41590.949194</td>\n",
       "      <td>18435.706241</td>\n",
       "      <td>-33734.373584</td>\n",
       "    </tr>\n",
       "    <tr>\n",
       "      <th>3460</th>\n",
       "      <td>-2320.472575</td>\n",
       "      <td>33904.784612</td>\n",
       "      <td>15037.502850</td>\n",
       "      <td>-27514.563791</td>\n",
       "    </tr>\n",
       "    <tr>\n",
       "      <th>1820</th>\n",
       "      <td>-2391.857654</td>\n",
       "      <td>35017.321380</td>\n",
       "      <td>15506.603554</td>\n",
       "      <td>-28377.615055</td>\n",
       "    </tr>\n",
       "  </tbody>\n",
       "</table>\n",
       "</div>"
      ],
      "text/plain": [
       "                0             1             2             3\n",
       "640  -2017.632266  29523.015377  13086.253095 -23945.953731\n",
       "4510 -3898.419894  56928.588887  25264.810374 -46225.359750\n",
       "1623 -2843.820047  41590.949194  18435.706241 -33734.373584\n",
       "3460 -2320.472575  33904.784612  15037.502850 -27514.563791\n",
       "1820 -2391.857654  35017.321380  15506.603554 -28377.615055"
      ]
     },
     "metadata": {},
     "output_type": "display_data"
    },
    {
     "data": {
      "text/html": [
       "<div>\n",
       "<style scoped>\n",
       "    .dataframe tbody tr th:only-of-type {\n",
       "        vertical-align: middle;\n",
       "    }\n",
       "\n",
       "    .dataframe tbody tr th {\n",
       "        vertical-align: top;\n",
       "    }\n",
       "\n",
       "    .dataframe thead th {\n",
       "        text-align: right;\n",
       "    }\n",
       "</style>\n",
       "<table border=\"1\" class=\"dataframe\">\n",
       "  <thead>\n",
       "    <tr style=\"text-align: right;\">\n",
       "      <th></th>\n",
       "      <th>0</th>\n",
       "      <th>1</th>\n",
       "      <th>2</th>\n",
       "      <th>3</th>\n",
       "    </tr>\n",
       "  </thead>\n",
       "  <tbody>\n",
       "    <tr>\n",
       "      <th>1335</th>\n",
       "      <td>-3221.852572</td>\n",
       "      <td>47060.862691</td>\n",
       "      <td>20883.987544</td>\n",
       "      <td>-38210.045952</td>\n",
       "    </tr>\n",
       "    <tr>\n",
       "      <th>3875</th>\n",
       "      <td>-4498.205308</td>\n",
       "      <td>65705.255498</td>\n",
       "      <td>29158.062594</td>\n",
       "      <td>-53348.620161</td>\n",
       "    </tr>\n",
       "    <tr>\n",
       "      <th>166</th>\n",
       "      <td>-2312.499122</td>\n",
       "      <td>33812.716537</td>\n",
       "      <td>14984.426408</td>\n",
       "      <td>-27419.689937</td>\n",
       "    </tr>\n",
       "    <tr>\n",
       "      <th>3003</th>\n",
       "      <td>-1313.128120</td>\n",
       "      <td>19265.592166</td>\n",
       "      <td>8514.428280</td>\n",
       "      <td>-15584.785200</td>\n",
       "    </tr>\n",
       "    <tr>\n",
       "      <th>424</th>\n",
       "      <td>-1872.214837</td>\n",
       "      <td>27443.658172</td>\n",
       "      <td>12140.261611</td>\n",
       "      <td>-22219.380925</td>\n",
       "    </tr>\n",
       "  </tbody>\n",
       "</table>\n",
       "</div>"
      ],
      "text/plain": [
       "                0             1             2             3\n",
       "1335 -3221.852572  47060.862691  20883.987544 -38210.045952\n",
       "3875 -4498.205308  65705.255498  29158.062594 -53348.620161\n",
       "166  -2312.499122  33812.716537  14984.426408 -27419.689937\n",
       "3003 -1313.128120  19265.592166   8514.428280 -15584.785200\n",
       "424  -1872.214837  27443.658172  12140.261611 -22219.380925"
      ]
     },
     "metadata": {},
     "output_type": "display_data"
    }
   ],
   "source": [
    "features_train_P = features_train @ P\n",
    "features_test_P = features_test @ P\n",
    "\n",
    "display(features_train_P.head())\n",
    "display(features_test_P.head())"
   ]
  },
  {
   "cell_type": "markdown",
   "metadata": {},
   "source": [
    "После преобразования матриц названия признаков были изменены на индексы от 0 до 3. Восстановим эти названия для того, чтобы сработал наш `Pipeline`."
   ]
  },
  {
   "cell_type": "code",
   "execution_count": 31,
   "metadata": {},
   "outputs": [
    {
     "data": {
      "text/html": [
       "<div>\n",
       "<style scoped>\n",
       "    .dataframe tbody tr th:only-of-type {\n",
       "        vertical-align: middle;\n",
       "    }\n",
       "\n",
       "    .dataframe tbody tr th {\n",
       "        vertical-align: top;\n",
       "    }\n",
       "\n",
       "    .dataframe thead th {\n",
       "        text-align: right;\n",
       "    }\n",
       "</style>\n",
       "<table border=\"1\" class=\"dataframe\">\n",
       "  <thead>\n",
       "    <tr style=\"text-align: right;\">\n",
       "      <th></th>\n",
       "      <th>Пол</th>\n",
       "      <th>Возраст</th>\n",
       "      <th>Зарплата</th>\n",
       "      <th>Члены семьи</th>\n",
       "    </tr>\n",
       "  </thead>\n",
       "  <tbody>\n",
       "    <tr>\n",
       "      <th>640</th>\n",
       "      <td>-2017.632266</td>\n",
       "      <td>29523.015377</td>\n",
       "      <td>13086.253095</td>\n",
       "      <td>-23945.953731</td>\n",
       "    </tr>\n",
       "    <tr>\n",
       "      <th>4510</th>\n",
       "      <td>-3898.419894</td>\n",
       "      <td>56928.588887</td>\n",
       "      <td>25264.810374</td>\n",
       "      <td>-46225.359750</td>\n",
       "    </tr>\n",
       "    <tr>\n",
       "      <th>1623</th>\n",
       "      <td>-2843.820047</td>\n",
       "      <td>41590.949194</td>\n",
       "      <td>18435.706241</td>\n",
       "      <td>-33734.373584</td>\n",
       "    </tr>\n",
       "    <tr>\n",
       "      <th>3460</th>\n",
       "      <td>-2320.472575</td>\n",
       "      <td>33904.784612</td>\n",
       "      <td>15037.502850</td>\n",
       "      <td>-27514.563791</td>\n",
       "    </tr>\n",
       "    <tr>\n",
       "      <th>1820</th>\n",
       "      <td>-2391.857654</td>\n",
       "      <td>35017.321380</td>\n",
       "      <td>15506.603554</td>\n",
       "      <td>-28377.615055</td>\n",
       "    </tr>\n",
       "  </tbody>\n",
       "</table>\n",
       "</div>"
      ],
      "text/plain": [
       "              Пол       Возраст      Зарплата   Члены семьи\n",
       "640  -2017.632266  29523.015377  13086.253095 -23945.953731\n",
       "4510 -3898.419894  56928.588887  25264.810374 -46225.359750\n",
       "1623 -2843.820047  41590.949194  18435.706241 -33734.373584\n",
       "3460 -2320.472575  33904.784612  15037.502850 -27514.563791\n",
       "1820 -2391.857654  35017.321380  15506.603554 -28377.615055"
      ]
     },
     "metadata": {},
     "output_type": "display_data"
    },
    {
     "data": {
      "text/html": [
       "<div>\n",
       "<style scoped>\n",
       "    .dataframe tbody tr th:only-of-type {\n",
       "        vertical-align: middle;\n",
       "    }\n",
       "\n",
       "    .dataframe tbody tr th {\n",
       "        vertical-align: top;\n",
       "    }\n",
       "\n",
       "    .dataframe thead th {\n",
       "        text-align: right;\n",
       "    }\n",
       "</style>\n",
       "<table border=\"1\" class=\"dataframe\">\n",
       "  <thead>\n",
       "    <tr style=\"text-align: right;\">\n",
       "      <th></th>\n",
       "      <th>Пол</th>\n",
       "      <th>Возраст</th>\n",
       "      <th>Зарплата</th>\n",
       "      <th>Члены семьи</th>\n",
       "    </tr>\n",
       "  </thead>\n",
       "  <tbody>\n",
       "    <tr>\n",
       "      <th>1335</th>\n",
       "      <td>-3221.852572</td>\n",
       "      <td>47060.862691</td>\n",
       "      <td>20883.987544</td>\n",
       "      <td>-38210.045952</td>\n",
       "    </tr>\n",
       "    <tr>\n",
       "      <th>3875</th>\n",
       "      <td>-4498.205308</td>\n",
       "      <td>65705.255498</td>\n",
       "      <td>29158.062594</td>\n",
       "      <td>-53348.620161</td>\n",
       "    </tr>\n",
       "    <tr>\n",
       "      <th>166</th>\n",
       "      <td>-2312.499122</td>\n",
       "      <td>33812.716537</td>\n",
       "      <td>14984.426408</td>\n",
       "      <td>-27419.689937</td>\n",
       "    </tr>\n",
       "    <tr>\n",
       "      <th>3003</th>\n",
       "      <td>-1313.128120</td>\n",
       "      <td>19265.592166</td>\n",
       "      <td>8514.428280</td>\n",
       "      <td>-15584.785200</td>\n",
       "    </tr>\n",
       "    <tr>\n",
       "      <th>424</th>\n",
       "      <td>-1872.214837</td>\n",
       "      <td>27443.658172</td>\n",
       "      <td>12140.261611</td>\n",
       "      <td>-22219.380925</td>\n",
       "    </tr>\n",
       "  </tbody>\n",
       "</table>\n",
       "</div>"
      ],
      "text/plain": [
       "              Пол       Возраст      Зарплата   Члены семьи\n",
       "1335 -3221.852572  47060.862691  20883.987544 -38210.045952\n",
       "3875 -4498.205308  65705.255498  29158.062594 -53348.620161\n",
       "166  -2312.499122  33812.716537  14984.426408 -27419.689937\n",
       "3003 -1313.128120  19265.592166   8514.428280 -15584.785200\n",
       "424  -1872.214837  27443.658172  12140.261611 -22219.380925"
      ]
     },
     "metadata": {},
     "output_type": "display_data"
    }
   ],
   "source": [
    "features_train_P.columns = ['Пол', 'Возраст', 'Зарплата', 'Члены семьи']\n",
    "features_test_P.columns = ['Пол', 'Возраст', 'Зарплата', 'Члены семьи']\n",
    "\n",
    "display(features_train_P.head())\n",
    "display(features_test_P.head())"
   ]
  },
  {
   "cell_type": "markdown",
   "metadata": {},
   "source": [
    "Обучим модель линейной регрессии на преобразованных признаках датасета и получим её предсказания метрики *R2*."
   ]
  },
  {
   "cell_type": "code",
   "execution_count": 32,
   "metadata": {},
   "outputs": [
    {
     "data": {
      "text/plain": [
       "0.416060155753738"
      ]
     },
     "execution_count": 32,
     "metadata": {},
     "output_type": "execute_result"
    }
   ],
   "source": [
    "pipe_1.fit(features_train_P, target_train)\n",
    "predictions = pipe_1.predict(features_test_P)\n",
    "r2_score(target_test, predictions)"
   ]
  },
  {
   "cell_type": "markdown",
   "metadata": {},
   "source": [
    "<a name=\"662\"></a> <div style=\"text-align: right\">[Cодержание](#1.-Содержание)</div>\n",
    "#### 6.6.2. `LinearRegression`"
   ]
  },
  {
   "cell_type": "markdown",
   "metadata": {},
   "source": [
    "Построим `Pipeline` с использованием модели **линейной регрессии `LinearRegression`** из модуля `sklearn.linear_model`."
   ]
  },
  {
   "cell_type": "code",
   "execution_count": 33,
   "metadata": {},
   "outputs": [],
   "source": [
    "cypher = get_rand_matrix()\n",
    "\n",
    "pipe_2 = Pipeline(steps=[\n",
    "    (\"cypher\", FunctionTransformer(lambda x: x @ cypher, validate=False)), \n",
    "                           (\"linreg\", LinearRegression())\n",
    "])"
   ]
  },
  {
   "cell_type": "markdown",
   "metadata": {},
   "source": [
    "Обучим модель линейной регрессии на исходных признаках датасета и получим её предсказания метрики *R2*."
   ]
  },
  {
   "cell_type": "code",
   "execution_count": 34,
   "metadata": {},
   "outputs": [
    {
     "data": {
      "text/plain": [
       "0.4160549216150229"
      ]
     },
     "execution_count": 34,
     "metadata": {},
     "output_type": "execute_result"
    }
   ],
   "source": [
    "pipe_2.fit(features_train, target_train)\n",
    "predictions = pipe_2.predict(features_test)\n",
    "r2_score(target_test, predictions)"
   ]
  },
  {
   "cell_type": "markdown",
   "metadata": {},
   "source": [
    "Обучим модель линейной регрессии на преобразованных признаках датасета и получим её предсказания метрики *R2*."
   ]
  },
  {
   "cell_type": "code",
   "execution_count": 35,
   "metadata": {},
   "outputs": [
    {
     "data": {
      "text/plain": [
       "0.4160549216159043"
      ]
     },
     "execution_count": 35,
     "metadata": {},
     "output_type": "execute_result"
    }
   ],
   "source": [
    "pipe_2.fit(features_train_P, target_train)\n",
    "predictions = pipe_2.predict(features_test_P)\n",
    "r2_score(target_test, predictions)"
   ]
  },
  {
   "cell_type": "markdown",
   "metadata": {},
   "source": [
    "<a name=\"663\"></a> <div style=\"text-align: right\">[Cодержание](#1.-Содержание)</div>\n",
    "#### 6.6.3. Вывод по п. 6.6"
   ]
  },
  {
   "cell_type": "markdown",
   "metadata": {},
   "source": [
    "В подразделе [**`Pipeline` для предсказания *R2***](#6.6.-Pipeline-для-предсказания-R2) для предсказания метрики *R2* были выполнены следующие задачи:\n",
    "1. построен `Pipeline` с использованием созданного ранее класса модели линейной регрессии `LinearReg`;\n",
    "2. построен `Pipeline` с использованием модели линейной регрессии `LinearRegression` из модуля `sklearn.linear_model`.\n",
    "\n",
    "\n",
    "В результате выполнения задач этого подраздела было выявлено следующее:\n",
    "- в обоих рассмотренных случаях предсказания метрики *R2* гипотеза подтвердилась: при умножении признаков на обратимую матрицу качество линейной регрессии не меняется."
   ]
  },
  {
   "cell_type": "markdown",
   "metadata": {},
   "source": [
    "<a name=\"67\"></a> <div style=\"text-align: right\">[Cодержание](#1.-Содержание)</div>\n",
    "### 6.7. Вывод"
   ]
  },
  {
   "cell_type": "markdown",
   "metadata": {},
   "source": [
    "В разделе [**Проверка алгоритма**](#6.-Проверка-алгоритма) были выполнены следующие задачи:\n",
    "1. Исходные данные разделены на обучающую и тестовую выборки, выделен целевой признак.\n",
    "2. Создана матрица без использования функции, проверяющей её обратимость.\n",
    "3. Создана матрица с использованием функции, проверяющей её обратимость.\n",
    "4. Создан класс модели линейной регрессии `LinearReg`.\n",
    "5. Для предсказания метрики *R2*:\n",
    "    - написана функция `model()` с использованием созданного ранее класса модели линейной регрессии `LinearReg`;\n",
    "    - построен `Pipeline` с использованием созданного ранее класса модели линейной регрессии `LinearReg`;\n",
    "    - построен `Pipeline` с использованием модели линейной регрессии `LinearRegression` из модуля `sklearn.linear_model`.\n",
    "\n",
    "\n",
    "В результате выполнения задач этого раздела было выявлено следующее:\n",
    "- во всех рассмотренных случаях предсказания метрики *R2* гипотеза подтвердилась: при умножении признаков на обратимую матрицу качество линейной регрессии не меняется."
   ]
  },
  {
   "cell_type": "markdown",
   "metadata": {},
   "source": [
    "<a name=\"7\"></a> <div style=\"text-align: right\">[Cодержание](#1.-Содержание)</div>\n",
    "## 7. Общий вывод"
   ]
  },
  {
   "cell_type": "markdown",
   "metadata": {},
   "source": [
    "Проведено исследование с целью построения модели машинного обучения для преобразования данных, по которым было бы сложно восстановить персональную информацию.\n",
    "\n",
    "Результаты исследования позволят защитить данные клиентов страховой компании «Хоть потоп».\n",
    "\n",
    "Входные данные: данные клиентов страховой компании «Хоть потоп».\n",
    "\n",
    "Перед проведением исследования была сформулирована гипотеза:\n",
    "\n",
    "- Гипотеза: при умножении признаков на обратимую матрицу качество линейной регрессии не меняется.\n",
    "\n",
    "В ходе исследования удалось получить следующие результаты **на тестовой выборке**:\n",
    "\n",
    "1. Предсказания метрики ***R2***, полученные при помощи написанной функции `model()` с использованием созданного класса модели линейной регрессии `LinearReg`:\n",
    "\n",
    "    - ***R2*** = 0.4160549216151216 - для исходной матрицы.\n",
    "    - ***R2*** = 0.4160549011922787 - для преобразованной матрицы.\n",
    "\n",
    "\n",
    "2. Предсказания метрики ***R2***, полученные при помощи `Pipeline` с использованием созданного класса модели линейной регрессии `LinearReg`:\n",
    "\n",
    "    - ***R2*** = 0.4160549127767784 - для исходной матрицы.\n",
    "    - ***R2*** = 0.416060155753738 - для преобразованной матрицы.\n",
    "\n",
    "\n",
    "3. Предсказания метрики ***R2***, полученные при помощи `Pipeline` с использованием модели линейной регрессии `LinearRegression` из модуля `sklearn.linear_model`.\n",
    "\n",
    "    - ***R2*** = 0.4160549216150229 - для исходной матрицы.\n",
    "    - ***R2*** = 0.4160549216159043 - для преобразованной матрицы.\n",
    "\n",
    "Таким образом, **гипотеза подтвердилась**.\n",
    "\n",
    "<b>Общие рекомендации:</b>\n",
    "\n",
    "Специалистам, которые занимаются защитой персональных данных клиентов страховой компании «Хоть потоп», можно применять разработанный метод преобразования данных (умножение матрицы признаков исходного датасета на случайную матрицу), т.к. при преобразовании качество моделей машинного обучения не ухудшается."
   ]
  }
 ],
 "metadata": {
  "ExecuteTimeLog": [
   {
    "duration": 77,
    "start_time": "2022-12-09T23:58:01.715Z"
   },
   {
    "duration": 1777,
    "start_time": "2022-12-10T00:24:45.732Z"
   },
   {
    "duration": 104,
    "start_time": "2022-12-10T00:24:47.511Z"
   },
   {
    "duration": 13,
    "start_time": "2022-12-10T00:28:48.620Z"
   },
   {
    "duration": 17,
    "start_time": "2022-12-10T00:34:47.336Z"
   },
   {
    "duration": 25,
    "start_time": "2022-12-10T00:36:01.508Z"
   },
   {
    "duration": 6,
    "start_time": "2022-12-10T00:36:57.261Z"
   },
   {
    "duration": 7,
    "start_time": "2022-12-10T00:37:05.613Z"
   },
   {
    "duration": 6,
    "start_time": "2022-12-10T00:37:15.901Z"
   },
   {
    "duration": 1597,
    "start_time": "2022-12-10T00:39:04.568Z"
   },
   {
    "duration": 862,
    "start_time": "2022-12-10T00:39:19.571Z"
   },
   {
    "duration": 991,
    "start_time": "2022-12-10T00:40:47.449Z"
   },
   {
    "duration": 1118,
    "start_time": "2022-12-10T00:40:59.179Z"
   },
   {
    "duration": 1183,
    "start_time": "2022-12-10T00:41:53.306Z"
   },
   {
    "duration": 387,
    "start_time": "2022-12-10T00:42:12.872Z"
   },
   {
    "duration": 451,
    "start_time": "2022-12-10T00:42:23.904Z"
   },
   {
    "duration": 419,
    "start_time": "2022-12-10T00:44:02.428Z"
   },
   {
    "duration": 399,
    "start_time": "2022-12-10T00:44:20.691Z"
   },
   {
    "duration": 442,
    "start_time": "2022-12-10T00:44:50.332Z"
   },
   {
    "duration": 555,
    "start_time": "2022-12-10T00:44:57.499Z"
   },
   {
    "duration": 443,
    "start_time": "2022-12-10T00:45:01.610Z"
   },
   {
    "duration": 440,
    "start_time": "2022-12-10T00:45:20.253Z"
   },
   {
    "duration": 7,
    "start_time": "2022-12-10T00:45:55.070Z"
   },
   {
    "duration": 17,
    "start_time": "2022-12-10T00:49:19.601Z"
   },
   {
    "duration": 7,
    "start_time": "2022-12-10T00:49:29.823Z"
   },
   {
    "duration": 377,
    "start_time": "2022-12-10T00:50:07.091Z"
   },
   {
    "duration": 837,
    "start_time": "2022-12-10T00:50:55.079Z"
   },
   {
    "duration": 11,
    "start_time": "2022-12-10T00:57:24.086Z"
   },
   {
    "duration": 990,
    "start_time": "2022-12-10T01:07:13.821Z"
   },
   {
    "duration": 1484,
    "start_time": "2022-12-10T19:33:23.012Z"
   },
   {
    "duration": 83,
    "start_time": "2022-12-10T19:33:24.499Z"
   },
   {
    "duration": 12,
    "start_time": "2022-12-10T19:33:24.584Z"
   },
   {
    "duration": 12,
    "start_time": "2022-12-10T19:33:24.597Z"
   },
   {
    "duration": 28,
    "start_time": "2022-12-10T19:33:24.611Z"
   },
   {
    "duration": 859,
    "start_time": "2022-12-10T19:33:24.640Z"
   },
   {
    "duration": 11,
    "start_time": "2022-12-10T19:33:25.501Z"
   },
   {
    "duration": 395,
    "start_time": "2022-12-10T19:33:25.514Z"
   },
   {
    "duration": 6,
    "start_time": "2022-12-10T19:33:25.911Z"
   },
   {
    "duration": 16,
    "start_time": "2022-12-10T19:33:25.919Z"
   },
   {
    "duration": 12,
    "start_time": "2022-12-10T19:33:25.937Z"
   },
   {
    "duration": 1312,
    "start_time": "2022-12-10T19:34:53.462Z"
   },
   {
    "duration": 33,
    "start_time": "2022-12-10T19:34:54.776Z"
   },
   {
    "duration": 10,
    "start_time": "2022-12-10T19:34:54.810Z"
   },
   {
    "duration": 13,
    "start_time": "2022-12-10T19:34:54.822Z"
   },
   {
    "duration": 22,
    "start_time": "2022-12-10T19:34:54.836Z"
   },
   {
    "duration": 863,
    "start_time": "2022-12-10T19:34:54.860Z"
   },
   {
    "duration": 11,
    "start_time": "2022-12-10T19:34:55.724Z"
   },
   {
    "duration": 407,
    "start_time": "2022-12-10T19:34:55.736Z"
   },
   {
    "duration": 8,
    "start_time": "2022-12-10T19:34:56.145Z"
   },
   {
    "duration": 9,
    "start_time": "2022-12-10T19:34:56.155Z"
   },
   {
    "duration": 9,
    "start_time": "2022-12-10T19:34:56.165Z"
   },
   {
    "duration": 24,
    "start_time": "2022-12-10T19:34:56.175Z"
   },
   {
    "duration": 13,
    "start_time": "2022-12-10T19:34:56.201Z"
   },
   {
    "duration": 1351,
    "start_time": "2022-12-10T19:38:22.675Z"
   },
   {
    "duration": 31,
    "start_time": "2022-12-10T19:38:24.028Z"
   },
   {
    "duration": 10,
    "start_time": "2022-12-10T19:38:24.061Z"
   },
   {
    "duration": 10,
    "start_time": "2022-12-10T19:38:24.072Z"
   },
   {
    "duration": 24,
    "start_time": "2022-12-10T19:38:24.084Z"
   },
   {
    "duration": 865,
    "start_time": "2022-12-10T19:38:24.109Z"
   },
   {
    "duration": 10,
    "start_time": "2022-12-10T19:38:24.976Z"
   },
   {
    "duration": 385,
    "start_time": "2022-12-10T19:38:24.996Z"
   },
   {
    "duration": 4,
    "start_time": "2022-12-10T19:38:25.383Z"
   },
   {
    "duration": 6,
    "start_time": "2022-12-10T19:38:25.396Z"
   },
   {
    "duration": 4,
    "start_time": "2022-12-10T19:38:25.403Z"
   },
   {
    "duration": 5,
    "start_time": "2022-12-10T19:38:25.408Z"
   },
   {
    "duration": 8,
    "start_time": "2022-12-10T19:38:25.414Z"
   },
   {
    "duration": 73,
    "start_time": "2022-12-10T19:38:25.424Z"
   },
   {
    "duration": 99,
    "start_time": "2022-12-10T19:44:33.685Z"
   },
   {
    "duration": 1327,
    "start_time": "2022-12-10T19:44:42.996Z"
   },
   {
    "duration": 32,
    "start_time": "2022-12-10T19:44:44.325Z"
   },
   {
    "duration": 10,
    "start_time": "2022-12-10T19:44:44.359Z"
   },
   {
    "duration": 10,
    "start_time": "2022-12-10T19:44:44.371Z"
   },
   {
    "duration": 21,
    "start_time": "2022-12-10T19:44:44.383Z"
   },
   {
    "duration": 861,
    "start_time": "2022-12-10T19:44:44.406Z"
   },
   {
    "duration": 10,
    "start_time": "2022-12-10T19:44:45.269Z"
   },
   {
    "duration": 389,
    "start_time": "2022-12-10T19:44:45.281Z"
   },
   {
    "duration": 5,
    "start_time": "2022-12-10T19:44:45.672Z"
   },
   {
    "duration": 6,
    "start_time": "2022-12-10T19:44:45.678Z"
   },
   {
    "duration": 106,
    "start_time": "2022-12-10T19:44:45.696Z"
   },
   {
    "duration": 0,
    "start_time": "2022-12-10T19:44:45.804Z"
   },
   {
    "duration": 0,
    "start_time": "2022-12-10T19:44:45.805Z"
   },
   {
    "duration": 0,
    "start_time": "2022-12-10T19:44:45.806Z"
   },
   {
    "duration": 0,
    "start_time": "2022-12-10T19:44:45.807Z"
   },
   {
    "duration": 6,
    "start_time": "2022-12-10T19:44:58.284Z"
   },
   {
    "duration": 6,
    "start_time": "2022-12-10T19:58:32.598Z"
   },
   {
    "duration": 1380,
    "start_time": "2022-12-10T19:58:49.116Z"
   },
   {
    "duration": 33,
    "start_time": "2022-12-10T19:58:50.498Z"
   },
   {
    "duration": 11,
    "start_time": "2022-12-10T19:58:50.534Z"
   },
   {
    "duration": 24,
    "start_time": "2022-12-10T19:58:50.547Z"
   },
   {
    "duration": 23,
    "start_time": "2022-12-10T19:58:50.573Z"
   },
   {
    "duration": 867,
    "start_time": "2022-12-10T19:58:50.598Z"
   },
   {
    "duration": 11,
    "start_time": "2022-12-10T19:58:51.466Z"
   },
   {
    "duration": 403,
    "start_time": "2022-12-10T19:58:51.479Z"
   },
   {
    "duration": 7,
    "start_time": "2022-12-10T19:58:51.884Z"
   },
   {
    "duration": 6,
    "start_time": "2022-12-10T19:58:51.897Z"
   },
   {
    "duration": 6,
    "start_time": "2022-12-10T19:58:51.905Z"
   },
   {
    "duration": 86,
    "start_time": "2022-12-10T19:58:51.913Z"
   },
   {
    "duration": 11,
    "start_time": "2022-12-10T19:58:52.001Z"
   },
   {
    "duration": 85,
    "start_time": "2022-12-10T19:58:52.015Z"
   },
   {
    "duration": 14,
    "start_time": "2022-12-10T19:58:52.102Z"
   },
   {
    "duration": 11,
    "start_time": "2022-12-10T20:05:36.334Z"
   },
   {
    "duration": 9,
    "start_time": "2022-12-10T20:05:43.341Z"
   },
   {
    "duration": 1315,
    "start_time": "2022-12-10T20:10:40.925Z"
   },
   {
    "duration": 33,
    "start_time": "2022-12-10T20:10:42.242Z"
   },
   {
    "duration": 11,
    "start_time": "2022-12-10T20:10:42.277Z"
   },
   {
    "duration": 10,
    "start_time": "2022-12-10T20:10:42.290Z"
   },
   {
    "duration": 22,
    "start_time": "2022-12-10T20:10:42.301Z"
   },
   {
    "duration": 837,
    "start_time": "2022-12-10T20:10:42.324Z"
   },
   {
    "duration": 9,
    "start_time": "2022-12-10T20:10:43.163Z"
   },
   {
    "duration": 385,
    "start_time": "2022-12-10T20:10:43.173Z"
   },
   {
    "duration": 5,
    "start_time": "2022-12-10T20:10:43.560Z"
   },
   {
    "duration": 6,
    "start_time": "2022-12-10T20:10:43.567Z"
   },
   {
    "duration": 26,
    "start_time": "2022-12-10T20:10:43.574Z"
   },
   {
    "duration": 97,
    "start_time": "2022-12-10T20:10:43.601Z"
   },
   {
    "duration": 4,
    "start_time": "2022-12-10T20:10:43.700Z"
   },
   {
    "duration": 5,
    "start_time": "2022-12-10T20:10:43.706Z"
   },
   {
    "duration": 4,
    "start_time": "2022-12-10T20:10:43.713Z"
   },
   {
    "duration": 85,
    "start_time": "2022-12-10T20:10:43.718Z"
   },
   {
    "duration": 7,
    "start_time": "2022-12-10T20:11:31.095Z"
   },
   {
    "duration": 42,
    "start_time": "2022-12-10T20:54:54.661Z"
   },
   {
    "duration": 1339,
    "start_time": "2022-12-10T20:55:03.762Z"
   },
   {
    "duration": 33,
    "start_time": "2022-12-10T20:55:05.103Z"
   },
   {
    "duration": 12,
    "start_time": "2022-12-10T20:55:05.138Z"
   },
   {
    "duration": 40,
    "start_time": "2022-12-10T20:55:05.152Z"
   },
   {
    "duration": 0,
    "start_time": "2022-12-10T20:55:05.194Z"
   },
   {
    "duration": 0,
    "start_time": "2022-12-10T20:55:05.195Z"
   },
   {
    "duration": 0,
    "start_time": "2022-12-10T20:55:05.196Z"
   },
   {
    "duration": 0,
    "start_time": "2022-12-10T20:55:05.198Z"
   },
   {
    "duration": 0,
    "start_time": "2022-12-10T20:55:05.199Z"
   },
   {
    "duration": 0,
    "start_time": "2022-12-10T20:55:05.200Z"
   },
   {
    "duration": 0,
    "start_time": "2022-12-10T20:55:05.201Z"
   },
   {
    "duration": 0,
    "start_time": "2022-12-10T20:55:05.203Z"
   },
   {
    "duration": 0,
    "start_time": "2022-12-10T20:55:05.204Z"
   },
   {
    "duration": 0,
    "start_time": "2022-12-10T20:55:05.206Z"
   },
   {
    "duration": 0,
    "start_time": "2022-12-10T20:55:05.206Z"
   },
   {
    "duration": 0,
    "start_time": "2022-12-10T20:55:05.208Z"
   },
   {
    "duration": 0,
    "start_time": "2022-12-10T20:55:05.209Z"
   },
   {
    "duration": 0,
    "start_time": "2022-12-10T20:55:05.210Z"
   },
   {
    "duration": 0,
    "start_time": "2022-12-10T20:55:05.211Z"
   },
   {
    "duration": 0,
    "start_time": "2022-12-10T20:55:05.212Z"
   },
   {
    "duration": 8,
    "start_time": "2022-12-10T20:55:39.099Z"
   },
   {
    "duration": 9,
    "start_time": "2022-12-10T20:55:48.153Z"
   },
   {
    "duration": 1377,
    "start_time": "2022-12-10T20:56:06.372Z"
   },
   {
    "duration": 32,
    "start_time": "2022-12-10T20:56:07.751Z"
   },
   {
    "duration": 12,
    "start_time": "2022-12-10T20:56:07.785Z"
   },
   {
    "duration": 11,
    "start_time": "2022-12-10T20:56:07.799Z"
   },
   {
    "duration": 20,
    "start_time": "2022-12-10T20:56:07.811Z"
   },
   {
    "duration": 870,
    "start_time": "2022-12-10T20:56:07.833Z"
   },
   {
    "duration": 11,
    "start_time": "2022-12-10T20:56:08.705Z"
   },
   {
    "duration": 357,
    "start_time": "2022-12-10T20:56:08.717Z"
   },
   {
    "duration": 6,
    "start_time": "2022-12-10T20:56:09.075Z"
   },
   {
    "duration": 17,
    "start_time": "2022-12-10T20:56:09.084Z"
   },
   {
    "duration": 4,
    "start_time": "2022-12-10T20:56:09.103Z"
   },
   {
    "duration": 97,
    "start_time": "2022-12-10T20:56:09.109Z"
   },
   {
    "duration": 2,
    "start_time": "2022-12-10T20:56:09.208Z"
   },
   {
    "duration": 4,
    "start_time": "2022-12-10T20:56:09.297Z"
   },
   {
    "duration": 5,
    "start_time": "2022-12-10T20:56:09.303Z"
   },
   {
    "duration": 6,
    "start_time": "2022-12-10T20:56:09.309Z"
   },
   {
    "duration": 42,
    "start_time": "2022-12-10T20:56:09.317Z"
   },
   {
    "duration": 0,
    "start_time": "2022-12-10T20:56:09.361Z"
   },
   {
    "duration": 0,
    "start_time": "2022-12-10T20:56:09.362Z"
   },
   {
    "duration": 4,
    "start_time": "2022-12-10T20:56:31.306Z"
   },
   {
    "duration": 967,
    "start_time": "2022-12-10T20:56:34.796Z"
   },
   {
    "duration": 3,
    "start_time": "2022-12-10T20:58:07.004Z"
   },
   {
    "duration": 4,
    "start_time": "2022-12-10T21:00:00.305Z"
   },
   {
    "duration": 915,
    "start_time": "2022-12-10T21:00:05.395Z"
   },
   {
    "duration": 1453,
    "start_time": "2022-12-10T21:00:12.187Z"
   },
   {
    "duration": 35,
    "start_time": "2022-12-10T21:00:13.642Z"
   },
   {
    "duration": 14,
    "start_time": "2022-12-10T21:00:13.678Z"
   },
   {
    "duration": 14,
    "start_time": "2022-12-10T21:00:13.694Z"
   },
   {
    "duration": 24,
    "start_time": "2022-12-10T21:00:13.710Z"
   },
   {
    "duration": 936,
    "start_time": "2022-12-10T21:00:13.737Z"
   },
   {
    "duration": 21,
    "start_time": "2022-12-10T21:00:14.675Z"
   },
   {
    "duration": 393,
    "start_time": "2022-12-10T21:00:14.698Z"
   },
   {
    "duration": 7,
    "start_time": "2022-12-10T21:00:15.093Z"
   },
   {
    "duration": 16,
    "start_time": "2022-12-10T21:00:15.103Z"
   },
   {
    "duration": 11,
    "start_time": "2022-12-10T21:00:15.122Z"
   },
   {
    "duration": 67,
    "start_time": "2022-12-10T21:00:15.135Z"
   },
   {
    "duration": 3,
    "start_time": "2022-12-10T21:00:15.204Z"
   },
   {
    "duration": 97,
    "start_time": "2022-12-10T21:00:15.209Z"
   },
   {
    "duration": 4,
    "start_time": "2022-12-10T21:00:15.308Z"
   },
   {
    "duration": 6,
    "start_time": "2022-12-10T21:00:15.314Z"
   },
   {
    "duration": 7,
    "start_time": "2022-12-10T21:00:15.322Z"
   },
   {
    "duration": 986,
    "start_time": "2022-12-10T21:00:15.331Z"
   },
   {
    "duration": 0,
    "start_time": "2022-12-10T21:00:16.319Z"
   },
   {
    "duration": 12,
    "start_time": "2022-12-10T21:02:06.163Z"
   },
   {
    "duration": 18,
    "start_time": "2022-12-10T21:02:28.394Z"
   },
   {
    "duration": 8,
    "start_time": "2022-12-10T21:02:31.836Z"
   },
   {
    "duration": 3,
    "start_time": "2022-12-10T21:03:33.597Z"
   },
   {
    "duration": 802,
    "start_time": "2022-12-10T21:03:36.428Z"
   },
   {
    "duration": 1250,
    "start_time": "2022-12-10T21:07:42.149Z"
   },
   {
    "duration": 32,
    "start_time": "2022-12-10T21:07:43.401Z"
   },
   {
    "duration": 11,
    "start_time": "2022-12-10T21:07:43.434Z"
   },
   {
    "duration": 13,
    "start_time": "2022-12-10T21:07:43.446Z"
   },
   {
    "duration": 37,
    "start_time": "2022-12-10T21:07:43.461Z"
   },
   {
    "duration": 814,
    "start_time": "2022-12-10T21:07:43.499Z"
   },
   {
    "duration": 11,
    "start_time": "2022-12-10T21:07:44.315Z"
   },
   {
    "duration": 362,
    "start_time": "2022-12-10T21:07:44.328Z"
   },
   {
    "duration": 6,
    "start_time": "2022-12-10T21:07:44.695Z"
   },
   {
    "duration": 7,
    "start_time": "2022-12-10T21:07:44.702Z"
   },
   {
    "duration": 5,
    "start_time": "2022-12-10T21:07:44.710Z"
   },
   {
    "duration": 88,
    "start_time": "2022-12-10T21:07:44.717Z"
   },
   {
    "duration": 90,
    "start_time": "2022-12-10T21:07:44.807Z"
   },
   {
    "duration": 5,
    "start_time": "2022-12-10T21:07:44.900Z"
   },
   {
    "duration": 9,
    "start_time": "2022-12-10T21:07:44.906Z"
   },
   {
    "duration": 117,
    "start_time": "2022-12-10T21:07:44.916Z"
   },
   {
    "duration": 0,
    "start_time": "2022-12-10T21:07:45.035Z"
   },
   {
    "duration": 0,
    "start_time": "2022-12-10T21:07:45.036Z"
   },
   {
    "duration": 0,
    "start_time": "2022-12-10T21:07:45.037Z"
   },
   {
    "duration": 14,
    "start_time": "2022-12-10T21:08:24.226Z"
   },
   {
    "duration": 1304,
    "start_time": "2022-12-10T21:08:42.641Z"
   },
   {
    "duration": 34,
    "start_time": "2022-12-10T21:08:43.948Z"
   },
   {
    "duration": 11,
    "start_time": "2022-12-10T21:08:43.983Z"
   },
   {
    "duration": 12,
    "start_time": "2022-12-10T21:08:43.996Z"
   },
   {
    "duration": 21,
    "start_time": "2022-12-10T21:08:44.009Z"
   },
   {
    "duration": 820,
    "start_time": "2022-12-10T21:08:44.032Z"
   },
   {
    "duration": 10,
    "start_time": "2022-12-10T21:08:44.854Z"
   },
   {
    "duration": 423,
    "start_time": "2022-12-10T21:08:44.865Z"
   },
   {
    "duration": 9,
    "start_time": "2022-12-10T21:08:45.290Z"
   },
   {
    "duration": 6,
    "start_time": "2022-12-10T21:08:45.302Z"
   },
   {
    "duration": 8,
    "start_time": "2022-12-10T21:08:45.309Z"
   },
   {
    "duration": 83,
    "start_time": "2022-12-10T21:08:45.319Z"
   },
   {
    "duration": 5,
    "start_time": "2022-12-10T21:08:45.404Z"
   },
   {
    "duration": 89,
    "start_time": "2022-12-10T21:08:45.410Z"
   },
   {
    "duration": 12,
    "start_time": "2022-12-10T21:08:45.501Z"
   },
   {
    "duration": 82,
    "start_time": "2022-12-10T21:08:45.514Z"
   },
   {
    "duration": 100,
    "start_time": "2022-12-10T21:08:45.598Z"
   },
   {
    "duration": 965,
    "start_time": "2022-12-10T21:08:45.699Z"
   },
   {
    "duration": 0,
    "start_time": "2022-12-10T21:08:46.666Z"
   },
   {
    "duration": 1335,
    "start_time": "2022-12-10T21:11:51.590Z"
   },
   {
    "duration": 33,
    "start_time": "2022-12-10T21:11:52.926Z"
   },
   {
    "duration": 10,
    "start_time": "2022-12-10T21:11:52.961Z"
   },
   {
    "duration": 11,
    "start_time": "2022-12-10T21:11:52.974Z"
   },
   {
    "duration": 27,
    "start_time": "2022-12-10T21:11:52.986Z"
   },
   {
    "duration": 829,
    "start_time": "2022-12-10T21:11:53.015Z"
   },
   {
    "duration": 10,
    "start_time": "2022-12-10T21:11:53.846Z"
   },
   {
    "duration": 405,
    "start_time": "2022-12-10T21:11:53.858Z"
   },
   {
    "duration": 6,
    "start_time": "2022-12-10T21:11:54.264Z"
   },
   {
    "duration": 5,
    "start_time": "2022-12-10T21:11:54.272Z"
   },
   {
    "duration": 20,
    "start_time": "2022-12-10T21:11:54.279Z"
   },
   {
    "duration": 102,
    "start_time": "2022-12-10T21:11:54.301Z"
   },
   {
    "duration": 5,
    "start_time": "2022-12-10T21:11:54.405Z"
   },
   {
    "duration": 8,
    "start_time": "2022-12-10T21:11:54.412Z"
   },
   {
    "duration": 12,
    "start_time": "2022-12-10T21:11:54.422Z"
   },
   {
    "duration": 66,
    "start_time": "2022-12-10T21:11:54.436Z"
   },
   {
    "duration": 93,
    "start_time": "2022-12-10T21:11:54.504Z"
   },
   {
    "duration": 97,
    "start_time": "2022-12-10T21:11:54.600Z"
   },
   {
    "duration": 953,
    "start_time": "2022-12-10T21:11:54.699Z"
   },
   {
    "duration": 812,
    "start_time": "2022-12-10T21:13:52.105Z"
   },
   {
    "duration": 4,
    "start_time": "2022-12-10T21:16:46.268Z"
   },
   {
    "duration": 731,
    "start_time": "2022-12-10T21:16:48.933Z"
   },
   {
    "duration": 1396,
    "start_time": "2022-12-10T21:16:54.792Z"
   },
   {
    "duration": 33,
    "start_time": "2022-12-10T21:16:56.190Z"
   },
   {
    "duration": 10,
    "start_time": "2022-12-10T21:16:56.224Z"
   },
   {
    "duration": 9,
    "start_time": "2022-12-10T21:16:56.235Z"
   },
   {
    "duration": 20,
    "start_time": "2022-12-10T21:16:56.246Z"
   },
   {
    "duration": 844,
    "start_time": "2022-12-10T21:16:56.268Z"
   },
   {
    "duration": 10,
    "start_time": "2022-12-10T21:16:57.114Z"
   },
   {
    "duration": 343,
    "start_time": "2022-12-10T21:16:57.126Z"
   },
   {
    "duration": 5,
    "start_time": "2022-12-10T21:16:57.471Z"
   },
   {
    "duration": 19,
    "start_time": "2022-12-10T21:16:57.478Z"
   },
   {
    "duration": 5,
    "start_time": "2022-12-10T21:16:57.498Z"
   },
   {
    "duration": 99,
    "start_time": "2022-12-10T21:16:57.505Z"
   },
   {
    "duration": 4,
    "start_time": "2022-12-10T21:16:57.606Z"
   },
   {
    "duration": 2,
    "start_time": "2022-12-10T21:16:57.698Z"
   },
   {
    "duration": 9,
    "start_time": "2022-12-10T21:16:57.701Z"
   },
   {
    "duration": 9,
    "start_time": "2022-12-10T21:16:57.712Z"
   },
   {
    "duration": 175,
    "start_time": "2022-12-10T21:16:57.723Z"
   },
   {
    "duration": 1149,
    "start_time": "2022-12-10T21:16:57.900Z"
   },
   {
    "duration": 0,
    "start_time": "2022-12-10T21:16:59.050Z"
   },
   {
    "duration": 5,
    "start_time": "2022-12-10T22:17:02.933Z"
   },
   {
    "duration": 5,
    "start_time": "2022-12-10T22:17:19.722Z"
   },
   {
    "duration": 10,
    "start_time": "2022-12-10T22:17:23.977Z"
   },
   {
    "duration": 5,
    "start_time": "2022-12-10T22:17:27.646Z"
   },
   {
    "duration": 5,
    "start_time": "2022-12-10T22:17:51.595Z"
   },
   {
    "duration": 5,
    "start_time": "2022-12-10T22:22:25.633Z"
   },
   {
    "duration": 4,
    "start_time": "2022-12-10T22:23:14.312Z"
   },
   {
    "duration": 11,
    "start_time": "2022-12-10T22:26:23.924Z"
   },
   {
    "duration": 1301,
    "start_time": "2022-12-10T22:27:17.351Z"
   },
   {
    "duration": 32,
    "start_time": "2022-12-10T22:27:18.653Z"
   },
   {
    "duration": 11,
    "start_time": "2022-12-10T22:27:18.687Z"
   },
   {
    "duration": 12,
    "start_time": "2022-12-10T22:27:18.699Z"
   },
   {
    "duration": 21,
    "start_time": "2022-12-10T22:27:18.714Z"
   },
   {
    "duration": 868,
    "start_time": "2022-12-10T22:27:18.736Z"
   },
   {
    "duration": 9,
    "start_time": "2022-12-10T22:27:19.606Z"
   },
   {
    "duration": 369,
    "start_time": "2022-12-10T22:27:19.616Z"
   },
   {
    "duration": 10,
    "start_time": "2022-12-10T22:27:19.987Z"
   },
   {
    "duration": 6,
    "start_time": "2022-12-10T22:27:19.998Z"
   },
   {
    "duration": 6,
    "start_time": "2022-12-10T22:27:20.006Z"
   },
   {
    "duration": 6,
    "start_time": "2022-12-10T22:27:20.014Z"
   },
   {
    "duration": 5,
    "start_time": "2022-12-10T22:27:20.021Z"
   },
   {
    "duration": 6,
    "start_time": "2022-12-10T22:27:20.028Z"
   },
   {
    "duration": 241,
    "start_time": "2022-12-10T22:27:20.036Z"
   },
   {
    "duration": 0,
    "start_time": "2022-12-10T22:27:20.278Z"
   },
   {
    "duration": 0,
    "start_time": "2022-12-10T22:27:20.280Z"
   },
   {
    "duration": 0,
    "start_time": "2022-12-10T22:27:20.281Z"
   },
   {
    "duration": 0,
    "start_time": "2022-12-10T22:27:20.282Z"
   },
   {
    "duration": 0,
    "start_time": "2022-12-10T22:27:20.283Z"
   },
   {
    "duration": 0,
    "start_time": "2022-12-10T22:27:20.296Z"
   },
   {
    "duration": 10,
    "start_time": "2022-12-10T22:31:01.705Z"
   },
   {
    "duration": 9,
    "start_time": "2022-12-10T22:33:22.625Z"
   },
   {
    "duration": 10,
    "start_time": "2022-12-10T22:35:28.084Z"
   },
   {
    "duration": 1340,
    "start_time": "2022-12-10T22:35:38.796Z"
   },
   {
    "duration": 34,
    "start_time": "2022-12-10T22:35:40.138Z"
   },
   {
    "duration": 10,
    "start_time": "2022-12-10T22:35:40.174Z"
   },
   {
    "duration": 10,
    "start_time": "2022-12-10T22:35:40.185Z"
   },
   {
    "duration": 20,
    "start_time": "2022-12-10T22:35:40.197Z"
   },
   {
    "duration": 873,
    "start_time": "2022-12-10T22:35:40.219Z"
   },
   {
    "duration": 10,
    "start_time": "2022-12-10T22:35:41.096Z"
   },
   {
    "duration": 373,
    "start_time": "2022-12-10T22:35:41.108Z"
   },
   {
    "duration": 6,
    "start_time": "2022-12-10T22:35:41.482Z"
   },
   {
    "duration": 7,
    "start_time": "2022-12-10T22:35:41.497Z"
   },
   {
    "duration": 4,
    "start_time": "2022-12-10T22:35:41.505Z"
   },
   {
    "duration": 13,
    "start_time": "2022-12-10T22:35:41.510Z"
   },
   {
    "duration": 8,
    "start_time": "2022-12-10T22:35:41.525Z"
   },
   {
    "duration": 6,
    "start_time": "2022-12-10T22:35:41.535Z"
   },
   {
    "duration": 61,
    "start_time": "2022-12-10T22:35:41.543Z"
   },
   {
    "duration": 11,
    "start_time": "2022-12-10T22:35:41.606Z"
   },
   {
    "duration": 8,
    "start_time": "2022-12-10T22:35:41.697Z"
   },
   {
    "duration": 4,
    "start_time": "2022-12-10T22:35:41.707Z"
   },
   {
    "duration": 10,
    "start_time": "2022-12-10T22:35:41.712Z"
   },
   {
    "duration": 73,
    "start_time": "2022-12-10T22:35:41.723Z"
   },
   {
    "duration": 4,
    "start_time": "2022-12-10T22:35:41.799Z"
   },
   {
    "duration": 1020,
    "start_time": "2022-12-10T22:35:41.804Z"
   },
   {
    "duration": 0,
    "start_time": "2022-12-10T22:35:42.825Z"
   },
   {
    "duration": 45,
    "start_time": "2022-12-10T22:37:35.409Z"
   },
   {
    "duration": 7,
    "start_time": "2022-12-10T22:37:44.539Z"
   },
   {
    "duration": 8,
    "start_time": "2022-12-10T22:38:49.092Z"
   },
   {
    "duration": 6,
    "start_time": "2022-12-10T22:38:52.805Z"
   },
   {
    "duration": 8,
    "start_time": "2022-12-10T22:39:12.120Z"
   },
   {
    "duration": 8,
    "start_time": "2022-12-10T22:43:19.755Z"
   },
   {
    "duration": 8,
    "start_time": "2022-12-10T22:44:03.136Z"
   },
   {
    "duration": 4,
    "start_time": "2022-12-10T22:46:14.422Z"
   },
   {
    "duration": 4,
    "start_time": "2022-12-10T22:52:27.843Z"
   },
   {
    "duration": 1259,
    "start_time": "2022-12-10T22:52:36.160Z"
   },
   {
    "duration": 33,
    "start_time": "2022-12-10T22:52:37.421Z"
   },
   {
    "duration": 9,
    "start_time": "2022-12-10T22:52:37.456Z"
   },
   {
    "duration": 10,
    "start_time": "2022-12-10T22:52:37.467Z"
   },
   {
    "duration": 20,
    "start_time": "2022-12-10T22:52:37.480Z"
   },
   {
    "duration": 827,
    "start_time": "2022-12-10T22:52:37.502Z"
   },
   {
    "duration": 10,
    "start_time": "2022-12-10T22:52:38.331Z"
   },
   {
    "duration": 360,
    "start_time": "2022-12-10T22:52:38.342Z"
   },
   {
    "duration": 5,
    "start_time": "2022-12-10T22:52:38.704Z"
   },
   {
    "duration": 7,
    "start_time": "2022-12-10T22:52:38.710Z"
   },
   {
    "duration": 4,
    "start_time": "2022-12-10T22:52:38.718Z"
   },
   {
    "duration": 6,
    "start_time": "2022-12-10T22:52:38.724Z"
   },
   {
    "duration": 5,
    "start_time": "2022-12-10T22:52:38.732Z"
   },
   {
    "duration": 6,
    "start_time": "2022-12-10T22:52:38.739Z"
   },
   {
    "duration": 57,
    "start_time": "2022-12-10T22:52:38.747Z"
   },
   {
    "duration": 96,
    "start_time": "2022-12-10T22:52:38.806Z"
   },
   {
    "duration": 5,
    "start_time": "2022-12-10T22:52:38.904Z"
   },
   {
    "duration": 4,
    "start_time": "2022-12-10T22:52:38.910Z"
   },
   {
    "duration": 10,
    "start_time": "2022-12-10T22:52:38.916Z"
   },
   {
    "duration": 72,
    "start_time": "2022-12-10T22:52:38.928Z"
   },
   {
    "duration": 13,
    "start_time": "2022-12-10T22:52:39.002Z"
   },
   {
    "duration": 184,
    "start_time": "2022-12-10T22:52:39.097Z"
   },
   {
    "duration": 0,
    "start_time": "2022-12-10T22:52:39.283Z"
   },
   {
    "duration": 6,
    "start_time": "2022-12-10T22:55:42.127Z"
   },
   {
    "duration": 5,
    "start_time": "2022-12-10T22:55:44.899Z"
   },
   {
    "duration": 1344,
    "start_time": "2022-12-10T22:55:54.998Z"
   },
   {
    "duration": 32,
    "start_time": "2022-12-10T22:55:56.343Z"
   },
   {
    "duration": 10,
    "start_time": "2022-12-10T22:55:56.376Z"
   },
   {
    "duration": 9,
    "start_time": "2022-12-10T22:55:56.388Z"
   },
   {
    "duration": 21,
    "start_time": "2022-12-10T22:55:56.398Z"
   },
   {
    "duration": 828,
    "start_time": "2022-12-10T22:55:56.420Z"
   },
   {
    "duration": 10,
    "start_time": "2022-12-10T22:55:57.250Z"
   },
   {
    "duration": 391,
    "start_time": "2022-12-10T22:55:57.261Z"
   },
   {
    "duration": 5,
    "start_time": "2022-12-10T22:55:57.654Z"
   },
   {
    "duration": 6,
    "start_time": "2022-12-10T22:55:57.661Z"
   },
   {
    "duration": 4,
    "start_time": "2022-12-10T22:55:57.668Z"
   },
   {
    "duration": 25,
    "start_time": "2022-12-10T22:55:57.673Z"
   },
   {
    "duration": 4,
    "start_time": "2022-12-10T22:55:57.700Z"
   },
   {
    "duration": 12,
    "start_time": "2022-12-10T22:55:57.706Z"
   },
   {
    "duration": 11,
    "start_time": "2022-12-10T22:55:57.720Z"
   },
   {
    "duration": 14,
    "start_time": "2022-12-10T22:55:57.797Z"
   },
   {
    "duration": 86,
    "start_time": "2022-12-10T22:55:57.812Z"
   },
   {
    "duration": 4,
    "start_time": "2022-12-10T22:55:57.900Z"
   },
   {
    "duration": 11,
    "start_time": "2022-12-10T22:55:57.906Z"
   },
   {
    "duration": 79,
    "start_time": "2022-12-10T22:55:57.919Z"
   },
   {
    "duration": 12,
    "start_time": "2022-12-10T22:55:58.000Z"
   },
   {
    "duration": 6,
    "start_time": "2022-12-10T22:55:58.095Z"
   },
   {
    "duration": 94,
    "start_time": "2022-12-10T22:55:58.103Z"
   },
   {
    "duration": 182,
    "start_time": "2022-12-10T22:55:58.199Z"
   },
   {
    "duration": 4,
    "start_time": "2022-12-10T22:57:37.235Z"
   },
   {
    "duration": 3,
    "start_time": "2022-12-10T22:57:53.545Z"
   },
   {
    "duration": 4,
    "start_time": "2022-12-10T23:00:23.222Z"
   },
   {
    "duration": 1351,
    "start_time": "2022-12-10T23:00:29.086Z"
   },
   {
    "duration": 33,
    "start_time": "2022-12-10T23:00:30.439Z"
   },
   {
    "duration": 11,
    "start_time": "2022-12-10T23:00:30.473Z"
   },
   {
    "duration": 33,
    "start_time": "2022-12-10T23:00:30.486Z"
   },
   {
    "duration": 45,
    "start_time": "2022-12-10T23:00:30.521Z"
   },
   {
    "duration": 865,
    "start_time": "2022-12-10T23:00:30.568Z"
   },
   {
    "duration": 10,
    "start_time": "2022-12-10T23:00:31.434Z"
   },
   {
    "duration": 392,
    "start_time": "2022-12-10T23:00:31.447Z"
   },
   {
    "duration": 5,
    "start_time": "2022-12-10T23:00:31.841Z"
   },
   {
    "duration": 21,
    "start_time": "2022-12-10T23:00:31.847Z"
   },
   {
    "duration": 13,
    "start_time": "2022-12-10T23:00:31.870Z"
   },
   {
    "duration": 33,
    "start_time": "2022-12-10T23:00:31.884Z"
   },
   {
    "duration": 13,
    "start_time": "2022-12-10T23:00:31.918Z"
   },
   {
    "duration": 7,
    "start_time": "2022-12-10T23:00:31.934Z"
   },
   {
    "duration": 15,
    "start_time": "2022-12-10T23:00:31.942Z"
   },
   {
    "duration": 10,
    "start_time": "2022-12-10T23:00:31.997Z"
   },
   {
    "duration": 88,
    "start_time": "2022-12-10T23:00:32.009Z"
   },
   {
    "duration": 15,
    "start_time": "2022-12-10T23:00:32.098Z"
   },
   {
    "duration": 11,
    "start_time": "2022-12-10T23:00:32.114Z"
   },
   {
    "duration": 71,
    "start_time": "2022-12-10T23:00:32.127Z"
   },
   {
    "duration": 7,
    "start_time": "2022-12-10T23:00:32.200Z"
   },
   {
    "duration": 92,
    "start_time": "2022-12-10T23:00:32.209Z"
   },
   {
    "duration": 7,
    "start_time": "2022-12-10T23:00:32.304Z"
   },
   {
    "duration": 3,
    "start_time": "2022-12-10T23:01:23.584Z"
   },
   {
    "duration": 6,
    "start_time": "2022-12-10T23:01:26.067Z"
   },
   {
    "duration": 6,
    "start_time": "2022-12-10T23:01:28.386Z"
   },
   {
    "duration": 981,
    "start_time": "2022-12-10T23:23:28.722Z"
   },
   {
    "duration": 36,
    "start_time": "2022-12-10T23:23:29.705Z"
   },
   {
    "duration": 11,
    "start_time": "2022-12-10T23:23:29.742Z"
   },
   {
    "duration": 10,
    "start_time": "2022-12-10T23:23:29.755Z"
   },
   {
    "duration": 23,
    "start_time": "2022-12-10T23:23:29.767Z"
   },
   {
    "duration": 1058,
    "start_time": "2022-12-10T23:23:29.791Z"
   },
   {
    "duration": 0,
    "start_time": "2022-12-10T23:23:30.851Z"
   },
   {
    "duration": 0,
    "start_time": "2022-12-10T23:23:30.852Z"
   },
   {
    "duration": 0,
    "start_time": "2022-12-10T23:23:30.853Z"
   },
   {
    "duration": 0,
    "start_time": "2022-12-10T23:23:30.854Z"
   },
   {
    "duration": 0,
    "start_time": "2022-12-10T23:23:30.856Z"
   },
   {
    "duration": 0,
    "start_time": "2022-12-10T23:23:30.857Z"
   },
   {
    "duration": 0,
    "start_time": "2022-12-10T23:23:30.858Z"
   },
   {
    "duration": 0,
    "start_time": "2022-12-10T23:23:30.859Z"
   },
   {
    "duration": 0,
    "start_time": "2022-12-10T23:23:30.860Z"
   },
   {
    "duration": 0,
    "start_time": "2022-12-10T23:23:30.861Z"
   },
   {
    "duration": 0,
    "start_time": "2022-12-10T23:23:30.862Z"
   },
   {
    "duration": 0,
    "start_time": "2022-12-10T23:23:30.863Z"
   },
   {
    "duration": 0,
    "start_time": "2022-12-10T23:23:30.864Z"
   },
   {
    "duration": 0,
    "start_time": "2022-12-10T23:23:30.865Z"
   },
   {
    "duration": 0,
    "start_time": "2022-12-10T23:23:30.867Z"
   },
   {
    "duration": 1041,
    "start_time": "2022-12-10T23:24:00.865Z"
   },
   {
    "duration": 36,
    "start_time": "2022-12-10T23:24:01.909Z"
   },
   {
    "duration": 9,
    "start_time": "2022-12-10T23:24:01.947Z"
   },
   {
    "duration": 10,
    "start_time": "2022-12-10T23:24:01.958Z"
   },
   {
    "duration": 24,
    "start_time": "2022-12-10T23:24:01.970Z"
   },
   {
    "duration": 1078,
    "start_time": "2022-12-10T23:24:01.995Z"
   },
   {
    "duration": 0,
    "start_time": "2022-12-10T23:24:03.075Z"
   },
   {
    "duration": 0,
    "start_time": "2022-12-10T23:24:03.077Z"
   },
   {
    "duration": 0,
    "start_time": "2022-12-10T23:24:03.077Z"
   },
   {
    "duration": 0,
    "start_time": "2022-12-10T23:24:03.078Z"
   },
   {
    "duration": 0,
    "start_time": "2022-12-10T23:24:03.079Z"
   },
   {
    "duration": 0,
    "start_time": "2022-12-10T23:24:03.096Z"
   },
   {
    "duration": 0,
    "start_time": "2022-12-10T23:24:03.097Z"
   },
   {
    "duration": 0,
    "start_time": "2022-12-10T23:24:03.099Z"
   },
   {
    "duration": 0,
    "start_time": "2022-12-10T23:24:03.100Z"
   },
   {
    "duration": 0,
    "start_time": "2022-12-10T23:24:03.101Z"
   },
   {
    "duration": 0,
    "start_time": "2022-12-10T23:24:03.102Z"
   },
   {
    "duration": 1,
    "start_time": "2022-12-10T23:24:03.102Z"
   },
   {
    "duration": 0,
    "start_time": "2022-12-10T23:24:03.103Z"
   },
   {
    "duration": 0,
    "start_time": "2022-12-10T23:24:03.104Z"
   },
   {
    "duration": 0,
    "start_time": "2022-12-10T23:24:03.105Z"
   },
   {
    "duration": 1215,
    "start_time": "2022-12-10T23:24:49.713Z"
   },
   {
    "duration": 32,
    "start_time": "2022-12-10T23:24:50.930Z"
   },
   {
    "duration": 11,
    "start_time": "2022-12-10T23:24:50.964Z"
   },
   {
    "duration": 10,
    "start_time": "2022-12-10T23:24:50.977Z"
   },
   {
    "duration": 24,
    "start_time": "2022-12-10T23:24:50.990Z"
   },
   {
    "duration": 775,
    "start_time": "2022-12-10T23:24:51.016Z"
   },
   {
    "duration": 13,
    "start_time": "2022-12-10T23:24:51.792Z"
   },
   {
    "duration": 120,
    "start_time": "2022-12-10T23:24:51.807Z"
   },
   {
    "duration": 0,
    "start_time": "2022-12-10T23:24:51.929Z"
   },
   {
    "duration": 0,
    "start_time": "2022-12-10T23:24:51.930Z"
   },
   {
    "duration": 0,
    "start_time": "2022-12-10T23:24:51.931Z"
   },
   {
    "duration": 0,
    "start_time": "2022-12-10T23:24:51.932Z"
   },
   {
    "duration": 0,
    "start_time": "2022-12-10T23:24:51.933Z"
   },
   {
    "duration": 0,
    "start_time": "2022-12-10T23:24:51.934Z"
   },
   {
    "duration": 0,
    "start_time": "2022-12-10T23:24:51.935Z"
   },
   {
    "duration": 0,
    "start_time": "2022-12-10T23:24:51.937Z"
   },
   {
    "duration": 0,
    "start_time": "2022-12-10T23:24:51.938Z"
   },
   {
    "duration": 0,
    "start_time": "2022-12-10T23:24:51.939Z"
   },
   {
    "duration": 0,
    "start_time": "2022-12-10T23:24:51.940Z"
   },
   {
    "duration": 0,
    "start_time": "2022-12-10T23:24:51.941Z"
   },
   {
    "duration": 0,
    "start_time": "2022-12-10T23:24:51.942Z"
   },
   {
    "duration": 1353,
    "start_time": "2022-12-10T23:25:31.487Z"
   },
   {
    "duration": 33,
    "start_time": "2022-12-10T23:25:32.842Z"
   },
   {
    "duration": 11,
    "start_time": "2022-12-10T23:25:32.877Z"
   },
   {
    "duration": 11,
    "start_time": "2022-12-10T23:25:32.890Z"
   },
   {
    "duration": 23,
    "start_time": "2022-12-10T23:25:32.903Z"
   },
   {
    "duration": 791,
    "start_time": "2022-12-10T23:25:32.928Z"
   },
   {
    "duration": 10,
    "start_time": "2022-12-10T23:25:33.720Z"
   },
   {
    "duration": 443,
    "start_time": "2022-12-10T23:25:33.731Z"
   },
   {
    "duration": 5,
    "start_time": "2022-12-10T23:25:34.175Z"
   },
   {
    "duration": 15,
    "start_time": "2022-12-10T23:25:34.182Z"
   },
   {
    "duration": 6,
    "start_time": "2022-12-10T23:25:34.199Z"
   },
   {
    "duration": 7,
    "start_time": "2022-12-10T23:25:34.206Z"
   },
   {
    "duration": 6,
    "start_time": "2022-12-10T23:25:34.215Z"
   },
   {
    "duration": 7,
    "start_time": "2022-12-10T23:25:34.222Z"
   },
   {
    "duration": 11,
    "start_time": "2022-12-10T23:25:34.230Z"
   },
   {
    "duration": 11,
    "start_time": "2022-12-10T23:25:34.297Z"
   },
   {
    "duration": 5,
    "start_time": "2022-12-10T23:25:34.309Z"
   },
   {
    "duration": 91,
    "start_time": "2022-12-10T23:25:34.315Z"
   },
   {
    "duration": 5,
    "start_time": "2022-12-10T23:25:34.408Z"
   },
   {
    "duration": 14,
    "start_time": "2022-12-10T23:25:34.415Z"
   },
   {
    "duration": 69,
    "start_time": "2022-12-10T23:25:34.431Z"
   },
   {
    "duration": 14,
    "start_time": "2022-12-11T00:10:49.060Z"
   },
   {
    "duration": 8,
    "start_time": "2022-12-11T00:11:04.658Z"
   },
   {
    "duration": 9,
    "start_time": "2022-12-11T00:11:12.507Z"
   },
   {
    "duration": 158,
    "start_time": "2022-12-11T00:12:30.183Z"
   },
   {
    "duration": 11,
    "start_time": "2022-12-11T00:13:00.723Z"
   },
   {
    "duration": 12,
    "start_time": "2022-12-11T00:14:35.576Z"
   },
   {
    "duration": 9,
    "start_time": "2022-12-11T00:18:13.789Z"
   },
   {
    "duration": 12,
    "start_time": "2022-12-11T00:18:16.665Z"
   },
   {
    "duration": 1289,
    "start_time": "2022-12-11T00:18:42.677Z"
   },
   {
    "duration": 32,
    "start_time": "2022-12-11T00:18:43.968Z"
   },
   {
    "duration": 11,
    "start_time": "2022-12-11T00:18:44.001Z"
   },
   {
    "duration": 12,
    "start_time": "2022-12-11T00:18:44.013Z"
   },
   {
    "duration": 20,
    "start_time": "2022-12-11T00:18:44.026Z"
   },
   {
    "duration": 753,
    "start_time": "2022-12-11T00:18:44.048Z"
   },
   {
    "duration": 9,
    "start_time": "2022-12-11T00:18:44.803Z"
   },
   {
    "duration": 452,
    "start_time": "2022-12-11T00:18:44.814Z"
   },
   {
    "duration": 5,
    "start_time": "2022-12-11T00:18:45.268Z"
   },
   {
    "duration": 9,
    "start_time": "2022-12-11T00:18:45.274Z"
   },
   {
    "duration": 14,
    "start_time": "2022-12-11T00:18:45.284Z"
   },
   {
    "duration": 8,
    "start_time": "2022-12-11T00:18:45.300Z"
   },
   {
    "duration": 6,
    "start_time": "2022-12-11T00:18:45.309Z"
   },
   {
    "duration": 5,
    "start_time": "2022-12-11T00:18:45.317Z"
   },
   {
    "duration": 75,
    "start_time": "2022-12-11T00:18:45.323Z"
   },
   {
    "duration": 9,
    "start_time": "2022-12-11T00:18:45.400Z"
   },
   {
    "duration": 88,
    "start_time": "2022-12-11T00:18:45.411Z"
   },
   {
    "duration": 13,
    "start_time": "2022-12-11T00:18:45.501Z"
   },
   {
    "duration": 81,
    "start_time": "2022-12-11T00:18:45.516Z"
   },
   {
    "duration": 8,
    "start_time": "2022-12-11T00:18:45.599Z"
   },
   {
    "duration": 9,
    "start_time": "2022-12-11T00:18:45.608Z"
   },
   {
    "duration": 87,
    "start_time": "2022-12-11T00:18:45.618Z"
   },
   {
    "duration": 7,
    "start_time": "2022-12-11T00:18:45.707Z"
   },
   {
    "duration": 1311,
    "start_time": "2022-12-11T00:20:15.685Z"
   },
   {
    "duration": 31,
    "start_time": "2022-12-11T00:20:16.998Z"
   },
   {
    "duration": 10,
    "start_time": "2022-12-11T00:20:17.031Z"
   },
   {
    "duration": 10,
    "start_time": "2022-12-11T00:20:17.043Z"
   },
   {
    "duration": 26,
    "start_time": "2022-12-11T00:20:17.055Z"
   },
   {
    "duration": 743,
    "start_time": "2022-12-11T00:20:17.083Z"
   },
   {
    "duration": 9,
    "start_time": "2022-12-11T00:20:17.828Z"
   },
   {
    "duration": 428,
    "start_time": "2022-12-11T00:20:17.838Z"
   },
   {
    "duration": 5,
    "start_time": "2022-12-11T00:20:18.268Z"
   },
   {
    "duration": 7,
    "start_time": "2022-12-11T00:20:18.274Z"
   },
   {
    "duration": 5,
    "start_time": "2022-12-11T00:20:18.297Z"
   },
   {
    "duration": 6,
    "start_time": "2022-12-11T00:20:18.303Z"
   },
   {
    "duration": 10,
    "start_time": "2022-12-11T00:20:18.310Z"
   },
   {
    "duration": 5,
    "start_time": "2022-12-11T00:20:18.323Z"
   },
   {
    "duration": 77,
    "start_time": "2022-12-11T00:20:18.329Z"
   },
   {
    "duration": 88,
    "start_time": "2022-12-11T00:20:18.408Z"
   },
   {
    "duration": 8,
    "start_time": "2022-12-11T00:20:18.498Z"
   },
   {
    "duration": 13,
    "start_time": "2022-12-11T00:20:18.508Z"
   },
   {
    "duration": 5,
    "start_time": "2022-12-11T00:20:18.523Z"
   },
   {
    "duration": 74,
    "start_time": "2022-12-11T00:20:18.529Z"
   },
   {
    "duration": 91,
    "start_time": "2022-12-11T00:20:18.605Z"
   },
   {
    "duration": 9,
    "start_time": "2022-12-11T00:20:18.698Z"
   },
   {
    "duration": 88,
    "start_time": "2022-12-11T00:20:18.709Z"
   },
   {
    "duration": 1360,
    "start_time": "2022-12-11T00:21:15.587Z"
   },
   {
    "duration": 33,
    "start_time": "2022-12-11T00:21:16.949Z"
   },
   {
    "duration": 11,
    "start_time": "2022-12-11T00:21:16.983Z"
   },
   {
    "duration": 16,
    "start_time": "2022-12-11T00:21:16.996Z"
   },
   {
    "duration": 23,
    "start_time": "2022-12-11T00:21:17.014Z"
   },
   {
    "duration": 835,
    "start_time": "2022-12-11T00:21:17.038Z"
   },
   {
    "duration": 11,
    "start_time": "2022-12-11T00:21:17.874Z"
   },
   {
    "duration": 481,
    "start_time": "2022-12-11T00:21:17.897Z"
   },
   {
    "duration": 18,
    "start_time": "2022-12-11T00:21:18.380Z"
   },
   {
    "duration": 7,
    "start_time": "2022-12-11T00:21:18.399Z"
   },
   {
    "duration": 4,
    "start_time": "2022-12-11T00:21:18.407Z"
   },
   {
    "duration": 6,
    "start_time": "2022-12-11T00:21:18.413Z"
   },
   {
    "duration": 7,
    "start_time": "2022-12-11T00:21:18.421Z"
   },
   {
    "duration": 6,
    "start_time": "2022-12-11T00:21:18.430Z"
   },
   {
    "duration": 66,
    "start_time": "2022-12-11T00:21:18.437Z"
   },
   {
    "duration": 9,
    "start_time": "2022-12-11T00:21:18.505Z"
   },
   {
    "duration": 9,
    "start_time": "2022-12-11T00:21:18.596Z"
   },
   {
    "duration": 21,
    "start_time": "2022-12-11T00:21:18.606Z"
   },
   {
    "duration": 70,
    "start_time": "2022-12-11T00:21:18.629Z"
   },
   {
    "duration": 10,
    "start_time": "2022-12-11T00:21:18.701Z"
   },
   {
    "duration": 91,
    "start_time": "2022-12-11T00:21:18.713Z"
   },
   {
    "duration": 11,
    "start_time": "2022-12-11T00:21:18.806Z"
   },
   {
    "duration": 82,
    "start_time": "2022-12-11T00:21:18.819Z"
   },
   {
    "duration": 2041,
    "start_time": "2022-12-11T09:24:11.496Z"
   },
   {
    "duration": 100,
    "start_time": "2022-12-11T09:24:13.539Z"
   },
   {
    "duration": 13,
    "start_time": "2022-12-11T09:24:13.640Z"
   },
   {
    "duration": 14,
    "start_time": "2022-12-11T09:24:13.654Z"
   },
   {
    "duration": 30,
    "start_time": "2022-12-11T09:24:13.671Z"
   },
   {
    "duration": 859,
    "start_time": "2022-12-11T09:24:13.703Z"
   },
   {
    "duration": 17,
    "start_time": "2022-12-11T09:24:14.564Z"
   },
   {
    "duration": 497,
    "start_time": "2022-12-11T09:24:14.583Z"
   },
   {
    "duration": 6,
    "start_time": "2022-12-11T09:24:15.082Z"
   },
   {
    "duration": 14,
    "start_time": "2022-12-11T09:24:15.089Z"
   },
   {
    "duration": 4,
    "start_time": "2022-12-11T09:24:15.105Z"
   },
   {
    "duration": 10,
    "start_time": "2022-12-11T09:24:15.111Z"
   },
   {
    "duration": 9,
    "start_time": "2022-12-11T09:24:15.122Z"
   },
   {
    "duration": 10,
    "start_time": "2022-12-11T09:24:15.134Z"
   },
   {
    "duration": 11,
    "start_time": "2022-12-11T09:24:15.179Z"
   },
   {
    "duration": 92,
    "start_time": "2022-12-11T09:24:15.192Z"
   },
   {
    "duration": 10,
    "start_time": "2022-12-11T09:24:15.286Z"
   },
   {
    "duration": 18,
    "start_time": "2022-12-11T09:24:15.297Z"
   },
   {
    "duration": 64,
    "start_time": "2022-12-11T09:24:15.317Z"
   },
   {
    "duration": 8,
    "start_time": "2022-12-11T09:24:15.384Z"
   },
   {
    "duration": 85,
    "start_time": "2022-12-11T09:24:15.394Z"
   },
   {
    "duration": 11,
    "start_time": "2022-12-11T09:24:15.481Z"
   },
   {
    "duration": 86,
    "start_time": "2022-12-11T09:24:15.493Z"
   },
   {
    "duration": 48,
    "start_time": "2022-12-11T11:25:29.589Z"
   },
   {
    "duration": 1461,
    "start_time": "2022-12-11T11:25:37.576Z"
   },
   {
    "duration": 85,
    "start_time": "2022-12-11T11:25:39.039Z"
   },
   {
    "duration": 11,
    "start_time": "2022-12-11T11:25:39.126Z"
   },
   {
    "duration": 10,
    "start_time": "2022-12-11T11:25:39.139Z"
   },
   {
    "duration": 23,
    "start_time": "2022-12-11T11:25:39.152Z"
   },
   {
    "duration": 785,
    "start_time": "2022-12-11T11:25:39.177Z"
   },
   {
    "duration": 10,
    "start_time": "2022-12-11T11:25:39.964Z"
   },
   {
    "duration": 526,
    "start_time": "2022-12-11T11:25:39.976Z"
   },
   {
    "duration": 5,
    "start_time": "2022-12-11T11:25:40.504Z"
   },
   {
    "duration": 8,
    "start_time": "2022-12-11T11:25:40.511Z"
   },
   {
    "duration": 3,
    "start_time": "2022-12-11T11:25:40.521Z"
   },
   {
    "duration": 8,
    "start_time": "2022-12-11T11:25:40.526Z"
   },
   {
    "duration": 7,
    "start_time": "2022-12-11T11:25:40.536Z"
   },
   {
    "duration": 5,
    "start_time": "2022-12-11T11:25:40.545Z"
   },
   {
    "duration": 47,
    "start_time": "2022-12-11T11:25:40.551Z"
   },
   {
    "duration": 14,
    "start_time": "2022-12-11T11:25:40.600Z"
   },
   {
    "duration": 88,
    "start_time": "2022-12-11T11:25:40.615Z"
   },
   {
    "duration": 10,
    "start_time": "2022-12-11T11:25:40.705Z"
   },
   {
    "duration": 15,
    "start_time": "2022-12-11T11:25:40.717Z"
   },
   {
    "duration": 68,
    "start_time": "2022-12-11T11:25:40.733Z"
   },
   {
    "duration": 14,
    "start_time": "2022-12-11T11:25:40.803Z"
   },
   {
    "duration": 79,
    "start_time": "2022-12-11T11:25:40.818Z"
   },
   {
    "duration": 12,
    "start_time": "2022-12-11T11:25:40.898Z"
   },
   {
    "duration": 88,
    "start_time": "2022-12-11T11:25:40.912Z"
   },
   {
    "duration": 5,
    "start_time": "2022-12-11T11:26:39.272Z"
   },
   {
    "duration": 4,
    "start_time": "2022-12-11T15:00:41.420Z"
   },
   {
    "duration": 1327,
    "start_time": "2022-12-11T15:00:52.409Z"
   },
   {
    "duration": 32,
    "start_time": "2022-12-11T15:00:53.738Z"
   },
   {
    "duration": 12,
    "start_time": "2022-12-11T15:00:53.774Z"
   },
   {
    "duration": 11,
    "start_time": "2022-12-11T15:00:53.788Z"
   },
   {
    "duration": 26,
    "start_time": "2022-12-11T15:00:53.800Z"
   },
   {
    "duration": 804,
    "start_time": "2022-12-11T15:00:53.828Z"
   },
   {
    "duration": 10,
    "start_time": "2022-12-11T15:00:54.633Z"
   },
   {
    "duration": 452,
    "start_time": "2022-12-11T15:00:54.644Z"
   },
   {
    "duration": 5,
    "start_time": "2022-12-11T15:00:55.098Z"
   },
   {
    "duration": 7,
    "start_time": "2022-12-11T15:00:55.104Z"
   },
   {
    "duration": 4,
    "start_time": "2022-12-11T15:00:55.112Z"
   },
   {
    "duration": 7,
    "start_time": "2022-12-11T15:00:55.118Z"
   },
   {
    "duration": 10,
    "start_time": "2022-12-11T15:00:55.127Z"
   },
   {
    "duration": 17,
    "start_time": "2022-12-11T15:00:55.139Z"
   },
   {
    "duration": 59,
    "start_time": "2022-12-11T15:00:55.157Z"
   },
   {
    "duration": 82,
    "start_time": "2022-12-11T15:00:55.218Z"
   },
   {
    "duration": 12,
    "start_time": "2022-12-11T15:00:55.302Z"
   },
   {
    "duration": 17,
    "start_time": "2022-12-11T15:00:55.315Z"
   },
   {
    "duration": 65,
    "start_time": "2022-12-11T15:00:55.333Z"
   },
   {
    "duration": 9,
    "start_time": "2022-12-11T15:00:55.400Z"
   },
   {
    "duration": 86,
    "start_time": "2022-12-11T15:00:55.411Z"
   },
   {
    "duration": 9,
    "start_time": "2022-12-11T15:00:55.498Z"
   },
   {
    "duration": 8,
    "start_time": "2022-12-11T15:00:55.509Z"
   },
   {
    "duration": 264,
    "start_time": "2022-12-11T15:00:55.518Z"
   },
   {
    "duration": 0,
    "start_time": "2022-12-11T15:00:55.785Z"
   },
   {
    "duration": 0,
    "start_time": "2022-12-11T15:00:55.796Z"
   },
   {
    "duration": 0,
    "start_time": "2022-12-11T15:00:55.797Z"
   },
   {
    "duration": 0,
    "start_time": "2022-12-11T15:00:55.798Z"
   },
   {
    "duration": 0,
    "start_time": "2022-12-11T15:00:55.799Z"
   },
   {
    "duration": 0,
    "start_time": "2022-12-11T15:00:55.800Z"
   },
   {
    "duration": 1332,
    "start_time": "2022-12-11T15:01:51.306Z"
   },
   {
    "duration": 32,
    "start_time": "2022-12-11T15:01:52.640Z"
   },
   {
    "duration": 11,
    "start_time": "2022-12-11T15:01:52.674Z"
   },
   {
    "duration": 12,
    "start_time": "2022-12-11T15:01:52.687Z"
   },
   {
    "duration": 22,
    "start_time": "2022-12-11T15:01:52.701Z"
   },
   {
    "duration": 788,
    "start_time": "2022-12-11T15:01:52.725Z"
   },
   {
    "duration": 10,
    "start_time": "2022-12-11T15:01:53.515Z"
   },
   {
    "duration": 451,
    "start_time": "2022-12-11T15:01:53.527Z"
   },
   {
    "duration": 17,
    "start_time": "2022-12-11T15:01:53.980Z"
   },
   {
    "duration": 7,
    "start_time": "2022-12-11T15:01:53.998Z"
   },
   {
    "duration": 4,
    "start_time": "2022-12-11T15:01:54.006Z"
   },
   {
    "duration": 7,
    "start_time": "2022-12-11T15:01:54.011Z"
   },
   {
    "duration": 5,
    "start_time": "2022-12-11T15:01:54.019Z"
   },
   {
    "duration": 5,
    "start_time": "2022-12-11T15:01:54.026Z"
   },
   {
    "duration": 66,
    "start_time": "2022-12-11T15:01:54.033Z"
   },
   {
    "duration": 14,
    "start_time": "2022-12-11T15:01:54.101Z"
   },
   {
    "duration": 7,
    "start_time": "2022-12-11T15:01:54.197Z"
   },
   {
    "duration": 12,
    "start_time": "2022-12-11T15:01:54.206Z"
   },
   {
    "duration": 78,
    "start_time": "2022-12-11T15:01:54.219Z"
   },
   {
    "duration": 4,
    "start_time": "2022-12-11T15:01:54.299Z"
   },
   {
    "duration": 9,
    "start_time": "2022-12-11T15:01:54.305Z"
   },
   {
    "duration": 89,
    "start_time": "2022-12-11T15:01:54.315Z"
   },
   {
    "duration": 94,
    "start_time": "2022-12-11T15:01:54.406Z"
   },
   {
    "duration": 8,
    "start_time": "2022-12-11T15:01:54.502Z"
   },
   {
    "duration": 269,
    "start_time": "2022-12-11T15:01:54.512Z"
   },
   {
    "duration": 0,
    "start_time": "2022-12-11T15:01:54.783Z"
   },
   {
    "duration": 0,
    "start_time": "2022-12-11T15:01:54.795Z"
   },
   {
    "duration": 0,
    "start_time": "2022-12-11T15:01:54.797Z"
   },
   {
    "duration": 0,
    "start_time": "2022-12-11T15:01:54.798Z"
   },
   {
    "duration": 0,
    "start_time": "2022-12-11T15:01:54.799Z"
   },
   {
    "duration": 0,
    "start_time": "2022-12-11T15:01:54.801Z"
   },
   {
    "duration": 1359,
    "start_time": "2022-12-11T15:02:52.874Z"
   },
   {
    "duration": 32,
    "start_time": "2022-12-11T15:02:54.235Z"
   },
   {
    "duration": 11,
    "start_time": "2022-12-11T15:02:54.269Z"
   },
   {
    "duration": 11,
    "start_time": "2022-12-11T15:02:54.283Z"
   },
   {
    "duration": 23,
    "start_time": "2022-12-11T15:02:54.296Z"
   },
   {
    "duration": 803,
    "start_time": "2022-12-11T15:02:54.321Z"
   },
   {
    "duration": 12,
    "start_time": "2022-12-11T15:02:55.126Z"
   },
   {
    "duration": 440,
    "start_time": "2022-12-11T15:02:55.141Z"
   },
   {
    "duration": 14,
    "start_time": "2022-12-11T15:02:55.583Z"
   },
   {
    "duration": 5,
    "start_time": "2022-12-11T15:02:55.599Z"
   },
   {
    "duration": 4,
    "start_time": "2022-12-11T15:02:55.605Z"
   },
   {
    "duration": 6,
    "start_time": "2022-12-11T15:02:55.610Z"
   },
   {
    "duration": 5,
    "start_time": "2022-12-11T15:02:55.617Z"
   },
   {
    "duration": 6,
    "start_time": "2022-12-11T15:02:55.623Z"
   },
   {
    "duration": 74,
    "start_time": "2022-12-11T15:02:55.630Z"
   },
   {
    "duration": 10,
    "start_time": "2022-12-11T15:02:55.706Z"
   },
   {
    "duration": 9,
    "start_time": "2022-12-11T15:02:55.797Z"
   },
   {
    "duration": 12,
    "start_time": "2022-12-11T15:02:55.808Z"
   },
   {
    "duration": 92,
    "start_time": "2022-12-11T15:02:55.822Z"
   },
   {
    "duration": 94,
    "start_time": "2022-12-11T15:02:55.916Z"
   },
   {
    "duration": 12,
    "start_time": "2022-12-11T15:02:56.013Z"
   },
   {
    "duration": 15,
    "start_time": "2022-12-11T15:02:56.027Z"
   },
   {
    "duration": 157,
    "start_time": "2022-12-11T15:02:56.043Z"
   },
   {
    "duration": 5,
    "start_time": "2022-12-11T15:02:56.202Z"
   },
   {
    "duration": 88,
    "start_time": "2022-12-11T15:02:56.209Z"
   },
   {
    "duration": 202,
    "start_time": "2022-12-11T15:02:56.299Z"
   },
   {
    "duration": 0,
    "start_time": "2022-12-11T15:02:56.503Z"
   },
   {
    "duration": 0,
    "start_time": "2022-12-11T15:02:56.504Z"
   },
   {
    "duration": 0,
    "start_time": "2022-12-11T15:02:56.505Z"
   },
   {
    "duration": 0,
    "start_time": "2022-12-11T15:02:56.506Z"
   },
   {
    "duration": 0,
    "start_time": "2022-12-11T15:02:56.507Z"
   },
   {
    "duration": 0,
    "start_time": "2022-12-11T15:02:56.508Z"
   },
   {
    "duration": 1463,
    "start_time": "2022-12-11T15:10:23.770Z"
   },
   {
    "duration": 32,
    "start_time": "2022-12-11T15:10:25.235Z"
   },
   {
    "duration": 10,
    "start_time": "2022-12-11T15:10:25.268Z"
   },
   {
    "duration": 14,
    "start_time": "2022-12-11T15:10:25.280Z"
   },
   {
    "duration": 22,
    "start_time": "2022-12-11T15:10:25.296Z"
   },
   {
    "duration": 825,
    "start_time": "2022-12-11T15:10:25.320Z"
   },
   {
    "duration": 11,
    "start_time": "2022-12-11T15:10:26.147Z"
   },
   {
    "duration": 500,
    "start_time": "2022-12-11T15:10:26.160Z"
   },
   {
    "duration": 5,
    "start_time": "2022-12-11T15:10:26.661Z"
   },
   {
    "duration": 8,
    "start_time": "2022-12-11T15:10:26.668Z"
   },
   {
    "duration": 18,
    "start_time": "2022-12-11T15:10:26.677Z"
   },
   {
    "duration": 11,
    "start_time": "2022-12-11T15:10:26.696Z"
   },
   {
    "duration": 10,
    "start_time": "2022-12-11T15:10:26.709Z"
   },
   {
    "duration": 11,
    "start_time": "2022-12-11T15:10:26.721Z"
   },
   {
    "duration": 67,
    "start_time": "2022-12-11T15:10:26.734Z"
   },
   {
    "duration": 11,
    "start_time": "2022-12-11T15:10:26.802Z"
   },
   {
    "duration": 89,
    "start_time": "2022-12-11T15:10:26.815Z"
   },
   {
    "duration": 12,
    "start_time": "2022-12-11T15:10:26.905Z"
   },
   {
    "duration": 78,
    "start_time": "2022-12-11T15:10:26.919Z"
   },
   {
    "duration": 5,
    "start_time": "2022-12-11T15:10:26.999Z"
   },
   {
    "duration": 8,
    "start_time": "2022-12-11T15:10:27.006Z"
   },
   {
    "duration": 93,
    "start_time": "2022-12-11T15:10:27.015Z"
   },
   {
    "duration": 7,
    "start_time": "2022-12-11T15:10:27.110Z"
   },
   {
    "duration": 199,
    "start_time": "2022-12-11T15:10:27.119Z"
   },
   {
    "duration": 4,
    "start_time": "2022-12-11T15:10:27.319Z"
   },
   {
    "duration": 6,
    "start_time": "2022-12-11T15:10:27.325Z"
   },
   {
    "duration": 122,
    "start_time": "2022-12-11T15:10:27.333Z"
   },
   {
    "duration": 0,
    "start_time": "2022-12-11T15:10:27.457Z"
   },
   {
    "duration": 0,
    "start_time": "2022-12-11T15:10:27.459Z"
   },
   {
    "duration": 0,
    "start_time": "2022-12-11T15:10:27.460Z"
   },
   {
    "duration": 0,
    "start_time": "2022-12-11T15:10:27.461Z"
   },
   {
    "duration": 0,
    "start_time": "2022-12-11T15:10:27.463Z"
   },
   {
    "duration": 3,
    "start_time": "2022-12-11T15:16:24.839Z"
   },
   {
    "duration": 25,
    "start_time": "2022-12-11T15:16:28.087Z"
   },
   {
    "duration": 1281,
    "start_time": "2022-12-11T15:16:54.857Z"
   },
   {
    "duration": 32,
    "start_time": "2022-12-11T15:16:56.141Z"
   },
   {
    "duration": 12,
    "start_time": "2022-12-11T15:16:56.175Z"
   },
   {
    "duration": 16,
    "start_time": "2022-12-11T15:16:56.189Z"
   },
   {
    "duration": 27,
    "start_time": "2022-12-11T15:16:56.208Z"
   },
   {
    "duration": 834,
    "start_time": "2022-12-11T15:16:56.237Z"
   },
   {
    "duration": 11,
    "start_time": "2022-12-11T15:16:57.072Z"
   },
   {
    "duration": 482,
    "start_time": "2022-12-11T15:16:57.084Z"
   },
   {
    "duration": 6,
    "start_time": "2022-12-11T15:16:57.568Z"
   },
   {
    "duration": 9,
    "start_time": "2022-12-11T15:16:57.575Z"
   },
   {
    "duration": 4,
    "start_time": "2022-12-11T15:16:57.596Z"
   },
   {
    "duration": 6,
    "start_time": "2022-12-11T15:16:57.602Z"
   },
   {
    "duration": 7,
    "start_time": "2022-12-11T15:16:57.609Z"
   },
   {
    "duration": 5,
    "start_time": "2022-12-11T15:16:57.618Z"
   },
   {
    "duration": 73,
    "start_time": "2022-12-11T15:16:57.624Z"
   },
   {
    "duration": 9,
    "start_time": "2022-12-11T15:16:57.699Z"
   },
   {
    "duration": 91,
    "start_time": "2022-12-11T15:16:57.710Z"
   },
   {
    "duration": 19,
    "start_time": "2022-12-11T15:16:57.803Z"
   },
   {
    "duration": 73,
    "start_time": "2022-12-11T15:16:57.824Z"
   },
   {
    "duration": 13,
    "start_time": "2022-12-11T15:16:57.899Z"
   },
   {
    "duration": 82,
    "start_time": "2022-12-11T15:16:57.914Z"
   },
   {
    "duration": 9,
    "start_time": "2022-12-11T15:16:57.998Z"
   },
   {
    "duration": 7,
    "start_time": "2022-12-11T15:16:58.009Z"
   },
   {
    "duration": 197,
    "start_time": "2022-12-11T15:16:58.018Z"
   },
   {
    "duration": 4,
    "start_time": "2022-12-11T15:16:58.217Z"
   },
   {
    "duration": 8,
    "start_time": "2022-12-11T15:16:58.223Z"
   },
   {
    "duration": 5,
    "start_time": "2022-12-11T15:16:58.233Z"
   },
   {
    "duration": 26,
    "start_time": "2022-12-11T15:16:58.239Z"
   },
   {
    "duration": 4,
    "start_time": "2022-12-11T15:16:58.267Z"
   },
   {
    "duration": 23,
    "start_time": "2022-12-11T15:16:58.273Z"
   },
   {
    "duration": 9,
    "start_time": "2022-12-11T15:16:58.298Z"
   },
   {
    "duration": 127,
    "start_time": "2022-12-11T15:16:58.309Z"
   },
   {
    "duration": 38,
    "start_time": "2022-12-11T15:17:52.289Z"
   },
   {
    "duration": 22,
    "start_time": "2022-12-11T16:10:03.665Z"
   },
   {
    "duration": 5,
    "start_time": "2022-12-11T16:35:09.012Z"
   },
   {
    "duration": 2,
    "start_time": "2022-12-11T16:36:12.670Z"
   },
   {
    "duration": 11,
    "start_time": "2022-12-11T16:36:48.823Z"
   },
   {
    "duration": 27,
    "start_time": "2022-12-11T16:36:55.194Z"
   },
   {
    "duration": 3,
    "start_time": "2022-12-11T16:44:48.789Z"
   },
   {
    "duration": 1354,
    "start_time": "2022-12-11T16:54:07.022Z"
   },
   {
    "duration": 40,
    "start_time": "2022-12-11T16:54:08.378Z"
   },
   {
    "duration": 12,
    "start_time": "2022-12-11T16:54:08.420Z"
   },
   {
    "duration": 15,
    "start_time": "2022-12-11T16:54:08.434Z"
   },
   {
    "duration": 29,
    "start_time": "2022-12-11T16:54:08.452Z"
   },
   {
    "duration": 849,
    "start_time": "2022-12-11T16:54:08.482Z"
   },
   {
    "duration": 11,
    "start_time": "2022-12-11T16:54:09.333Z"
   },
   {
    "duration": 490,
    "start_time": "2022-12-11T16:54:09.345Z"
   },
   {
    "duration": 6,
    "start_time": "2022-12-11T16:54:09.837Z"
   },
   {
    "duration": 7,
    "start_time": "2022-12-11T16:54:09.844Z"
   },
   {
    "duration": 7,
    "start_time": "2022-12-11T16:54:09.852Z"
   },
   {
    "duration": 6,
    "start_time": "2022-12-11T16:54:09.861Z"
   },
   {
    "duration": 38,
    "start_time": "2022-12-11T16:54:09.869Z"
   },
   {
    "duration": 18,
    "start_time": "2022-12-11T16:54:09.910Z"
   },
   {
    "duration": 182,
    "start_time": "2022-12-11T16:54:09.930Z"
   },
   {
    "duration": 9,
    "start_time": "2022-12-11T16:54:10.114Z"
   },
   {
    "duration": 14,
    "start_time": "2022-12-11T16:54:10.124Z"
   },
   {
    "duration": 15,
    "start_time": "2022-12-11T16:54:10.140Z"
   },
   {
    "duration": 7,
    "start_time": "2022-12-11T16:54:10.198Z"
   },
   {
    "duration": 19,
    "start_time": "2022-12-11T16:54:10.207Z"
   },
   {
    "duration": 74,
    "start_time": "2022-12-11T16:54:10.228Z"
   },
   {
    "duration": 24,
    "start_time": "2022-12-11T16:54:10.306Z"
   },
   {
    "duration": 172,
    "start_time": "2022-12-11T16:54:10.333Z"
   },
   {
    "duration": 201,
    "start_time": "2022-12-11T16:54:10.507Z"
   },
   {
    "duration": 6,
    "start_time": "2022-12-11T16:54:10.710Z"
   },
   {
    "duration": 6,
    "start_time": "2022-12-11T16:54:10.718Z"
   },
   {
    "duration": 8,
    "start_time": "2022-12-11T16:54:10.726Z"
   },
   {
    "duration": 5,
    "start_time": "2022-12-11T16:54:10.736Z"
   },
   {
    "duration": 5,
    "start_time": "2022-12-11T16:54:10.743Z"
   },
   {
    "duration": 9,
    "start_time": "2022-12-11T16:54:10.750Z"
   },
   {
    "duration": 11,
    "start_time": "2022-12-11T16:54:10.761Z"
   },
   {
    "duration": 28,
    "start_time": "2022-12-11T16:54:10.773Z"
   },
   {
    "duration": 7,
    "start_time": "2022-12-11T16:54:10.805Z"
   },
   {
    "duration": 116,
    "start_time": "2022-12-11T16:54:10.813Z"
   },
   {
    "duration": 1319,
    "start_time": "2022-12-11T17:04:53.782Z"
   },
   {
    "duration": 33,
    "start_time": "2022-12-11T17:04:55.103Z"
   },
   {
    "duration": 14,
    "start_time": "2022-12-11T17:04:55.139Z"
   },
   {
    "duration": 12,
    "start_time": "2022-12-11T17:04:55.155Z"
   },
   {
    "duration": 30,
    "start_time": "2022-12-11T17:04:55.168Z"
   },
   {
    "duration": 825,
    "start_time": "2022-12-11T17:04:55.200Z"
   },
   {
    "duration": 13,
    "start_time": "2022-12-11T17:04:56.027Z"
   },
   {
    "duration": 534,
    "start_time": "2022-12-11T17:04:56.042Z"
   },
   {
    "duration": 6,
    "start_time": "2022-12-11T17:04:56.578Z"
   },
   {
    "duration": 7,
    "start_time": "2022-12-11T17:04:56.595Z"
   },
   {
    "duration": 4,
    "start_time": "2022-12-11T17:04:56.604Z"
   },
   {
    "duration": 6,
    "start_time": "2022-12-11T17:04:56.610Z"
   },
   {
    "duration": 5,
    "start_time": "2022-12-11T17:04:56.619Z"
   },
   {
    "duration": 11,
    "start_time": "2022-12-11T17:04:56.625Z"
   },
   {
    "duration": 69,
    "start_time": "2022-12-11T17:04:56.637Z"
   },
   {
    "duration": 95,
    "start_time": "2022-12-11T17:04:56.708Z"
   },
   {
    "duration": 8,
    "start_time": "2022-12-11T17:04:56.805Z"
   },
   {
    "duration": 15,
    "start_time": "2022-12-11T17:04:56.814Z"
   },
   {
    "duration": 66,
    "start_time": "2022-12-11T17:04:56.831Z"
   },
   {
    "duration": 7,
    "start_time": "2022-12-11T17:04:56.899Z"
   },
   {
    "duration": 7,
    "start_time": "2022-12-11T17:04:56.909Z"
   },
   {
    "duration": 89,
    "start_time": "2022-12-11T17:04:56.918Z"
   },
   {
    "duration": 6,
    "start_time": "2022-12-11T17:04:57.009Z"
   },
   {
    "duration": 197,
    "start_time": "2022-12-11T17:04:57.016Z"
   },
   {
    "duration": 4,
    "start_time": "2022-12-11T17:04:57.214Z"
   },
   {
    "duration": 9,
    "start_time": "2022-12-11T17:04:57.219Z"
   },
   {
    "duration": 144,
    "start_time": "2022-12-11T17:04:57.229Z"
   },
   {
    "duration": 0,
    "start_time": "2022-12-11T17:04:57.375Z"
   },
   {
    "duration": 0,
    "start_time": "2022-12-11T17:04:57.377Z"
   },
   {
    "duration": 0,
    "start_time": "2022-12-11T17:04:57.379Z"
   },
   {
    "duration": 0,
    "start_time": "2022-12-11T17:04:57.380Z"
   },
   {
    "duration": 0,
    "start_time": "2022-12-11T17:04:57.396Z"
   },
   {
    "duration": 0,
    "start_time": "2022-12-11T17:04:57.397Z"
   },
   {
    "duration": 0,
    "start_time": "2022-12-11T17:04:57.398Z"
   },
   {
    "duration": 1273,
    "start_time": "2022-12-11T17:06:23.157Z"
   },
   {
    "duration": 30,
    "start_time": "2022-12-11T17:06:24.432Z"
   },
   {
    "duration": 11,
    "start_time": "2022-12-11T17:06:24.464Z"
   },
   {
    "duration": 10,
    "start_time": "2022-12-11T17:06:24.477Z"
   },
   {
    "duration": 23,
    "start_time": "2022-12-11T17:06:24.488Z"
   },
   {
    "duration": 830,
    "start_time": "2022-12-11T17:06:24.512Z"
   },
   {
    "duration": 10,
    "start_time": "2022-12-11T17:06:25.343Z"
   },
   {
    "duration": 443,
    "start_time": "2022-12-11T17:06:25.355Z"
   },
   {
    "duration": 5,
    "start_time": "2022-12-11T17:06:25.800Z"
   },
   {
    "duration": 6,
    "start_time": "2022-12-11T17:06:25.808Z"
   },
   {
    "duration": 5,
    "start_time": "2022-12-11T17:06:25.816Z"
   },
   {
    "duration": 7,
    "start_time": "2022-12-11T17:06:25.822Z"
   },
   {
    "duration": 8,
    "start_time": "2022-12-11T17:06:25.830Z"
   },
   {
    "duration": 6,
    "start_time": "2022-12-11T17:06:25.840Z"
   },
   {
    "duration": 60,
    "start_time": "2022-12-11T17:06:25.847Z"
   },
   {
    "duration": 94,
    "start_time": "2022-12-11T17:06:25.909Z"
   },
   {
    "duration": 27,
    "start_time": "2022-12-11T17:06:26.005Z"
   },
   {
    "duration": 39,
    "start_time": "2022-12-11T17:06:26.034Z"
   },
   {
    "duration": 5,
    "start_time": "2022-12-11T17:06:26.097Z"
   },
   {
    "duration": 93,
    "start_time": "2022-12-11T17:06:26.104Z"
   },
   {
    "duration": 13,
    "start_time": "2022-12-11T17:06:26.199Z"
   },
   {
    "duration": 15,
    "start_time": "2022-12-11T17:06:26.216Z"
   },
   {
    "duration": 72,
    "start_time": "2022-12-11T17:06:26.232Z"
   },
   {
    "duration": 203,
    "start_time": "2022-12-11T17:06:26.306Z"
   },
   {
    "duration": 5,
    "start_time": "2022-12-11T17:06:26.511Z"
   },
   {
    "duration": 23,
    "start_time": "2022-12-11T17:06:26.517Z"
   },
   {
    "duration": 12,
    "start_time": "2022-12-11T17:06:26.541Z"
   },
   {
    "duration": 6,
    "start_time": "2022-12-11T17:06:26.557Z"
   },
   {
    "duration": 5,
    "start_time": "2022-12-11T17:06:26.565Z"
   },
   {
    "duration": 6,
    "start_time": "2022-12-11T17:06:26.572Z"
   },
   {
    "duration": 15,
    "start_time": "2022-12-11T17:06:26.579Z"
   },
   {
    "duration": 16,
    "start_time": "2022-12-11T17:06:26.595Z"
   },
   {
    "duration": 2,
    "start_time": "2022-12-11T17:06:26.612Z"
   },
   {
    "duration": 111,
    "start_time": "2022-12-11T17:06:26.616Z"
   },
   {
    "duration": 1370,
    "start_time": "2022-12-11T17:14:15.475Z"
   },
   {
    "duration": 32,
    "start_time": "2022-12-11T17:14:16.847Z"
   },
   {
    "duration": 11,
    "start_time": "2022-12-11T17:14:16.881Z"
   },
   {
    "duration": 11,
    "start_time": "2022-12-11T17:14:16.893Z"
   },
   {
    "duration": 29,
    "start_time": "2022-12-11T17:14:16.906Z"
   },
   {
    "duration": 783,
    "start_time": "2022-12-11T17:14:16.936Z"
   },
   {
    "duration": 10,
    "start_time": "2022-12-11T17:14:17.720Z"
   },
   {
    "duration": 448,
    "start_time": "2022-12-11T17:14:17.731Z"
   },
   {
    "duration": 16,
    "start_time": "2022-12-11T17:14:18.181Z"
   },
   {
    "duration": 17,
    "start_time": "2022-12-11T17:14:18.199Z"
   },
   {
    "duration": 5,
    "start_time": "2022-12-11T17:14:18.217Z"
   },
   {
    "duration": 7,
    "start_time": "2022-12-11T17:14:18.223Z"
   },
   {
    "duration": 6,
    "start_time": "2022-12-11T17:14:18.231Z"
   },
   {
    "duration": 6,
    "start_time": "2022-12-11T17:14:18.240Z"
   },
   {
    "duration": 54,
    "start_time": "2022-12-11T17:14:18.248Z"
   },
   {
    "duration": 15,
    "start_time": "2022-12-11T17:14:18.304Z"
   },
   {
    "duration": 85,
    "start_time": "2022-12-11T17:14:18.321Z"
   },
   {
    "duration": 10,
    "start_time": "2022-12-11T17:14:18.407Z"
   },
   {
    "duration": 12,
    "start_time": "2022-12-11T17:14:18.419Z"
   },
   {
    "duration": 66,
    "start_time": "2022-12-11T17:14:18.432Z"
   },
   {
    "duration": 9,
    "start_time": "2022-12-11T17:14:18.500Z"
   },
   {
    "duration": 86,
    "start_time": "2022-12-11T17:14:18.510Z"
   },
   {
    "duration": 8,
    "start_time": "2022-12-11T17:14:18.598Z"
   },
   {
    "duration": 95,
    "start_time": "2022-12-11T17:14:18.607Z"
   },
   {
    "duration": 214,
    "start_time": "2022-12-11T17:14:18.704Z"
   },
   {
    "duration": 5,
    "start_time": "2022-12-11T17:14:18.919Z"
   },
   {
    "duration": 9,
    "start_time": "2022-12-11T17:14:18.925Z"
   },
   {
    "duration": 7,
    "start_time": "2022-12-11T17:14:18.936Z"
   },
   {
    "duration": 9,
    "start_time": "2022-12-11T17:14:18.945Z"
   },
   {
    "duration": 5,
    "start_time": "2022-12-11T17:14:18.956Z"
   },
   {
    "duration": 8,
    "start_time": "2022-12-11T17:14:18.962Z"
   },
   {
    "duration": 11,
    "start_time": "2022-12-11T17:14:18.971Z"
   },
   {
    "duration": 5,
    "start_time": "2022-12-11T17:14:18.996Z"
   },
   {
    "duration": 21,
    "start_time": "2022-12-11T17:14:19.003Z"
   },
   {
    "duration": 2,
    "start_time": "2022-12-11T17:14:19.026Z"
   },
   {
    "duration": 132,
    "start_time": "2022-12-11T17:14:19.030Z"
   },
   {
    "duration": 48,
    "start_time": "2022-12-11T17:14:51.625Z"
   },
   {
    "duration": 4,
    "start_time": "2022-12-11T17:15:07.738Z"
   },
   {
    "duration": 5,
    "start_time": "2022-12-11T17:15:10.243Z"
   },
   {
    "duration": 1294,
    "start_time": "2022-12-11T17:15:44.309Z"
   },
   {
    "duration": 31,
    "start_time": "2022-12-11T17:15:45.605Z"
   },
   {
    "duration": 11,
    "start_time": "2022-12-11T17:15:45.637Z"
   },
   {
    "duration": 11,
    "start_time": "2022-12-11T17:15:45.649Z"
   },
   {
    "duration": 22,
    "start_time": "2022-12-11T17:15:45.662Z"
   },
   {
    "duration": 855,
    "start_time": "2022-12-11T17:15:45.685Z"
   },
   {
    "duration": 11,
    "start_time": "2022-12-11T17:15:46.542Z"
   },
   {
    "duration": 466,
    "start_time": "2022-12-11T17:15:46.555Z"
   },
   {
    "duration": 5,
    "start_time": "2022-12-11T17:15:47.023Z"
   },
   {
    "duration": 5,
    "start_time": "2022-12-11T17:15:47.031Z"
   },
   {
    "duration": 5,
    "start_time": "2022-12-11T17:15:47.038Z"
   },
   {
    "duration": 5,
    "start_time": "2022-12-11T17:15:47.044Z"
   },
   {
    "duration": 4,
    "start_time": "2022-12-11T17:15:47.051Z"
   },
   {
    "duration": 41,
    "start_time": "2022-12-11T17:15:47.057Z"
   },
   {
    "duration": 3,
    "start_time": "2022-12-11T17:15:47.100Z"
   },
   {
    "duration": 15,
    "start_time": "2022-12-11T17:15:47.105Z"
   },
   {
    "duration": 9,
    "start_time": "2022-12-11T17:15:47.197Z"
   },
   {
    "duration": 9,
    "start_time": "2022-12-11T17:15:47.208Z"
   },
   {
    "duration": 9,
    "start_time": "2022-12-11T17:15:47.218Z"
   },
   {
    "duration": 15,
    "start_time": "2022-12-11T17:15:47.228Z"
   },
   {
    "duration": 5,
    "start_time": "2022-12-11T17:15:47.297Z"
   },
   {
    "duration": 9,
    "start_time": "2022-12-11T17:15:47.304Z"
   },
   {
    "duration": 85,
    "start_time": "2022-12-11T17:15:47.315Z"
   },
   {
    "duration": 11,
    "start_time": "2022-12-11T17:15:47.402Z"
   },
   {
    "duration": 6,
    "start_time": "2022-12-11T17:15:47.415Z"
   },
   {
    "duration": 200,
    "start_time": "2022-12-11T17:15:47.423Z"
   },
   {
    "duration": 4,
    "start_time": "2022-12-11T17:15:47.625Z"
   },
   {
    "duration": 5,
    "start_time": "2022-12-11T17:15:47.633Z"
   },
   {
    "duration": 6,
    "start_time": "2022-12-11T17:15:47.640Z"
   },
   {
    "duration": 10,
    "start_time": "2022-12-11T17:15:47.648Z"
   },
   {
    "duration": 4,
    "start_time": "2022-12-11T17:15:47.659Z"
   },
   {
    "duration": 4,
    "start_time": "2022-12-11T17:15:47.665Z"
   },
   {
    "duration": 26,
    "start_time": "2022-12-11T17:15:47.670Z"
   },
   {
    "duration": 5,
    "start_time": "2022-12-11T17:15:47.698Z"
   },
   {
    "duration": 15,
    "start_time": "2022-12-11T17:15:47.704Z"
   },
   {
    "duration": 2,
    "start_time": "2022-12-11T17:15:47.720Z"
   },
   {
    "duration": 131,
    "start_time": "2022-12-11T17:15:47.724Z"
   },
   {
    "duration": 1305,
    "start_time": "2022-12-11T17:22:03.147Z"
   },
   {
    "duration": 32,
    "start_time": "2022-12-11T17:22:04.454Z"
   },
   {
    "duration": 13,
    "start_time": "2022-12-11T17:22:04.488Z"
   },
   {
    "duration": 11,
    "start_time": "2022-12-11T17:22:04.503Z"
   },
   {
    "duration": 31,
    "start_time": "2022-12-11T17:22:04.516Z"
   },
   {
    "duration": 844,
    "start_time": "2022-12-11T17:22:04.549Z"
   },
   {
    "duration": 11,
    "start_time": "2022-12-11T17:22:05.397Z"
   },
   {
    "duration": 498,
    "start_time": "2022-12-11T17:22:05.410Z"
   },
   {
    "duration": 8,
    "start_time": "2022-12-11T17:22:05.910Z"
   },
   {
    "duration": 8,
    "start_time": "2022-12-11T17:22:05.920Z"
   },
   {
    "duration": 20,
    "start_time": "2022-12-11T17:22:05.930Z"
   },
   {
    "duration": 25,
    "start_time": "2022-12-11T17:22:05.951Z"
   },
   {
    "duration": 6,
    "start_time": "2022-12-11T17:22:05.978Z"
   },
   {
    "duration": 129,
    "start_time": "2022-12-11T17:22:05.987Z"
   },
   {
    "duration": 0,
    "start_time": "2022-12-11T17:22:06.118Z"
   },
   {
    "duration": 0,
    "start_time": "2022-12-11T17:22:06.120Z"
   },
   {
    "duration": 0,
    "start_time": "2022-12-11T17:22:06.122Z"
   },
   {
    "duration": 0,
    "start_time": "2022-12-11T17:22:06.124Z"
   },
   {
    "duration": 0,
    "start_time": "2022-12-11T17:22:06.125Z"
   },
   {
    "duration": 0,
    "start_time": "2022-12-11T17:22:06.126Z"
   },
   {
    "duration": 0,
    "start_time": "2022-12-11T17:22:06.128Z"
   },
   {
    "duration": 0,
    "start_time": "2022-12-11T17:22:06.129Z"
   },
   {
    "duration": 0,
    "start_time": "2022-12-11T17:22:06.130Z"
   },
   {
    "duration": 0,
    "start_time": "2022-12-11T17:22:06.131Z"
   },
   {
    "duration": 0,
    "start_time": "2022-12-11T17:22:06.133Z"
   },
   {
    "duration": 0,
    "start_time": "2022-12-11T17:22:06.135Z"
   },
   {
    "duration": 0,
    "start_time": "2022-12-11T17:22:06.137Z"
   },
   {
    "duration": 0,
    "start_time": "2022-12-11T17:22:06.138Z"
   },
   {
    "duration": 0,
    "start_time": "2022-12-11T17:22:06.139Z"
   },
   {
    "duration": 0,
    "start_time": "2022-12-11T17:22:06.141Z"
   },
   {
    "duration": 0,
    "start_time": "2022-12-11T17:22:06.142Z"
   },
   {
    "duration": 0,
    "start_time": "2022-12-11T17:22:06.143Z"
   },
   {
    "duration": 0,
    "start_time": "2022-12-11T17:22:06.144Z"
   },
   {
    "duration": 0,
    "start_time": "2022-12-11T17:22:06.145Z"
   },
   {
    "duration": 0,
    "start_time": "2022-12-11T17:22:06.146Z"
   },
   {
    "duration": 0,
    "start_time": "2022-12-11T17:22:06.147Z"
   },
   {
    "duration": 3,
    "start_time": "2022-12-11T17:23:07.183Z"
   },
   {
    "duration": 9,
    "start_time": "2022-12-11T17:23:09.804Z"
   },
   {
    "duration": 1324,
    "start_time": "2022-12-11T17:23:22.081Z"
   },
   {
    "duration": 32,
    "start_time": "2022-12-11T17:23:23.407Z"
   },
   {
    "duration": 11,
    "start_time": "2022-12-11T17:23:23.440Z"
   },
   {
    "duration": 11,
    "start_time": "2022-12-11T17:23:23.453Z"
   },
   {
    "duration": 21,
    "start_time": "2022-12-11T17:23:23.466Z"
   },
   {
    "duration": 760,
    "start_time": "2022-12-11T17:23:23.488Z"
   },
   {
    "duration": 10,
    "start_time": "2022-12-11T17:23:24.250Z"
   },
   {
    "duration": 480,
    "start_time": "2022-12-11T17:23:24.262Z"
   },
   {
    "duration": 7,
    "start_time": "2022-12-11T17:23:24.744Z"
   },
   {
    "duration": 8,
    "start_time": "2022-12-11T17:23:24.753Z"
   },
   {
    "duration": 5,
    "start_time": "2022-12-11T17:23:24.762Z"
   },
   {
    "duration": 29,
    "start_time": "2022-12-11T17:23:24.768Z"
   },
   {
    "duration": 4,
    "start_time": "2022-12-11T17:23:24.799Z"
   },
   {
    "duration": 114,
    "start_time": "2022-12-11T17:23:24.805Z"
   },
   {
    "duration": 0,
    "start_time": "2022-12-11T17:23:24.921Z"
   },
   {
    "duration": 0,
    "start_time": "2022-12-11T17:23:24.922Z"
   },
   {
    "duration": 0,
    "start_time": "2022-12-11T17:23:24.924Z"
   },
   {
    "duration": 0,
    "start_time": "2022-12-11T17:23:24.925Z"
   },
   {
    "duration": 0,
    "start_time": "2022-12-11T17:23:24.927Z"
   },
   {
    "duration": 0,
    "start_time": "2022-12-11T17:23:24.928Z"
   },
   {
    "duration": 0,
    "start_time": "2022-12-11T17:23:24.930Z"
   },
   {
    "duration": 0,
    "start_time": "2022-12-11T17:23:24.931Z"
   },
   {
    "duration": 0,
    "start_time": "2022-12-11T17:23:24.932Z"
   },
   {
    "duration": 0,
    "start_time": "2022-12-11T17:23:24.933Z"
   },
   {
    "duration": 0,
    "start_time": "2022-12-11T17:23:24.935Z"
   },
   {
    "duration": 0,
    "start_time": "2022-12-11T17:23:24.936Z"
   },
   {
    "duration": 0,
    "start_time": "2022-12-11T17:23:24.937Z"
   },
   {
    "duration": 0,
    "start_time": "2022-12-11T17:23:24.938Z"
   },
   {
    "duration": 0,
    "start_time": "2022-12-11T17:23:24.939Z"
   },
   {
    "duration": 0,
    "start_time": "2022-12-11T17:23:24.941Z"
   },
   {
    "duration": 0,
    "start_time": "2022-12-11T17:23:24.942Z"
   },
   {
    "duration": 0,
    "start_time": "2022-12-11T17:23:24.943Z"
   },
   {
    "duration": 0,
    "start_time": "2022-12-11T17:23:24.944Z"
   },
   {
    "duration": 0,
    "start_time": "2022-12-11T17:23:24.946Z"
   },
   {
    "duration": 0,
    "start_time": "2022-12-11T17:23:24.948Z"
   },
   {
    "duration": 0,
    "start_time": "2022-12-11T17:23:24.949Z"
   },
   {
    "duration": 4,
    "start_time": "2022-12-11T17:25:50.703Z"
   },
   {
    "duration": 8,
    "start_time": "2022-12-11T17:25:55.268Z"
   },
   {
    "duration": 1258,
    "start_time": "2022-12-11T17:26:01.446Z"
   },
   {
    "duration": 32,
    "start_time": "2022-12-11T17:26:02.706Z"
   },
   {
    "duration": 12,
    "start_time": "2022-12-11T17:26:02.739Z"
   },
   {
    "duration": 11,
    "start_time": "2022-12-11T17:26:02.752Z"
   },
   {
    "duration": 22,
    "start_time": "2022-12-11T17:26:02.764Z"
   },
   {
    "duration": 824,
    "start_time": "2022-12-11T17:26:02.788Z"
   },
   {
    "duration": 12,
    "start_time": "2022-12-11T17:26:03.614Z"
   },
   {
    "duration": 462,
    "start_time": "2022-12-11T17:26:03.628Z"
   },
   {
    "duration": 6,
    "start_time": "2022-12-11T17:26:04.096Z"
   },
   {
    "duration": 6,
    "start_time": "2022-12-11T17:26:04.104Z"
   },
   {
    "duration": 4,
    "start_time": "2022-12-11T17:26:04.111Z"
   },
   {
    "duration": 6,
    "start_time": "2022-12-11T17:26:04.117Z"
   },
   {
    "duration": 6,
    "start_time": "2022-12-11T17:26:04.125Z"
   },
   {
    "duration": 3,
    "start_time": "2022-12-11T17:26:04.134Z"
   },
   {
    "duration": 125,
    "start_time": "2022-12-11T17:26:04.139Z"
   },
   {
    "duration": 0,
    "start_time": "2022-12-11T17:26:04.266Z"
   },
   {
    "duration": 0,
    "start_time": "2022-12-11T17:26:04.267Z"
   },
   {
    "duration": 0,
    "start_time": "2022-12-11T17:26:04.268Z"
   },
   {
    "duration": 0,
    "start_time": "2022-12-11T17:26:04.269Z"
   },
   {
    "duration": 0,
    "start_time": "2022-12-11T17:26:04.270Z"
   },
   {
    "duration": 0,
    "start_time": "2022-12-11T17:26:04.271Z"
   },
   {
    "duration": 1,
    "start_time": "2022-12-11T17:26:04.272Z"
   },
   {
    "duration": 0,
    "start_time": "2022-12-11T17:26:04.273Z"
   },
   {
    "duration": 0,
    "start_time": "2022-12-11T17:26:04.274Z"
   },
   {
    "duration": 0,
    "start_time": "2022-12-11T17:26:04.275Z"
   },
   {
    "duration": 0,
    "start_time": "2022-12-11T17:26:04.296Z"
   },
   {
    "duration": 0,
    "start_time": "2022-12-11T17:26:04.298Z"
   },
   {
    "duration": 0,
    "start_time": "2022-12-11T17:26:04.299Z"
   },
   {
    "duration": 0,
    "start_time": "2022-12-11T17:26:04.299Z"
   },
   {
    "duration": 0,
    "start_time": "2022-12-11T17:26:04.300Z"
   },
   {
    "duration": 0,
    "start_time": "2022-12-11T17:26:04.301Z"
   },
   {
    "duration": 0,
    "start_time": "2022-12-11T17:26:04.302Z"
   },
   {
    "duration": 0,
    "start_time": "2022-12-11T17:26:04.303Z"
   },
   {
    "duration": 0,
    "start_time": "2022-12-11T17:26:04.304Z"
   },
   {
    "duration": 0,
    "start_time": "2022-12-11T17:26:04.305Z"
   },
   {
    "duration": 0,
    "start_time": "2022-12-11T17:26:04.306Z"
   },
   {
    "duration": 0,
    "start_time": "2022-12-11T17:26:04.307Z"
   },
   {
    "duration": 4,
    "start_time": "2022-12-11T17:26:33.235Z"
   },
   {
    "duration": 4,
    "start_time": "2022-12-11T17:26:35.975Z"
   },
   {
    "duration": 1276,
    "start_time": "2022-12-11T17:27:01.765Z"
   },
   {
    "duration": 32,
    "start_time": "2022-12-11T17:27:03.042Z"
   },
   {
    "duration": 11,
    "start_time": "2022-12-11T17:27:03.075Z"
   },
   {
    "duration": 11,
    "start_time": "2022-12-11T17:27:03.088Z"
   },
   {
    "duration": 23,
    "start_time": "2022-12-11T17:27:03.101Z"
   },
   {
    "duration": 835,
    "start_time": "2022-12-11T17:27:03.125Z"
   },
   {
    "duration": 12,
    "start_time": "2022-12-11T17:27:03.962Z"
   },
   {
    "duration": 497,
    "start_time": "2022-12-11T17:27:03.975Z"
   },
   {
    "duration": 6,
    "start_time": "2022-12-11T17:27:04.474Z"
   },
   {
    "duration": 18,
    "start_time": "2022-12-11T17:27:04.481Z"
   },
   {
    "duration": 3,
    "start_time": "2022-12-11T17:27:04.501Z"
   },
   {
    "duration": 11,
    "start_time": "2022-12-11T17:27:04.506Z"
   },
   {
    "duration": 4,
    "start_time": "2022-12-11T17:27:04.519Z"
   },
   {
    "duration": 7,
    "start_time": "2022-12-11T17:27:04.527Z"
   },
   {
    "duration": 19,
    "start_time": "2022-12-11T17:27:04.536Z"
   },
   {
    "duration": 109,
    "start_time": "2022-12-11T17:27:04.556Z"
   },
   {
    "duration": 0,
    "start_time": "2022-12-11T17:27:04.666Z"
   },
   {
    "duration": 0,
    "start_time": "2022-12-11T17:27:04.667Z"
   },
   {
    "duration": 0,
    "start_time": "2022-12-11T17:27:04.668Z"
   },
   {
    "duration": 0,
    "start_time": "2022-12-11T17:27:04.669Z"
   },
   {
    "duration": 0,
    "start_time": "2022-12-11T17:27:04.671Z"
   },
   {
    "duration": 0,
    "start_time": "2022-12-11T17:27:04.672Z"
   },
   {
    "duration": 0,
    "start_time": "2022-12-11T17:27:04.673Z"
   },
   {
    "duration": 0,
    "start_time": "2022-12-11T17:27:04.674Z"
   },
   {
    "duration": 0,
    "start_time": "2022-12-11T17:27:04.675Z"
   },
   {
    "duration": 0,
    "start_time": "2022-12-11T17:27:04.676Z"
   },
   {
    "duration": 0,
    "start_time": "2022-12-11T17:27:04.677Z"
   },
   {
    "duration": 0,
    "start_time": "2022-12-11T17:27:04.677Z"
   },
   {
    "duration": 0,
    "start_time": "2022-12-11T17:27:04.678Z"
   },
   {
    "duration": 0,
    "start_time": "2022-12-11T17:27:04.678Z"
   },
   {
    "duration": 0,
    "start_time": "2022-12-11T17:27:04.679Z"
   },
   {
    "duration": 0,
    "start_time": "2022-12-11T17:27:04.679Z"
   },
   {
    "duration": 0,
    "start_time": "2022-12-11T17:27:04.680Z"
   },
   {
    "duration": 0,
    "start_time": "2022-12-11T17:27:04.697Z"
   },
   {
    "duration": 0,
    "start_time": "2022-12-11T17:27:04.698Z"
   },
   {
    "duration": 0,
    "start_time": "2022-12-11T17:27:04.699Z"
   },
   {
    "duration": 0,
    "start_time": "2022-12-11T17:27:04.700Z"
   },
   {
    "duration": 4,
    "start_time": "2022-12-11T17:28:00.200Z"
   },
   {
    "duration": 8,
    "start_time": "2022-12-11T17:28:35.089Z"
   },
   {
    "duration": 1279,
    "start_time": "2022-12-11T17:42:27.815Z"
   },
   {
    "duration": 32,
    "start_time": "2022-12-11T17:42:29.096Z"
   },
   {
    "duration": 11,
    "start_time": "2022-12-11T17:42:29.130Z"
   },
   {
    "duration": 11,
    "start_time": "2022-12-11T17:42:29.143Z"
   },
   {
    "duration": 22,
    "start_time": "2022-12-11T17:42:29.156Z"
   },
   {
    "duration": 799,
    "start_time": "2022-12-11T17:42:29.179Z"
   },
   {
    "duration": 23,
    "start_time": "2022-12-11T17:42:29.979Z"
   },
   {
    "duration": 470,
    "start_time": "2022-12-11T17:42:30.004Z"
   },
   {
    "duration": 7,
    "start_time": "2022-12-11T17:42:30.476Z"
   },
   {
    "duration": 16,
    "start_time": "2022-12-11T17:42:30.485Z"
   },
   {
    "duration": 20,
    "start_time": "2022-12-11T17:42:30.503Z"
   },
   {
    "duration": 38,
    "start_time": "2022-12-11T17:42:30.524Z"
   },
   {
    "duration": 37,
    "start_time": "2022-12-11T17:42:30.564Z"
   },
   {
    "duration": 20,
    "start_time": "2022-12-11T17:42:30.605Z"
   },
   {
    "duration": 70,
    "start_time": "2022-12-11T17:42:30.627Z"
   },
   {
    "duration": 104,
    "start_time": "2022-12-11T17:42:30.699Z"
   },
   {
    "duration": 8,
    "start_time": "2022-12-11T17:42:30.805Z"
   },
   {
    "duration": 20,
    "start_time": "2022-12-11T17:42:30.814Z"
   },
   {
    "duration": 37,
    "start_time": "2022-12-11T17:42:30.836Z"
   },
   {
    "duration": 5,
    "start_time": "2022-12-11T17:42:30.897Z"
   },
   {
    "duration": 92,
    "start_time": "2022-12-11T17:42:30.904Z"
   },
   {
    "duration": 19,
    "start_time": "2022-12-11T17:42:30.998Z"
   },
   {
    "duration": 26,
    "start_time": "2022-12-11T17:42:31.019Z"
   },
   {
    "duration": 53,
    "start_time": "2022-12-11T17:42:31.047Z"
   },
   {
    "duration": 206,
    "start_time": "2022-12-11T17:42:31.102Z"
   },
   {
    "duration": 3,
    "start_time": "2022-12-11T17:42:31.310Z"
   },
   {
    "duration": 26,
    "start_time": "2022-12-11T17:42:31.314Z"
   },
   {
    "duration": 21,
    "start_time": "2022-12-11T17:42:31.341Z"
   },
   {
    "duration": 33,
    "start_time": "2022-12-11T17:42:31.364Z"
   },
   {
    "duration": 9,
    "start_time": "2022-12-11T17:42:31.399Z"
   },
   {
    "duration": 8,
    "start_time": "2022-12-11T17:42:31.409Z"
   },
   {
    "duration": 9,
    "start_time": "2022-12-11T17:42:31.419Z"
   },
   {
    "duration": 27,
    "start_time": "2022-12-11T17:42:31.429Z"
   },
   {
    "duration": 24,
    "start_time": "2022-12-11T17:42:31.458Z"
   },
   {
    "duration": 4,
    "start_time": "2022-12-11T17:42:31.484Z"
   },
   {
    "duration": 115,
    "start_time": "2022-12-11T17:42:31.489Z"
   },
   {
    "duration": 17,
    "start_time": "2022-12-11T17:44:45.467Z"
   },
   {
    "duration": 15,
    "start_time": "2022-12-11T17:45:09.410Z"
   },
   {
    "duration": 4,
    "start_time": "2022-12-11T17:45:56.525Z"
   },
   {
    "duration": 1290,
    "start_time": "2022-12-11T17:46:26.955Z"
   },
   {
    "duration": 32,
    "start_time": "2022-12-11T17:46:28.247Z"
   },
   {
    "duration": 11,
    "start_time": "2022-12-11T17:46:28.281Z"
   },
   {
    "duration": 13,
    "start_time": "2022-12-11T17:46:28.294Z"
   },
   {
    "duration": 24,
    "start_time": "2022-12-11T17:46:28.308Z"
   },
   {
    "duration": 835,
    "start_time": "2022-12-11T17:46:28.334Z"
   },
   {
    "duration": 12,
    "start_time": "2022-12-11T17:46:29.171Z"
   },
   {
    "duration": 469,
    "start_time": "2022-12-11T17:46:29.197Z"
   },
   {
    "duration": 6,
    "start_time": "2022-12-11T17:46:29.668Z"
   },
   {
    "duration": 20,
    "start_time": "2022-12-11T17:46:29.676Z"
   },
   {
    "duration": 3,
    "start_time": "2022-12-11T17:46:29.698Z"
   },
   {
    "duration": 6,
    "start_time": "2022-12-11T17:46:29.703Z"
   },
   {
    "duration": 4,
    "start_time": "2022-12-11T17:46:29.711Z"
   },
   {
    "duration": 5,
    "start_time": "2022-12-11T17:46:29.717Z"
   },
   {
    "duration": 7,
    "start_time": "2022-12-11T17:46:29.725Z"
   },
   {
    "duration": 72,
    "start_time": "2022-12-11T17:46:29.734Z"
   },
   {
    "duration": 92,
    "start_time": "2022-12-11T17:46:29.808Z"
   },
   {
    "duration": 9,
    "start_time": "2022-12-11T17:46:29.903Z"
   },
   {
    "duration": 17,
    "start_time": "2022-12-11T17:46:29.913Z"
   },
   {
    "duration": 67,
    "start_time": "2022-12-11T17:46:29.932Z"
   },
   {
    "duration": 10,
    "start_time": "2022-12-11T17:46:30.001Z"
   },
   {
    "duration": 84,
    "start_time": "2022-12-11T17:46:30.013Z"
   },
   {
    "duration": 15,
    "start_time": "2022-12-11T17:46:30.098Z"
   },
   {
    "duration": 10,
    "start_time": "2022-12-11T17:46:30.115Z"
   },
   {
    "duration": 187,
    "start_time": "2022-12-11T17:46:30.127Z"
   },
   {
    "duration": 5,
    "start_time": "2022-12-11T17:46:30.316Z"
   },
   {
    "duration": 33,
    "start_time": "2022-12-11T17:46:30.323Z"
   },
   {
    "duration": 17,
    "start_time": "2022-12-11T17:46:30.359Z"
   },
   {
    "duration": 47,
    "start_time": "2022-12-11T17:46:30.378Z"
   },
   {
    "duration": 29,
    "start_time": "2022-12-11T17:46:30.427Z"
   },
   {
    "duration": 35,
    "start_time": "2022-12-11T17:46:30.458Z"
   },
   {
    "duration": 59,
    "start_time": "2022-12-11T17:46:30.495Z"
   },
   {
    "duration": 22,
    "start_time": "2022-12-11T17:46:30.556Z"
   },
   {
    "duration": 36,
    "start_time": "2022-12-11T17:46:30.579Z"
   },
   {
    "duration": 25,
    "start_time": "2022-12-11T17:46:30.616Z"
   },
   {
    "duration": 33,
    "start_time": "2022-12-11T17:46:30.642Z"
   },
   {
    "duration": 103,
    "start_time": "2022-12-11T17:47:08.557Z"
   },
   {
    "duration": 1376,
    "start_time": "2022-12-11T17:47:36.767Z"
   },
   {
    "duration": 31,
    "start_time": "2022-12-11T17:47:38.145Z"
   },
   {
    "duration": 11,
    "start_time": "2022-12-11T17:47:38.177Z"
   },
   {
    "duration": 12,
    "start_time": "2022-12-11T17:47:38.189Z"
   },
   {
    "duration": 20,
    "start_time": "2022-12-11T17:47:38.202Z"
   },
   {
    "duration": 772,
    "start_time": "2022-12-11T17:47:38.224Z"
   },
   {
    "duration": 9,
    "start_time": "2022-12-11T17:47:38.998Z"
   },
   {
    "duration": 503,
    "start_time": "2022-12-11T17:47:39.009Z"
   },
   {
    "duration": 6,
    "start_time": "2022-12-11T17:47:39.513Z"
   },
   {
    "duration": 11,
    "start_time": "2022-12-11T17:47:39.522Z"
   },
   {
    "duration": 9,
    "start_time": "2022-12-11T17:47:39.534Z"
   },
   {
    "duration": 8,
    "start_time": "2022-12-11T17:47:39.545Z"
   },
   {
    "duration": 8,
    "start_time": "2022-12-11T17:47:39.554Z"
   },
   {
    "duration": 35,
    "start_time": "2022-12-11T17:47:39.563Z"
   },
   {
    "duration": 97,
    "start_time": "2022-12-11T17:47:39.600Z"
   },
   {
    "duration": 12,
    "start_time": "2022-12-11T17:47:39.698Z"
   },
   {
    "duration": 26,
    "start_time": "2022-12-11T17:47:39.712Z"
   },
   {
    "duration": 12,
    "start_time": "2022-12-11T17:47:39.740Z"
   },
   {
    "duration": 44,
    "start_time": "2022-12-11T17:47:39.754Z"
   },
   {
    "duration": 5,
    "start_time": "2022-12-11T17:47:39.800Z"
   },
   {
    "duration": 91,
    "start_time": "2022-12-11T17:47:39.806Z"
   },
   {
    "duration": 4,
    "start_time": "2022-12-11T17:47:39.898Z"
   },
   {
    "duration": 11,
    "start_time": "2022-12-11T17:47:39.904Z"
   },
   {
    "duration": 84,
    "start_time": "2022-12-11T17:47:39.916Z"
   },
   {
    "duration": 204,
    "start_time": "2022-12-11T17:47:40.002Z"
   },
   {
    "duration": 3,
    "start_time": "2022-12-11T17:47:40.208Z"
   },
   {
    "duration": 8,
    "start_time": "2022-12-11T17:47:40.212Z"
   },
   {
    "duration": 6,
    "start_time": "2022-12-11T17:47:40.223Z"
   },
   {
    "duration": 7,
    "start_time": "2022-12-11T17:47:40.230Z"
   },
   {
    "duration": 7,
    "start_time": "2022-12-11T17:47:40.239Z"
   },
   {
    "duration": 4,
    "start_time": "2022-12-11T17:47:40.248Z"
   },
   {
    "duration": 10,
    "start_time": "2022-12-11T17:47:40.254Z"
   },
   {
    "duration": 20,
    "start_time": "2022-12-11T17:47:40.266Z"
   },
   {
    "duration": 118,
    "start_time": "2022-12-11T17:47:40.296Z"
   },
   {
    "duration": 0,
    "start_time": "2022-12-11T17:47:40.415Z"
   },
   {
    "duration": 0,
    "start_time": "2022-12-11T17:47:40.416Z"
   },
   {
    "duration": 6562,
    "start_time": "2022-12-11T18:09:21.477Z"
   },
   {
    "duration": 6399,
    "start_time": "2022-12-11T18:09:38.254Z"
   },
   {
    "duration": 1357,
    "start_time": "2022-12-11T18:09:55.773Z"
   },
   {
    "duration": 31,
    "start_time": "2022-12-11T18:09:57.132Z"
   },
   {
    "duration": 10,
    "start_time": "2022-12-11T18:09:57.165Z"
   },
   {
    "duration": 10,
    "start_time": "2022-12-11T18:09:57.177Z"
   },
   {
    "duration": 22,
    "start_time": "2022-12-11T18:09:57.189Z"
   },
   {
    "duration": 755,
    "start_time": "2022-12-11T18:09:57.212Z"
   },
   {
    "duration": 10,
    "start_time": "2022-12-11T18:09:57.969Z"
   },
   {
    "duration": 491,
    "start_time": "2022-12-11T18:09:57.981Z"
   },
   {
    "duration": 6,
    "start_time": "2022-12-11T18:09:58.473Z"
   },
   {
    "duration": 19,
    "start_time": "2022-12-11T18:09:58.480Z"
   },
   {
    "duration": 6255,
    "start_time": "2022-12-11T18:09:58.501Z"
   },
   {
    "duration": 4,
    "start_time": "2022-12-11T18:10:04.758Z"
   },
   {
    "duration": 9,
    "start_time": "2022-12-11T18:10:04.763Z"
   },
   {
    "duration": 24,
    "start_time": "2022-12-11T18:10:04.775Z"
   },
   {
    "duration": 9,
    "start_time": "2022-12-11T18:10:04.800Z"
   },
   {
    "duration": 7,
    "start_time": "2022-12-11T18:10:04.811Z"
   },
   {
    "duration": 82,
    "start_time": "2022-12-11T18:10:04.820Z"
   },
   {
    "duration": 92,
    "start_time": "2022-12-11T18:10:04.904Z"
   },
   {
    "duration": 9,
    "start_time": "2022-12-11T18:10:04.998Z"
   },
   {
    "duration": 16,
    "start_time": "2022-12-11T18:10:05.008Z"
   },
   {
    "duration": 71,
    "start_time": "2022-12-11T18:10:05.025Z"
   },
   {
    "duration": 3,
    "start_time": "2022-12-11T18:10:05.099Z"
   },
   {
    "duration": 97,
    "start_time": "2022-12-11T18:10:05.103Z"
   },
   {
    "duration": 16,
    "start_time": "2022-12-11T18:10:05.202Z"
   },
   {
    "duration": 79,
    "start_time": "2022-12-11T18:10:05.219Z"
   },
   {
    "duration": 130,
    "start_time": "2022-12-11T18:10:05.300Z"
   },
   {
    "duration": 4,
    "start_time": "2022-12-11T18:10:05.431Z"
   },
   {
    "duration": 10,
    "start_time": "2022-12-11T18:10:05.437Z"
   },
   {
    "duration": 7,
    "start_time": "2022-12-11T18:10:05.448Z"
   },
   {
    "duration": 11,
    "start_time": "2022-12-11T18:10:05.457Z"
   },
   {
    "duration": 5,
    "start_time": "2022-12-11T18:10:05.469Z"
   },
   {
    "duration": 7,
    "start_time": "2022-12-11T18:10:05.476Z"
   },
   {
    "duration": 11,
    "start_time": "2022-12-11T18:10:05.485Z"
   },
   {
    "duration": 120,
    "start_time": "2022-12-11T18:10:05.498Z"
   },
   {
    "duration": 4,
    "start_time": "2022-12-11T18:10:05.619Z"
   },
   {
    "duration": 20,
    "start_time": "2022-12-11T18:10:05.624Z"
   },
   {
    "duration": 1349,
    "start_time": "2022-12-11T18:11:01.057Z"
   },
   {
    "duration": 32,
    "start_time": "2022-12-11T18:11:02.408Z"
   },
   {
    "duration": 15,
    "start_time": "2022-12-11T18:11:02.442Z"
   },
   {
    "duration": 39,
    "start_time": "2022-12-11T18:11:02.458Z"
   },
   {
    "duration": 30,
    "start_time": "2022-12-11T18:11:02.500Z"
   },
   {
    "duration": 823,
    "start_time": "2022-12-11T18:11:02.531Z"
   },
   {
    "duration": 11,
    "start_time": "2022-12-11T18:11:03.355Z"
   },
   {
    "duration": 508,
    "start_time": "2022-12-11T18:11:03.368Z"
   },
   {
    "duration": 7,
    "start_time": "2022-12-11T18:11:03.877Z"
   },
   {
    "duration": 15,
    "start_time": "2022-12-11T18:11:03.886Z"
   },
   {
    "duration": 6414,
    "start_time": "2022-12-11T18:11:03.903Z"
   },
   {
    "duration": 6,
    "start_time": "2022-12-11T18:11:10.319Z"
   },
   {
    "duration": 18,
    "start_time": "2022-12-11T18:11:10.326Z"
   },
   {
    "duration": 5,
    "start_time": "2022-12-11T18:11:10.348Z"
   },
   {
    "duration": 10,
    "start_time": "2022-12-11T18:11:10.355Z"
   },
   {
    "duration": 30,
    "start_time": "2022-12-11T18:11:10.366Z"
   },
   {
    "duration": 16,
    "start_time": "2022-12-11T18:11:10.398Z"
   },
   {
    "duration": 89,
    "start_time": "2022-12-11T18:11:10.415Z"
   },
   {
    "duration": 12,
    "start_time": "2022-12-11T18:11:10.505Z"
   },
   {
    "duration": 18,
    "start_time": "2022-12-11T18:11:10.518Z"
   },
   {
    "duration": 61,
    "start_time": "2022-12-11T18:11:10.537Z"
   },
   {
    "duration": 96,
    "start_time": "2022-12-11T18:11:10.601Z"
   },
   {
    "duration": 6,
    "start_time": "2022-12-11T18:11:10.699Z"
   },
   {
    "duration": 9,
    "start_time": "2022-12-11T18:11:10.706Z"
   },
   {
    "duration": 79,
    "start_time": "2022-12-11T18:11:10.717Z"
   },
   {
    "duration": 117,
    "start_time": "2022-12-11T18:11:10.799Z"
   },
   {
    "duration": 5,
    "start_time": "2022-12-11T18:11:10.918Z"
   },
   {
    "duration": 12,
    "start_time": "2022-12-11T18:11:10.924Z"
   },
   {
    "duration": 8,
    "start_time": "2022-12-11T18:11:10.938Z"
   },
   {
    "duration": 7,
    "start_time": "2022-12-11T18:11:10.947Z"
   },
   {
    "duration": 9,
    "start_time": "2022-12-11T18:11:10.956Z"
   },
   {
    "duration": 7,
    "start_time": "2022-12-11T18:11:10.966Z"
   },
   {
    "duration": 6,
    "start_time": "2022-12-11T18:11:10.974Z"
   },
   {
    "duration": 133,
    "start_time": "2022-12-11T18:11:10.981Z"
   },
   {
    "duration": 4,
    "start_time": "2022-12-11T18:11:11.116Z"
   },
   {
    "duration": 17,
    "start_time": "2022-12-11T18:11:11.122Z"
   },
   {
    "duration": 1320,
    "start_time": "2022-12-11T18:48:59.833Z"
   },
   {
    "duration": 33,
    "start_time": "2022-12-11T18:49:01.154Z"
   },
   {
    "duration": 11,
    "start_time": "2022-12-11T18:49:01.189Z"
   },
   {
    "duration": 26,
    "start_time": "2022-12-11T18:49:01.202Z"
   },
   {
    "duration": 68,
    "start_time": "2022-12-11T18:49:01.230Z"
   },
   {
    "duration": 814,
    "start_time": "2022-12-11T18:49:01.301Z"
   },
   {
    "duration": 14,
    "start_time": "2022-12-11T18:49:02.117Z"
   },
   {
    "duration": 487,
    "start_time": "2022-12-11T18:49:02.133Z"
   },
   {
    "duration": 7,
    "start_time": "2022-12-11T18:49:02.622Z"
   },
   {
    "duration": 9,
    "start_time": "2022-12-11T18:49:02.632Z"
   },
   {
    "duration": 6688,
    "start_time": "2022-12-11T18:49:02.643Z"
   },
   {
    "duration": 4,
    "start_time": "2022-12-11T18:49:09.333Z"
   },
   {
    "duration": 10,
    "start_time": "2022-12-11T18:49:09.339Z"
   },
   {
    "duration": 15,
    "start_time": "2022-12-11T18:49:09.351Z"
   },
   {
    "duration": 30,
    "start_time": "2022-12-11T18:49:09.367Z"
   },
   {
    "duration": 10,
    "start_time": "2022-12-11T18:49:09.399Z"
   },
   {
    "duration": 92,
    "start_time": "2022-12-11T18:49:09.411Z"
   },
   {
    "duration": 15,
    "start_time": "2022-12-11T18:49:09.505Z"
   },
   {
    "duration": 17,
    "start_time": "2022-12-11T18:49:09.522Z"
   },
   {
    "duration": 60,
    "start_time": "2022-12-11T18:49:09.541Z"
   },
   {
    "duration": 88,
    "start_time": "2022-12-11T18:49:09.608Z"
   },
   {
    "duration": 3,
    "start_time": "2022-12-11T18:49:09.699Z"
   },
   {
    "duration": 6,
    "start_time": "2022-12-11T18:49:09.704Z"
   },
   {
    "duration": 10,
    "start_time": "2022-12-11T18:49:09.712Z"
   },
   {
    "duration": 179,
    "start_time": "2022-12-11T18:49:09.723Z"
   },
   {
    "duration": 198,
    "start_time": "2022-12-11T18:49:09.904Z"
   },
   {
    "duration": 4,
    "start_time": "2022-12-11T18:49:10.105Z"
   },
   {
    "duration": 38,
    "start_time": "2022-12-11T18:49:10.113Z"
   },
   {
    "duration": 16,
    "start_time": "2022-12-11T18:49:10.153Z"
   },
   {
    "duration": 10,
    "start_time": "2022-12-11T18:49:10.171Z"
   },
   {
    "duration": 7,
    "start_time": "2022-12-11T18:49:10.183Z"
   },
   {
    "duration": 18,
    "start_time": "2022-12-11T18:49:10.192Z"
   },
   {
    "duration": 7,
    "start_time": "2022-12-11T18:49:10.212Z"
   },
   {
    "duration": 21,
    "start_time": "2022-12-11T18:49:10.221Z"
   },
   {
    "duration": 4,
    "start_time": "2022-12-11T18:49:10.243Z"
   },
   {
    "duration": 16,
    "start_time": "2022-12-11T18:49:10.249Z"
   },
   {
    "duration": 1806,
    "start_time": "2022-12-12T06:02:15.089Z"
   },
   {
    "duration": 79,
    "start_time": "2022-12-12T06:02:16.896Z"
   },
   {
    "duration": 10,
    "start_time": "2022-12-12T06:02:16.977Z"
   },
   {
    "duration": 10,
    "start_time": "2022-12-12T06:02:16.988Z"
   },
   {
    "duration": 20,
    "start_time": "2022-12-12T06:02:17.000Z"
   },
   {
    "duration": 752,
    "start_time": "2022-12-12T06:02:17.022Z"
   },
   {
    "duration": 10,
    "start_time": "2022-12-12T06:02:17.776Z"
   },
   {
    "duration": 450,
    "start_time": "2022-12-12T06:02:17.797Z"
   },
   {
    "duration": 5,
    "start_time": "2022-12-12T06:02:18.249Z"
   },
   {
    "duration": 7,
    "start_time": "2022-12-12T06:02:18.255Z"
   },
   {
    "duration": 5979,
    "start_time": "2022-12-12T06:02:18.263Z"
   },
   {
    "duration": 4,
    "start_time": "2022-12-12T06:02:24.243Z"
   },
   {
    "duration": 7,
    "start_time": "2022-12-12T06:02:24.249Z"
   },
   {
    "duration": 5,
    "start_time": "2022-12-12T06:02:24.258Z"
   },
   {
    "duration": 8,
    "start_time": "2022-12-12T06:02:24.264Z"
   },
   {
    "duration": 24,
    "start_time": "2022-12-12T06:02:24.274Z"
   },
   {
    "duration": 97,
    "start_time": "2022-12-12T06:02:24.301Z"
   },
   {
    "duration": 9,
    "start_time": "2022-12-12T06:02:24.400Z"
   },
   {
    "duration": 13,
    "start_time": "2022-12-12T06:02:24.411Z"
   },
   {
    "duration": 73,
    "start_time": "2022-12-12T06:02:24.426Z"
   },
   {
    "duration": 6,
    "start_time": "2022-12-12T06:02:24.501Z"
   },
   {
    "duration": 6,
    "start_time": "2022-12-12T06:02:24.509Z"
   },
   {
    "duration": 4,
    "start_time": "2022-12-12T06:02:24.598Z"
   },
   {
    "duration": 24,
    "start_time": "2022-12-12T06:02:24.603Z"
   },
   {
    "duration": 175,
    "start_time": "2022-12-12T06:02:24.629Z"
   },
   {
    "duration": 207,
    "start_time": "2022-12-12T06:02:24.807Z"
   },
   {
    "duration": 3,
    "start_time": "2022-12-12T06:02:25.016Z"
   },
   {
    "duration": 8,
    "start_time": "2022-12-12T06:02:25.020Z"
   },
   {
    "duration": 12,
    "start_time": "2022-12-12T06:02:25.030Z"
   },
   {
    "duration": 13,
    "start_time": "2022-12-12T06:02:25.044Z"
   },
   {
    "duration": 6,
    "start_time": "2022-12-12T06:02:25.058Z"
   },
   {
    "duration": 12,
    "start_time": "2022-12-12T06:02:25.065Z"
   },
   {
    "duration": 7,
    "start_time": "2022-12-12T06:02:25.079Z"
   },
   {
    "duration": 111,
    "start_time": "2022-12-12T06:02:25.087Z"
   },
   {
    "duration": 4,
    "start_time": "2022-12-12T06:02:25.199Z"
   },
   {
    "duration": 17,
    "start_time": "2022-12-12T06:02:25.204Z"
   },
   {
    "duration": 5,
    "start_time": "2022-12-12T06:03:21.635Z"
   },
   {
    "duration": 4,
    "start_time": "2022-12-12T06:03:48.992Z"
   },
   {
    "duration": 1595,
    "start_time": "2022-12-12T07:58:55.325Z"
   },
   {
    "duration": 81,
    "start_time": "2022-12-12T07:58:56.922Z"
   },
   {
    "duration": 13,
    "start_time": "2022-12-12T07:58:57.004Z"
   },
   {
    "duration": 14,
    "start_time": "2022-12-12T07:58:57.019Z"
   },
   {
    "duration": 28,
    "start_time": "2022-12-12T07:58:57.035Z"
   },
   {
    "duration": 949,
    "start_time": "2022-12-12T07:58:57.065Z"
   },
   {
    "duration": 15,
    "start_time": "2022-12-12T07:58:58.015Z"
   },
   {
    "duration": 621,
    "start_time": "2022-12-12T07:58:58.032Z"
   },
   {
    "duration": 7,
    "start_time": "2022-12-12T07:58:58.655Z"
   },
   {
    "duration": 17,
    "start_time": "2022-12-12T07:58:58.664Z"
   },
   {
    "duration": 7030,
    "start_time": "2022-12-12T07:58:58.683Z"
   },
   {
    "duration": 5,
    "start_time": "2022-12-12T07:59:05.714Z"
   },
   {
    "duration": 32,
    "start_time": "2022-12-12T07:59:05.721Z"
   },
   {
    "duration": 10,
    "start_time": "2022-12-12T07:59:05.756Z"
   },
   {
    "duration": 39,
    "start_time": "2022-12-12T07:59:05.768Z"
   },
   {
    "duration": 69,
    "start_time": "2022-12-12T07:59:05.809Z"
   },
   {
    "duration": 103,
    "start_time": "2022-12-12T07:59:05.882Z"
   },
   {
    "duration": 28,
    "start_time": "2022-12-12T07:59:05.988Z"
   },
   {
    "duration": 29,
    "start_time": "2022-12-12T07:59:06.018Z"
   },
   {
    "duration": 20,
    "start_time": "2022-12-12T07:59:06.049Z"
   },
   {
    "duration": 37,
    "start_time": "2022-12-12T07:59:06.070Z"
   },
   {
    "duration": 69,
    "start_time": "2022-12-12T07:59:06.109Z"
   },
   {
    "duration": 98,
    "start_time": "2022-12-12T07:59:06.180Z"
   },
   {
    "duration": 15,
    "start_time": "2022-12-12T07:59:06.280Z"
   },
   {
    "duration": 44,
    "start_time": "2022-12-12T07:59:06.297Z"
   },
   {
    "duration": 139,
    "start_time": "2022-12-12T07:59:06.343Z"
   },
   {
    "duration": 215,
    "start_time": "2022-12-12T07:59:06.484Z"
   },
   {
    "duration": 4,
    "start_time": "2022-12-12T07:59:06.702Z"
   },
   {
    "duration": 35,
    "start_time": "2022-12-12T07:59:06.708Z"
   },
   {
    "duration": 13,
    "start_time": "2022-12-12T07:59:06.745Z"
   },
   {
    "duration": 22,
    "start_time": "2022-12-12T07:59:06.760Z"
   },
   {
    "duration": 14,
    "start_time": "2022-12-12T07:59:06.784Z"
   },
   {
    "duration": 16,
    "start_time": "2022-12-12T07:59:06.800Z"
   },
   {
    "duration": 34,
    "start_time": "2022-12-12T07:59:06.819Z"
   },
   {
    "duration": 148,
    "start_time": "2022-12-12T07:59:06.855Z"
   },
   {
    "duration": 179,
    "start_time": "2022-12-12T07:59:07.005Z"
   },
   {
    "duration": 38,
    "start_time": "2022-12-12T07:59:07.186Z"
   },
   {
    "duration": 1434,
    "start_time": "2022-12-12T08:26:29.957Z"
   },
   {
    "duration": 33,
    "start_time": "2022-12-12T08:26:31.393Z"
   },
   {
    "duration": 14,
    "start_time": "2022-12-12T08:26:31.428Z"
   },
   {
    "duration": 15,
    "start_time": "2022-12-12T08:26:31.445Z"
   },
   {
    "duration": 55,
    "start_time": "2022-12-12T08:26:31.462Z"
   },
   {
    "duration": 889,
    "start_time": "2022-12-12T08:26:31.519Z"
   },
   {
    "duration": 12,
    "start_time": "2022-12-12T08:26:32.410Z"
   },
   {
    "duration": 559,
    "start_time": "2022-12-12T08:26:32.424Z"
   },
   {
    "duration": 7,
    "start_time": "2022-12-12T08:26:32.985Z"
   },
   {
    "duration": 7,
    "start_time": "2022-12-12T08:26:32.995Z"
   },
   {
    "duration": 7210,
    "start_time": "2022-12-12T08:26:33.004Z"
   },
   {
    "duration": 4,
    "start_time": "2022-12-12T08:26:40.215Z"
   },
   {
    "duration": 9,
    "start_time": "2022-12-12T08:26:40.221Z"
   },
   {
    "duration": 10,
    "start_time": "2022-12-12T08:26:40.231Z"
   },
   {
    "duration": 38,
    "start_time": "2022-12-12T08:26:40.242Z"
   },
   {
    "duration": 16,
    "start_time": "2022-12-12T08:26:40.283Z"
   },
   {
    "duration": 6,
    "start_time": "2022-12-12T08:26:40.377Z"
   },
   {
    "duration": 20,
    "start_time": "2022-12-12T08:26:40.385Z"
   },
   {
    "duration": 20,
    "start_time": "2022-12-12T08:26:40.407Z"
   },
   {
    "duration": 14,
    "start_time": "2022-12-12T08:26:40.429Z"
   },
   {
    "duration": 47,
    "start_time": "2022-12-12T08:26:40.444Z"
   },
   {
    "duration": 85,
    "start_time": "2022-12-12T08:26:40.493Z"
   },
   {
    "duration": 9,
    "start_time": "2022-12-12T08:26:40.583Z"
   },
   {
    "duration": 85,
    "start_time": "2022-12-12T08:26:40.594Z"
   },
   {
    "duration": 10,
    "start_time": "2022-12-12T08:26:40.681Z"
   },
   {
    "duration": 89,
    "start_time": "2022-12-12T08:26:40.693Z"
   },
   {
    "duration": 215,
    "start_time": "2022-12-12T08:26:40.784Z"
   },
   {
    "duration": 4,
    "start_time": "2022-12-12T08:26:41.004Z"
   },
   {
    "duration": 24,
    "start_time": "2022-12-12T08:26:41.010Z"
   },
   {
    "duration": 7,
    "start_time": "2022-12-12T08:26:41.036Z"
   },
   {
    "duration": 13,
    "start_time": "2022-12-12T08:26:41.044Z"
   },
   {
    "duration": 14,
    "start_time": "2022-12-12T08:26:41.058Z"
   },
   {
    "duration": 12,
    "start_time": "2022-12-12T08:26:41.074Z"
   },
   {
    "duration": 6,
    "start_time": "2022-12-12T08:26:41.088Z"
   },
   {
    "duration": 19,
    "start_time": "2022-12-12T08:26:41.096Z"
   },
   {
    "duration": 5,
    "start_time": "2022-12-12T08:26:41.117Z"
   },
   {
    "duration": 27,
    "start_time": "2022-12-12T08:26:41.124Z"
   },
   {
    "duration": 1374,
    "start_time": "2022-12-12T10:19:32.301Z"
   },
   {
    "duration": 34,
    "start_time": "2022-12-12T10:19:33.678Z"
   },
   {
    "duration": 12,
    "start_time": "2022-12-12T10:19:33.717Z"
   },
   {
    "duration": 12,
    "start_time": "2022-12-12T10:19:33.730Z"
   },
   {
    "duration": 29,
    "start_time": "2022-12-12T10:19:33.744Z"
   },
   {
    "duration": 871,
    "start_time": "2022-12-12T10:19:33.776Z"
   },
   {
    "duration": 12,
    "start_time": "2022-12-12T10:19:34.648Z"
   },
   {
    "duration": 525,
    "start_time": "2022-12-12T10:19:34.661Z"
   },
   {
    "duration": 6,
    "start_time": "2022-12-12T10:19:35.189Z"
   },
   {
    "duration": 7,
    "start_time": "2022-12-12T10:19:35.196Z"
   },
   {
    "duration": 7224,
    "start_time": "2022-12-12T10:19:35.205Z"
   },
   {
    "duration": 6,
    "start_time": "2022-12-12T10:19:42.431Z"
   },
   {
    "duration": 17,
    "start_time": "2022-12-12T10:19:42.438Z"
   },
   {
    "duration": 24,
    "start_time": "2022-12-12T10:19:42.457Z"
   },
   {
    "duration": 29,
    "start_time": "2022-12-12T10:19:42.483Z"
   },
   {
    "duration": 66,
    "start_time": "2022-12-12T10:19:42.515Z"
   },
   {
    "duration": 95,
    "start_time": "2022-12-12T10:19:42.583Z"
   },
   {
    "duration": 26,
    "start_time": "2022-12-12T10:19:42.680Z"
   },
   {
    "duration": 17,
    "start_time": "2022-12-12T10:19:42.708Z"
   },
   {
    "duration": 28,
    "start_time": "2022-12-12T10:19:42.727Z"
   },
   {
    "duration": 27,
    "start_time": "2022-12-12T10:19:42.756Z"
   },
   {
    "duration": 10,
    "start_time": "2022-12-12T10:19:42.785Z"
   },
   {
    "duration": 81,
    "start_time": "2022-12-12T10:19:42.797Z"
   },
   {
    "duration": 20,
    "start_time": "2022-12-12T10:19:42.881Z"
   },
   {
    "duration": 80,
    "start_time": "2022-12-12T10:19:42.903Z"
   },
   {
    "duration": 97,
    "start_time": "2022-12-12T10:19:42.985Z"
   },
   {
    "duration": 142,
    "start_time": "2022-12-12T10:19:43.087Z"
   },
   {
    "duration": 4,
    "start_time": "2022-12-12T10:19:43.231Z"
   },
   {
    "duration": 23,
    "start_time": "2022-12-12T10:19:43.237Z"
   },
   {
    "duration": 35,
    "start_time": "2022-12-12T10:19:43.261Z"
   },
   {
    "duration": 19,
    "start_time": "2022-12-12T10:19:43.298Z"
   },
   {
    "duration": 5,
    "start_time": "2022-12-12T10:19:43.320Z"
   },
   {
    "duration": 10,
    "start_time": "2022-12-12T10:19:43.327Z"
   },
   {
    "duration": 6,
    "start_time": "2022-12-12T10:19:43.339Z"
   },
   {
    "duration": 22,
    "start_time": "2022-12-12T10:19:43.346Z"
   },
   {
    "duration": 3,
    "start_time": "2022-12-12T10:19:43.370Z"
   },
   {
    "duration": 147,
    "start_time": "2022-12-12T10:19:43.375Z"
   },
   {
    "duration": 1410,
    "start_time": "2022-12-12T10:21:08.846Z"
   },
   {
    "duration": 33,
    "start_time": "2022-12-12T10:21:10.258Z"
   },
   {
    "duration": 11,
    "start_time": "2022-12-12T10:21:10.293Z"
   },
   {
    "duration": 11,
    "start_time": "2022-12-12T10:21:10.306Z"
   },
   {
    "duration": 28,
    "start_time": "2022-12-12T10:21:10.319Z"
   },
   {
    "duration": 892,
    "start_time": "2022-12-12T10:21:10.349Z"
   },
   {
    "duration": 11,
    "start_time": "2022-12-12T10:21:11.243Z"
   },
   {
    "duration": 512,
    "start_time": "2022-12-12T10:21:11.256Z"
   },
   {
    "duration": 11,
    "start_time": "2022-12-12T10:21:11.770Z"
   },
   {
    "duration": 9,
    "start_time": "2022-12-12T10:21:11.784Z"
   },
   {
    "duration": 7047,
    "start_time": "2022-12-12T10:21:11.795Z"
   },
   {
    "duration": 5,
    "start_time": "2022-12-12T10:21:18.844Z"
   },
   {
    "duration": 9,
    "start_time": "2022-12-12T10:21:18.852Z"
   },
   {
    "duration": 29,
    "start_time": "2022-12-12T10:21:18.862Z"
   },
   {
    "duration": 16,
    "start_time": "2022-12-12T10:21:18.893Z"
   },
   {
    "duration": 66,
    "start_time": "2022-12-12T10:21:18.912Z"
   },
   {
    "duration": 14,
    "start_time": "2022-12-12T10:21:18.981Z"
   },
   {
    "duration": 117,
    "start_time": "2022-12-12T10:21:18.998Z"
   },
   {
    "duration": 38,
    "start_time": "2022-12-12T10:21:19.117Z"
   },
   {
    "duration": 20,
    "start_time": "2022-12-12T10:21:19.156Z"
   },
   {
    "duration": 42,
    "start_time": "2022-12-12T10:21:19.177Z"
   },
   {
    "duration": 63,
    "start_time": "2022-12-12T10:21:19.222Z"
   },
   {
    "duration": 91,
    "start_time": "2022-12-12T10:21:19.287Z"
   },
   {
    "duration": 20,
    "start_time": "2022-12-12T10:21:19.380Z"
   },
   {
    "duration": 16,
    "start_time": "2022-12-12T10:21:19.402Z"
   },
   {
    "duration": 63,
    "start_time": "2022-12-12T10:21:19.420Z"
   },
   {
    "duration": 207,
    "start_time": "2022-12-12T10:21:19.485Z"
   },
   {
    "duration": 4,
    "start_time": "2022-12-12T10:21:19.696Z"
   },
   {
    "duration": 14,
    "start_time": "2022-12-12T10:21:19.702Z"
   },
   {
    "duration": 13,
    "start_time": "2022-12-12T10:21:19.718Z"
   },
   {
    "duration": 23,
    "start_time": "2022-12-12T10:21:19.733Z"
   },
   {
    "duration": 10,
    "start_time": "2022-12-12T10:21:19.758Z"
   },
   {
    "duration": 9,
    "start_time": "2022-12-12T10:21:19.769Z"
   },
   {
    "duration": 11,
    "start_time": "2022-12-12T10:21:19.780Z"
   },
   {
    "duration": 33,
    "start_time": "2022-12-12T10:21:19.792Z"
   },
   {
    "duration": 5,
    "start_time": "2022-12-12T10:21:19.827Z"
   },
   {
    "duration": 28,
    "start_time": "2022-12-12T10:21:19.834Z"
   },
   {
    "duration": 1433,
    "start_time": "2022-12-12T10:22:05.295Z"
   },
   {
    "duration": 33,
    "start_time": "2022-12-12T10:22:06.730Z"
   },
   {
    "duration": 15,
    "start_time": "2022-12-12T10:22:06.765Z"
   },
   {
    "duration": 14,
    "start_time": "2022-12-12T10:22:06.783Z"
   },
   {
    "duration": 24,
    "start_time": "2022-12-12T10:22:06.798Z"
   },
   {
    "duration": 932,
    "start_time": "2022-12-12T10:22:06.824Z"
   },
   {
    "duration": 22,
    "start_time": "2022-12-12T10:22:07.758Z"
   },
   {
    "duration": 557,
    "start_time": "2022-12-12T10:22:07.782Z"
   },
   {
    "duration": 9,
    "start_time": "2022-12-12T10:22:08.341Z"
   },
   {
    "duration": 24,
    "start_time": "2022-12-12T10:22:08.353Z"
   },
   {
    "duration": 7016,
    "start_time": "2022-12-12T10:22:08.382Z"
   },
   {
    "duration": 4,
    "start_time": "2022-12-12T10:22:15.400Z"
   },
   {
    "duration": 13,
    "start_time": "2022-12-12T10:22:15.405Z"
   },
   {
    "duration": 13,
    "start_time": "2022-12-12T10:22:15.420Z"
   },
   {
    "duration": 13,
    "start_time": "2022-12-12T10:22:15.434Z"
   },
   {
    "duration": 31,
    "start_time": "2022-12-12T10:22:15.449Z"
   },
   {
    "duration": 199,
    "start_time": "2022-12-12T10:22:15.482Z"
   },
   {
    "duration": 0,
    "start_time": "2022-12-12T10:22:15.683Z"
   },
   {
    "duration": 0,
    "start_time": "2022-12-12T10:22:15.684Z"
   },
   {
    "duration": 0,
    "start_time": "2022-12-12T10:22:15.685Z"
   },
   {
    "duration": 0,
    "start_time": "2022-12-12T10:22:15.686Z"
   },
   {
    "duration": 0,
    "start_time": "2022-12-12T10:22:15.688Z"
   },
   {
    "duration": 0,
    "start_time": "2022-12-12T10:22:15.689Z"
   },
   {
    "duration": 0,
    "start_time": "2022-12-12T10:22:15.690Z"
   },
   {
    "duration": 0,
    "start_time": "2022-12-12T10:22:15.691Z"
   },
   {
    "duration": 0,
    "start_time": "2022-12-12T10:22:15.692Z"
   },
   {
    "duration": 0,
    "start_time": "2022-12-12T10:22:15.693Z"
   },
   {
    "duration": 0,
    "start_time": "2022-12-12T10:22:15.694Z"
   },
   {
    "duration": 0,
    "start_time": "2022-12-12T10:22:15.695Z"
   },
   {
    "duration": 0,
    "start_time": "2022-12-12T10:22:15.696Z"
   },
   {
    "duration": 0,
    "start_time": "2022-12-12T10:22:15.697Z"
   },
   {
    "duration": 0,
    "start_time": "2022-12-12T10:22:15.698Z"
   },
   {
    "duration": 0,
    "start_time": "2022-12-12T10:22:15.699Z"
   },
   {
    "duration": 0,
    "start_time": "2022-12-12T10:22:15.701Z"
   },
   {
    "duration": 0,
    "start_time": "2022-12-12T10:22:15.701Z"
   },
   {
    "duration": 0,
    "start_time": "2022-12-12T10:22:15.703Z"
   },
   {
    "duration": 0,
    "start_time": "2022-12-12T10:22:15.704Z"
   },
   {
    "duration": 10,
    "start_time": "2022-12-12T10:22:50.764Z"
   },
   {
    "duration": 10,
    "start_time": "2022-12-12T10:24:28.515Z"
   },
   {
    "duration": 13,
    "start_time": "2022-12-12T10:25:33.771Z"
   },
   {
    "duration": 11,
    "start_time": "2022-12-12T10:25:41.450Z"
   },
   {
    "duration": 10,
    "start_time": "2022-12-12T10:25:50.851Z"
   },
   {
    "duration": 12,
    "start_time": "2022-12-12T10:27:55.641Z"
   },
   {
    "duration": 11,
    "start_time": "2022-12-12T10:28:00.817Z"
   },
   {
    "duration": 5,
    "start_time": "2022-12-12T10:30:04.792Z"
   },
   {
    "duration": 563,
    "start_time": "2022-12-12T10:30:21.511Z"
   },
   {
    "duration": 5,
    "start_time": "2022-12-12T10:30:32.440Z"
   },
   {
    "duration": 535,
    "start_time": "2022-12-12T10:31:28.655Z"
   },
   {
    "duration": 6,
    "start_time": "2022-12-12T10:31:35.839Z"
   },
   {
    "duration": 5,
    "start_time": "2022-12-12T10:42:14.637Z"
   },
   {
    "duration": 13,
    "start_time": "2022-12-12T10:42:33.409Z"
   },
   {
    "duration": 17,
    "start_time": "2022-12-12T10:43:03.049Z"
   },
   {
    "duration": 1390,
    "start_time": "2022-12-12T10:43:24.400Z"
   },
   {
    "duration": 34,
    "start_time": "2022-12-12T10:43:25.793Z"
   },
   {
    "duration": 18,
    "start_time": "2022-12-12T10:43:25.830Z"
   },
   {
    "duration": 28,
    "start_time": "2022-12-12T10:43:25.851Z"
   },
   {
    "duration": 33,
    "start_time": "2022-12-12T10:43:25.881Z"
   },
   {
    "duration": 955,
    "start_time": "2022-12-12T10:43:25.916Z"
   },
   {
    "duration": 14,
    "start_time": "2022-12-12T10:43:26.873Z"
   },
   {
    "duration": 511,
    "start_time": "2022-12-12T10:43:26.889Z"
   },
   {
    "duration": 6,
    "start_time": "2022-12-12T10:43:27.402Z"
   },
   {
    "duration": 19,
    "start_time": "2022-12-12T10:43:27.411Z"
   },
   {
    "duration": 7119,
    "start_time": "2022-12-12T10:43:27.432Z"
   },
   {
    "duration": 5,
    "start_time": "2022-12-12T10:43:34.554Z"
   },
   {
    "duration": 25,
    "start_time": "2022-12-12T10:43:34.562Z"
   },
   {
    "duration": 6,
    "start_time": "2022-12-12T10:43:34.590Z"
   },
   {
    "duration": 7,
    "start_time": "2022-12-12T10:43:34.598Z"
   },
   {
    "duration": 11,
    "start_time": "2022-12-12T10:43:34.607Z"
   },
   {
    "duration": 12,
    "start_time": "2022-12-12T10:43:34.679Z"
   },
   {
    "duration": 295,
    "start_time": "2022-12-12T10:43:34.693Z"
   },
   {
    "duration": 0,
    "start_time": "2022-12-12T10:43:34.990Z"
   },
   {
    "duration": 0,
    "start_time": "2022-12-12T10:43:34.991Z"
   },
   {
    "duration": 0,
    "start_time": "2022-12-12T10:43:34.993Z"
   },
   {
    "duration": 0,
    "start_time": "2022-12-12T10:43:34.994Z"
   },
   {
    "duration": 0,
    "start_time": "2022-12-12T10:43:34.996Z"
   },
   {
    "duration": 0,
    "start_time": "2022-12-12T10:43:34.997Z"
   },
   {
    "duration": 0,
    "start_time": "2022-12-12T10:43:34.999Z"
   },
   {
    "duration": 0,
    "start_time": "2022-12-12T10:43:35.000Z"
   },
   {
    "duration": 0,
    "start_time": "2022-12-12T10:43:35.002Z"
   },
   {
    "duration": 0,
    "start_time": "2022-12-12T10:43:35.004Z"
   },
   {
    "duration": 0,
    "start_time": "2022-12-12T10:43:35.005Z"
   },
   {
    "duration": 0,
    "start_time": "2022-12-12T10:43:35.006Z"
   },
   {
    "duration": 0,
    "start_time": "2022-12-12T10:43:35.008Z"
   },
   {
    "duration": 0,
    "start_time": "2022-12-12T10:43:35.009Z"
   },
   {
    "duration": 1,
    "start_time": "2022-12-12T10:43:35.011Z"
   },
   {
    "duration": 0,
    "start_time": "2022-12-12T10:43:35.013Z"
   },
   {
    "duration": 0,
    "start_time": "2022-12-12T10:43:35.014Z"
   },
   {
    "duration": 0,
    "start_time": "2022-12-12T10:43:35.016Z"
   },
   {
    "duration": 0,
    "start_time": "2022-12-12T10:43:35.018Z"
   },
   {
    "duration": 0,
    "start_time": "2022-12-12T10:43:35.019Z"
   },
   {
    "duration": 23,
    "start_time": "2022-12-12T10:45:52.617Z"
   },
   {
    "duration": 13,
    "start_time": "2022-12-12T10:46:16.305Z"
   },
   {
    "duration": 19,
    "start_time": "2022-12-12T10:48:39.245Z"
   },
   {
    "duration": 17,
    "start_time": "2022-12-12T10:50:33.444Z"
   },
   {
    "duration": 1506,
    "start_time": "2022-12-12T10:50:44.100Z"
   },
   {
    "duration": 34,
    "start_time": "2022-12-12T10:50:45.608Z"
   },
   {
    "duration": 16,
    "start_time": "2022-12-12T10:50:45.644Z"
   },
   {
    "duration": 18,
    "start_time": "2022-12-12T10:50:45.663Z"
   },
   {
    "duration": 31,
    "start_time": "2022-12-12T10:50:45.682Z"
   },
   {
    "duration": 932,
    "start_time": "2022-12-12T10:50:45.715Z"
   },
   {
    "duration": 15,
    "start_time": "2022-12-12T10:50:46.649Z"
   },
   {
    "duration": 515,
    "start_time": "2022-12-12T10:50:46.666Z"
   },
   {
    "duration": 7,
    "start_time": "2022-12-12T10:50:47.183Z"
   },
   {
    "duration": 25,
    "start_time": "2022-12-12T10:50:47.193Z"
   },
   {
    "duration": 7264,
    "start_time": "2022-12-12T10:50:47.219Z"
   },
   {
    "duration": 5,
    "start_time": "2022-12-12T10:50:54.485Z"
   },
   {
    "duration": 17,
    "start_time": "2022-12-12T10:50:54.491Z"
   },
   {
    "duration": 8,
    "start_time": "2022-12-12T10:50:54.510Z"
   },
   {
    "duration": 13,
    "start_time": "2022-12-12T10:50:54.520Z"
   },
   {
    "duration": 47,
    "start_time": "2022-12-12T10:50:54.535Z"
   },
   {
    "duration": 97,
    "start_time": "2022-12-12T10:50:54.584Z"
   },
   {
    "duration": 239,
    "start_time": "2022-12-12T10:50:54.683Z"
   },
   {
    "duration": 0,
    "start_time": "2022-12-12T10:50:54.925Z"
   },
   {
    "duration": 0,
    "start_time": "2022-12-12T10:50:54.926Z"
   },
   {
    "duration": 0,
    "start_time": "2022-12-12T10:50:54.927Z"
   },
   {
    "duration": 0,
    "start_time": "2022-12-12T10:50:54.930Z"
   },
   {
    "duration": 0,
    "start_time": "2022-12-12T10:50:54.931Z"
   },
   {
    "duration": 0,
    "start_time": "2022-12-12T10:50:54.933Z"
   },
   {
    "duration": 0,
    "start_time": "2022-12-12T10:50:54.934Z"
   },
   {
    "duration": 0,
    "start_time": "2022-12-12T10:50:54.936Z"
   },
   {
    "duration": 0,
    "start_time": "2022-12-12T10:50:54.937Z"
   },
   {
    "duration": 0,
    "start_time": "2022-12-12T10:50:54.938Z"
   },
   {
    "duration": 0,
    "start_time": "2022-12-12T10:50:54.940Z"
   },
   {
    "duration": 0,
    "start_time": "2022-12-12T10:50:54.941Z"
   },
   {
    "duration": 0,
    "start_time": "2022-12-12T10:50:54.943Z"
   },
   {
    "duration": 1,
    "start_time": "2022-12-12T10:50:54.944Z"
   },
   {
    "duration": 0,
    "start_time": "2022-12-12T10:50:54.946Z"
   },
   {
    "duration": 0,
    "start_time": "2022-12-12T10:50:54.978Z"
   },
   {
    "duration": 0,
    "start_time": "2022-12-12T10:50:54.980Z"
   },
   {
    "duration": 1,
    "start_time": "2022-12-12T10:50:54.981Z"
   },
   {
    "duration": 0,
    "start_time": "2022-12-12T10:50:54.983Z"
   },
   {
    "duration": 0,
    "start_time": "2022-12-12T10:50:54.985Z"
   },
   {
    "duration": 12,
    "start_time": "2022-12-12T10:55:47.649Z"
   },
   {
    "duration": 31,
    "start_time": "2022-12-12T10:56:27.554Z"
   },
   {
    "duration": 12,
    "start_time": "2022-12-12T10:56:59.698Z"
   },
   {
    "duration": 15,
    "start_time": "2022-12-12T10:57:23.097Z"
   },
   {
    "duration": 12,
    "start_time": "2022-12-12T10:58:00.273Z"
   },
   {
    "duration": 13,
    "start_time": "2022-12-12T10:58:44.897Z"
   },
   {
    "duration": 12,
    "start_time": "2022-12-12T10:59:04.520Z"
   },
   {
    "duration": 11,
    "start_time": "2022-12-12T11:00:31.841Z"
   },
   {
    "duration": 12,
    "start_time": "2022-12-12T11:01:04.839Z"
   },
   {
    "duration": 10,
    "start_time": "2022-12-12T11:02:44.159Z"
   },
   {
    "duration": 15,
    "start_time": "2022-12-12T11:10:02.691Z"
   },
   {
    "duration": 11,
    "start_time": "2022-12-12T11:10:18.667Z"
   },
   {
    "duration": 12,
    "start_time": "2022-12-12T11:10:33.138Z"
   },
   {
    "duration": 11,
    "start_time": "2022-12-12T11:10:37.746Z"
   },
   {
    "duration": 14,
    "start_time": "2022-12-12T11:11:10.465Z"
   },
   {
    "duration": 13,
    "start_time": "2022-12-12T11:11:15.067Z"
   },
   {
    "duration": 64,
    "start_time": "2022-12-12T11:23:38.380Z"
   },
   {
    "duration": 5,
    "start_time": "2022-12-12T11:24:07.283Z"
   },
   {
    "duration": 14,
    "start_time": "2022-12-12T11:24:13.859Z"
   },
   {
    "duration": 4,
    "start_time": "2022-12-12T11:24:21.763Z"
   },
   {
    "duration": 7,
    "start_time": "2022-12-12T11:24:53.859Z"
   },
   {
    "duration": 1388,
    "start_time": "2022-12-12T11:30:20.767Z"
   },
   {
    "duration": 35,
    "start_time": "2022-12-12T11:30:22.158Z"
   },
   {
    "duration": 12,
    "start_time": "2022-12-12T11:30:22.195Z"
   },
   {
    "duration": 12,
    "start_time": "2022-12-12T11:30:22.209Z"
   },
   {
    "duration": 24,
    "start_time": "2022-12-12T11:30:22.222Z"
   },
   {
    "duration": 873,
    "start_time": "2022-12-12T11:30:22.247Z"
   },
   {
    "duration": 13,
    "start_time": "2022-12-12T11:30:23.122Z"
   },
   {
    "duration": 526,
    "start_time": "2022-12-12T11:30:23.137Z"
   },
   {
    "duration": 12,
    "start_time": "2022-12-12T11:30:23.665Z"
   },
   {
    "duration": 8,
    "start_time": "2022-12-12T11:30:23.681Z"
   },
   {
    "duration": 7044,
    "start_time": "2022-12-12T11:30:23.690Z"
   },
   {
    "duration": 5,
    "start_time": "2022-12-12T11:30:30.736Z"
   },
   {
    "duration": 35,
    "start_time": "2022-12-12T11:30:30.743Z"
   },
   {
    "duration": 24,
    "start_time": "2022-12-12T11:30:30.780Z"
   },
   {
    "duration": 22,
    "start_time": "2022-12-12T11:30:30.806Z"
   },
   {
    "duration": 47,
    "start_time": "2022-12-12T11:30:30.831Z"
   },
   {
    "duration": 18,
    "start_time": "2022-12-12T11:30:30.880Z"
   },
   {
    "duration": 95,
    "start_time": "2022-12-12T11:30:30.900Z"
   },
   {
    "duration": 100,
    "start_time": "2022-12-12T11:30:30.997Z"
   },
   {
    "duration": 110,
    "start_time": "2022-12-12T11:30:31.099Z"
   },
   {
    "duration": 35,
    "start_time": "2022-12-12T11:30:31.211Z"
   },
   {
    "duration": 23,
    "start_time": "2022-12-12T11:30:31.248Z"
   },
   {
    "duration": 4,
    "start_time": "2022-12-12T11:30:31.278Z"
   },
   {
    "duration": 94,
    "start_time": "2022-12-12T11:30:31.284Z"
   },
   {
    "duration": 13,
    "start_time": "2022-12-12T11:30:31.380Z"
   },
   {
    "duration": 16,
    "start_time": "2022-12-12T11:30:31.395Z"
   },
   {
    "duration": 10,
    "start_time": "2022-12-12T11:30:31.478Z"
   },
   {
    "duration": 205,
    "start_time": "2022-12-12T11:30:31.492Z"
   },
   {
    "duration": 4,
    "start_time": "2022-12-12T11:30:31.699Z"
   },
   {
    "duration": 17,
    "start_time": "2022-12-12T11:30:31.705Z"
   },
   {
    "duration": 14,
    "start_time": "2022-12-12T11:30:31.724Z"
   },
   {
    "duration": 18,
    "start_time": "2022-12-12T11:30:31.740Z"
   },
   {
    "duration": 8,
    "start_time": "2022-12-12T11:30:31.760Z"
   },
   {
    "duration": 9,
    "start_time": "2022-12-12T11:30:31.770Z"
   },
   {
    "duration": 12,
    "start_time": "2022-12-12T11:30:31.781Z"
   },
   {
    "duration": 21,
    "start_time": "2022-12-12T11:30:31.794Z"
   },
   {
    "duration": 4,
    "start_time": "2022-12-12T11:30:31.817Z"
   },
   {
    "duration": 145,
    "start_time": "2022-12-12T11:30:31.822Z"
   },
   {
    "duration": 1487,
    "start_time": "2022-12-12T11:30:55.135Z"
   },
   {
    "duration": 34,
    "start_time": "2022-12-12T11:30:56.624Z"
   },
   {
    "duration": 11,
    "start_time": "2022-12-12T11:30:56.660Z"
   },
   {
    "duration": 17,
    "start_time": "2022-12-12T11:30:56.674Z"
   },
   {
    "duration": 25,
    "start_time": "2022-12-12T11:30:56.693Z"
   },
   {
    "duration": 899,
    "start_time": "2022-12-12T11:30:56.720Z"
   },
   {
    "duration": 11,
    "start_time": "2022-12-12T11:30:57.621Z"
   },
   {
    "duration": 537,
    "start_time": "2022-12-12T11:30:57.634Z"
   },
   {
    "duration": 8,
    "start_time": "2022-12-12T11:30:58.173Z"
   },
   {
    "duration": 6,
    "start_time": "2022-12-12T11:30:58.184Z"
   },
   {
    "duration": 6962,
    "start_time": "2022-12-12T11:30:58.192Z"
   },
   {
    "duration": 4,
    "start_time": "2022-12-12T11:31:05.156Z"
   },
   {
    "duration": 18,
    "start_time": "2022-12-12T11:31:05.162Z"
   },
   {
    "duration": 7,
    "start_time": "2022-12-12T11:31:05.182Z"
   },
   {
    "duration": 39,
    "start_time": "2022-12-12T11:31:05.191Z"
   },
   {
    "duration": 48,
    "start_time": "2022-12-12T11:31:05.232Z"
   },
   {
    "duration": 1444,
    "start_time": "2022-12-12T11:31:59.542Z"
   },
   {
    "duration": 34,
    "start_time": "2022-12-12T11:32:00.989Z"
   },
   {
    "duration": 13,
    "start_time": "2022-12-12T11:32:01.025Z"
   },
   {
    "duration": 36,
    "start_time": "2022-12-12T11:32:01.040Z"
   },
   {
    "duration": 36,
    "start_time": "2022-12-12T11:32:01.078Z"
   },
   {
    "duration": 876,
    "start_time": "2022-12-12T11:32:01.116Z"
   },
   {
    "duration": 10,
    "start_time": "2022-12-12T11:32:01.994Z"
   },
   {
    "duration": 519,
    "start_time": "2022-12-12T11:32:02.006Z"
   },
   {
    "duration": 6,
    "start_time": "2022-12-12T11:32:02.527Z"
   },
   {
    "duration": 26,
    "start_time": "2022-12-12T11:32:02.535Z"
   },
   {
    "duration": 6802,
    "start_time": "2022-12-12T11:32:02.568Z"
   },
   {
    "duration": 6,
    "start_time": "2022-12-12T11:32:09.372Z"
   },
   {
    "duration": 6,
    "start_time": "2022-12-12T11:32:09.380Z"
   },
   {
    "duration": 7,
    "start_time": "2022-12-12T11:32:09.387Z"
   },
   {
    "duration": 10,
    "start_time": "2022-12-12T11:32:09.395Z"
   },
   {
    "duration": 72,
    "start_time": "2022-12-12T11:32:09.407Z"
   },
   {
    "duration": 11,
    "start_time": "2022-12-12T11:32:09.481Z"
   },
   {
    "duration": 87,
    "start_time": "2022-12-12T11:32:09.494Z"
   },
   {
    "duration": 95,
    "start_time": "2022-12-12T11:32:09.583Z"
   },
   {
    "duration": 11,
    "start_time": "2022-12-12T11:32:09.680Z"
   },
   {
    "duration": 9,
    "start_time": "2022-12-12T11:32:09.692Z"
   },
   {
    "duration": 78,
    "start_time": "2022-12-12T11:32:09.702Z"
   },
   {
    "duration": 6,
    "start_time": "2022-12-12T11:32:09.782Z"
   },
   {
    "duration": 89,
    "start_time": "2022-12-12T11:32:09.789Z"
   },
   {
    "duration": 10,
    "start_time": "2022-12-12T11:32:09.880Z"
   },
   {
    "duration": 17,
    "start_time": "2022-12-12T11:32:09.891Z"
   },
   {
    "duration": 73,
    "start_time": "2022-12-12T11:32:09.910Z"
   },
   {
    "duration": 208,
    "start_time": "2022-12-12T11:32:09.987Z"
   },
   {
    "duration": 4,
    "start_time": "2022-12-12T11:32:10.196Z"
   },
   {
    "duration": 9,
    "start_time": "2022-12-12T11:32:10.202Z"
   },
   {
    "duration": 8,
    "start_time": "2022-12-12T11:32:10.212Z"
   },
   {
    "duration": 19,
    "start_time": "2022-12-12T11:32:10.221Z"
   },
   {
    "duration": 5,
    "start_time": "2022-12-12T11:32:10.242Z"
   },
   {
    "duration": 7,
    "start_time": "2022-12-12T11:32:10.248Z"
   },
   {
    "duration": 6,
    "start_time": "2022-12-12T11:32:10.256Z"
   },
   {
    "duration": 27,
    "start_time": "2022-12-12T11:32:10.263Z"
   },
   {
    "duration": 3,
    "start_time": "2022-12-12T11:32:10.292Z"
   },
   {
    "duration": 137,
    "start_time": "2022-12-12T11:32:10.297Z"
   },
   {
    "duration": 1551,
    "start_time": "2022-12-12T12:18:59.988Z"
   },
   {
    "duration": 34,
    "start_time": "2022-12-12T12:19:01.544Z"
   },
   {
    "duration": 13,
    "start_time": "2022-12-12T12:19:01.579Z"
   },
   {
    "duration": 45,
    "start_time": "2022-12-12T12:19:01.596Z"
   },
   {
    "duration": 37,
    "start_time": "2022-12-12T12:19:01.643Z"
   },
   {
    "duration": 905,
    "start_time": "2022-12-12T12:19:01.682Z"
   },
   {
    "duration": 13,
    "start_time": "2022-12-12T12:19:02.589Z"
   },
   {
    "duration": 519,
    "start_time": "2022-12-12T12:19:02.604Z"
   },
   {
    "duration": 8,
    "start_time": "2022-12-12T12:19:03.125Z"
   },
   {
    "duration": 38,
    "start_time": "2022-12-12T12:19:03.137Z"
   },
   {
    "duration": 7515,
    "start_time": "2022-12-12T12:19:03.177Z"
   },
   {
    "duration": 6,
    "start_time": "2022-12-12T12:19:10.694Z"
   },
   {
    "duration": 29,
    "start_time": "2022-12-12T12:19:10.701Z"
   },
   {
    "duration": 21,
    "start_time": "2022-12-12T12:19:10.732Z"
   },
   {
    "duration": 50,
    "start_time": "2022-12-12T12:19:10.755Z"
   },
   {
    "duration": 172,
    "start_time": "2022-12-12T12:19:10.807Z"
   },
   {
    "duration": 39,
    "start_time": "2022-12-12T12:19:10.981Z"
   },
   {
    "duration": 59,
    "start_time": "2022-12-12T12:19:11.022Z"
   },
   {
    "duration": 96,
    "start_time": "2022-12-12T12:19:11.083Z"
   },
   {
    "duration": 13,
    "start_time": "2022-12-12T12:19:11.181Z"
   },
   {
    "duration": 112,
    "start_time": "2022-12-12T12:19:11.196Z"
   },
   {
    "duration": 35,
    "start_time": "2022-12-12T12:19:11.311Z"
   },
   {
    "duration": 35,
    "start_time": "2022-12-12T12:19:11.348Z"
   },
   {
    "duration": 106,
    "start_time": "2022-12-12T12:19:11.387Z"
   },
   {
    "duration": 53,
    "start_time": "2022-12-12T12:19:11.495Z"
   },
   {
    "duration": 41,
    "start_time": "2022-12-12T12:19:11.550Z"
   },
   {
    "duration": 90,
    "start_time": "2022-12-12T12:19:11.593Z"
   },
   {
    "duration": 211,
    "start_time": "2022-12-12T12:19:11.688Z"
   },
   {
    "duration": 4,
    "start_time": "2022-12-12T12:19:11.901Z"
   },
   {
    "duration": 18,
    "start_time": "2022-12-12T12:19:11.907Z"
   },
   {
    "duration": 13,
    "start_time": "2022-12-12T12:19:11.927Z"
   },
   {
    "duration": 23,
    "start_time": "2022-12-12T12:19:11.941Z"
   },
   {
    "duration": 12,
    "start_time": "2022-12-12T12:19:11.965Z"
   },
   {
    "duration": 29,
    "start_time": "2022-12-12T12:19:11.980Z"
   },
   {
    "duration": 54,
    "start_time": "2022-12-12T12:19:12.011Z"
   },
   {
    "duration": 19,
    "start_time": "2022-12-12T12:19:12.067Z"
   },
   {
    "duration": 21,
    "start_time": "2022-12-12T12:19:12.088Z"
   },
   {
    "duration": 171,
    "start_time": "2022-12-12T12:19:12.111Z"
   },
   {
    "duration": 14,
    "start_time": "2022-12-12T12:20:54.814Z"
   },
   {
    "duration": 8,
    "start_time": "2022-12-12T12:24:56.829Z"
   },
   {
    "duration": 11,
    "start_time": "2022-12-12T12:25:06.716Z"
   },
   {
    "duration": 10,
    "start_time": "2022-12-12T12:25:14.036Z"
   },
   {
    "duration": 7,
    "start_time": "2022-12-12T12:26:34.321Z"
   },
   {
    "duration": 11,
    "start_time": "2022-12-12T12:26:36.354Z"
   },
   {
    "duration": 15,
    "start_time": "2022-12-12T12:26:39.659Z"
   },
   {
    "duration": 16,
    "start_time": "2022-12-12T12:26:51.275Z"
   },
   {
    "duration": 16,
    "start_time": "2022-12-12T12:26:58.483Z"
   },
   {
    "duration": 1479,
    "start_time": "2022-12-12T12:27:19.655Z"
   },
   {
    "duration": 34,
    "start_time": "2022-12-12T12:27:21.136Z"
   },
   {
    "duration": 12,
    "start_time": "2022-12-12T12:27:21.171Z"
   },
   {
    "duration": 42,
    "start_time": "2022-12-12T12:27:21.185Z"
   },
   {
    "duration": 24,
    "start_time": "2022-12-12T12:27:21.229Z"
   },
   {
    "duration": 876,
    "start_time": "2022-12-12T12:27:21.255Z"
   },
   {
    "duration": 12,
    "start_time": "2022-12-12T12:27:22.133Z"
   },
   {
    "duration": 526,
    "start_time": "2022-12-12T12:27:22.147Z"
   },
   {
    "duration": 7,
    "start_time": "2022-12-12T12:27:22.677Z"
   },
   {
    "duration": 42,
    "start_time": "2022-12-12T12:27:22.686Z"
   },
   {
    "duration": 7288,
    "start_time": "2022-12-12T12:27:22.730Z"
   },
   {
    "duration": 5,
    "start_time": "2022-12-12T12:27:30.020Z"
   },
   {
    "duration": 99,
    "start_time": "2022-12-12T12:27:30.027Z"
   },
   {
    "duration": 31,
    "start_time": "2022-12-12T12:27:30.128Z"
   },
   {
    "duration": 38,
    "start_time": "2022-12-12T12:27:30.161Z"
   },
   {
    "duration": 82,
    "start_time": "2022-12-12T12:27:30.201Z"
   },
   {
    "duration": 100,
    "start_time": "2022-12-12T12:27:30.286Z"
   },
   {
    "duration": 159,
    "start_time": "2022-12-12T12:27:30.388Z"
   },
   {
    "duration": 106,
    "start_time": "2022-12-12T12:27:30.549Z"
   },
   {
    "duration": 121,
    "start_time": "2022-12-12T12:27:30.658Z"
   },
   {
    "duration": 355,
    "start_time": "2022-12-12T12:27:30.781Z"
   },
   {
    "duration": 160,
    "start_time": "2022-12-12T12:27:31.139Z"
   },
   {
    "duration": 8,
    "start_time": "2022-12-12T12:27:31.301Z"
   },
   {
    "duration": 89,
    "start_time": "2022-12-12T12:27:31.311Z"
   },
   {
    "duration": 59,
    "start_time": "2022-12-12T12:27:31.477Z"
   },
   {
    "duration": 14,
    "start_time": "2022-12-12T12:27:31.538Z"
   },
   {
    "duration": 30,
    "start_time": "2022-12-12T12:27:31.554Z"
   },
   {
    "duration": 216,
    "start_time": "2022-12-12T12:27:31.589Z"
   },
   {
    "duration": 7,
    "start_time": "2022-12-12T12:27:31.807Z"
   },
   {
    "duration": 11,
    "start_time": "2022-12-12T12:27:31.816Z"
   },
   {
    "duration": 33,
    "start_time": "2022-12-12T12:27:31.830Z"
   },
   {
    "duration": 33,
    "start_time": "2022-12-12T12:27:31.866Z"
   },
   {
    "duration": 32,
    "start_time": "2022-12-12T12:27:31.902Z"
   },
   {
    "duration": 19,
    "start_time": "2022-12-12T12:27:31.936Z"
   },
   {
    "duration": 40,
    "start_time": "2022-12-12T12:27:31.958Z"
   },
   {
    "duration": 26,
    "start_time": "2022-12-12T12:27:32.000Z"
   },
   {
    "duration": 5,
    "start_time": "2022-12-12T12:27:32.028Z"
   },
   {
    "duration": 161,
    "start_time": "2022-12-12T12:27:32.035Z"
   },
   {
    "duration": 28,
    "start_time": "2022-12-12T12:38:56.761Z"
   },
   {
    "duration": 24,
    "start_time": "2022-12-12T12:39:21.443Z"
   },
   {
    "duration": 103,
    "start_time": "2022-12-12T12:40:00.381Z"
   },
   {
    "duration": 105,
    "start_time": "2022-12-12T12:40:20.875Z"
   },
   {
    "duration": 28,
    "start_time": "2022-12-12T12:41:04.859Z"
   },
   {
    "duration": 28,
    "start_time": "2022-12-12T12:41:12.170Z"
   },
   {
    "duration": 38,
    "start_time": "2022-12-12T12:42:06.954Z"
   },
   {
    "duration": 53,
    "start_time": "2022-12-12T12:42:25.532Z"
   },
   {
    "duration": 32,
    "start_time": "2022-12-12T12:42:44.362Z"
   },
   {
    "duration": 90,
    "start_time": "2022-12-12T12:52:34.699Z"
   },
   {
    "duration": 1546,
    "start_time": "2022-12-12T12:53:35.575Z"
   },
   {
    "duration": 35,
    "start_time": "2022-12-12T12:53:37.123Z"
   },
   {
    "duration": 91,
    "start_time": "2022-12-12T12:53:37.160Z"
   },
   {
    "duration": 73,
    "start_time": "2022-12-12T12:53:37.253Z"
   },
   {
    "duration": 98,
    "start_time": "2022-12-12T12:53:37.329Z"
   },
   {
    "duration": 1167,
    "start_time": "2022-12-12T12:53:37.429Z"
   },
   {
    "duration": 16,
    "start_time": "2022-12-12T12:53:38.599Z"
   },
   {
    "duration": 566,
    "start_time": "2022-12-12T12:53:38.617Z"
   },
   {
    "duration": 6,
    "start_time": "2022-12-12T12:53:39.185Z"
   },
   {
    "duration": 42,
    "start_time": "2022-12-12T12:53:39.194Z"
   },
   {
    "duration": 7582,
    "start_time": "2022-12-12T12:53:39.238Z"
   },
   {
    "duration": 5,
    "start_time": "2022-12-12T12:53:46.822Z"
   },
   {
    "duration": 35,
    "start_time": "2022-12-12T12:53:46.828Z"
   },
   {
    "duration": 24,
    "start_time": "2022-12-12T12:53:46.865Z"
   },
   {
    "duration": 14,
    "start_time": "2022-12-12T12:53:46.891Z"
   },
   {
    "duration": 76,
    "start_time": "2022-12-12T12:53:46.907Z"
   },
   {
    "duration": 19,
    "start_time": "2022-12-12T12:53:46.985Z"
   },
   {
    "duration": 10,
    "start_time": "2022-12-12T12:53:47.079Z"
   },
   {
    "duration": 17,
    "start_time": "2022-12-12T12:53:47.091Z"
   },
   {
    "duration": 6,
    "start_time": "2022-12-12T12:53:47.109Z"
   },
   {
    "duration": 13,
    "start_time": "2022-12-12T12:53:47.179Z"
   },
   {
    "duration": 190,
    "start_time": "2022-12-12T12:53:47.194Z"
   },
   {
    "duration": 5,
    "start_time": "2022-12-12T12:53:47.386Z"
   },
   {
    "duration": 87,
    "start_time": "2022-12-12T12:53:47.392Z"
   },
   {
    "duration": 76,
    "start_time": "2022-12-12T12:53:47.481Z"
   },
   {
    "duration": 75,
    "start_time": "2022-12-12T12:53:47.559Z"
   },
   {
    "duration": 145,
    "start_time": "2022-12-12T12:53:47.637Z"
   },
   {
    "duration": 241,
    "start_time": "2022-12-12T12:53:47.787Z"
   },
   {
    "duration": 7,
    "start_time": "2022-12-12T12:53:48.030Z"
   },
   {
    "duration": 48,
    "start_time": "2022-12-12T12:53:48.040Z"
   },
   {
    "duration": 28,
    "start_time": "2022-12-12T12:53:48.090Z"
   },
   {
    "duration": 61,
    "start_time": "2022-12-12T12:53:48.120Z"
   },
   {
    "duration": 76,
    "start_time": "2022-12-12T12:53:48.184Z"
   },
   {
    "duration": 43,
    "start_time": "2022-12-12T12:53:48.263Z"
   },
   {
    "duration": 42,
    "start_time": "2022-12-12T12:53:48.309Z"
   },
   {
    "duration": 251,
    "start_time": "2022-12-12T12:53:48.356Z"
   },
   {
    "duration": 43,
    "start_time": "2022-12-12T12:53:48.610Z"
   },
   {
    "duration": 35,
    "start_time": "2022-12-12T12:53:48.655Z"
   },
   {
    "duration": 118,
    "start_time": "2022-12-12T12:58:09.361Z"
   },
   {
    "duration": 12,
    "start_time": "2022-12-12T12:58:30.288Z"
   },
   {
    "duration": 5,
    "start_time": "2022-12-12T13:01:03.700Z"
   },
   {
    "duration": 16,
    "start_time": "2022-12-12T13:01:06.207Z"
   },
   {
    "duration": 5,
    "start_time": "2022-12-12T13:01:21.327Z"
   },
   {
    "duration": 5,
    "start_time": "2022-12-12T13:01:23.655Z"
   },
   {
    "duration": 4,
    "start_time": "2022-12-12T13:01:26.951Z"
   },
   {
    "duration": 17,
    "start_time": "2022-12-12T13:01:55.998Z"
   },
   {
    "duration": 1626,
    "start_time": "2022-12-12T13:02:59.593Z"
   },
   {
    "duration": 35,
    "start_time": "2022-12-12T13:03:01.221Z"
   },
   {
    "duration": 157,
    "start_time": "2022-12-12T13:03:01.258Z"
   },
   {
    "duration": 203,
    "start_time": "2022-12-12T13:03:01.417Z"
   },
   {
    "duration": 195,
    "start_time": "2022-12-12T13:03:01.622Z"
   },
   {
    "duration": 1052,
    "start_time": "2022-12-12T13:03:01.818Z"
   },
   {
    "duration": 15,
    "start_time": "2022-12-12T13:03:02.872Z"
   },
   {
    "duration": 602,
    "start_time": "2022-12-12T13:03:02.889Z"
   },
   {
    "duration": 6,
    "start_time": "2022-12-12T13:03:03.494Z"
   },
   {
    "duration": 56,
    "start_time": "2022-12-12T13:03:03.502Z"
   },
   {
    "duration": 7382,
    "start_time": "2022-12-12T13:03:03.560Z"
   },
   {
    "duration": 5,
    "start_time": "2022-12-12T13:03:10.944Z"
   },
   {
    "duration": 35,
    "start_time": "2022-12-12T13:03:10.952Z"
   },
   {
    "duration": 55,
    "start_time": "2022-12-12T13:03:10.992Z"
   },
   {
    "duration": 78,
    "start_time": "2022-12-12T13:03:11.049Z"
   },
   {
    "duration": 54,
    "start_time": "2022-12-12T13:03:11.129Z"
   },
   {
    "duration": 129,
    "start_time": "2022-12-12T13:03:11.185Z"
   },
   {
    "duration": 140,
    "start_time": "2022-12-12T13:03:11.316Z"
   },
   {
    "duration": 114,
    "start_time": "2022-12-12T13:03:11.458Z"
   },
   {
    "duration": 106,
    "start_time": "2022-12-12T13:03:11.574Z"
   },
   {
    "duration": 49,
    "start_time": "2022-12-12T13:03:11.682Z"
   },
   {
    "duration": 159,
    "start_time": "2022-12-12T13:03:11.733Z"
   },
   {
    "duration": 120,
    "start_time": "2022-12-12T13:03:11.894Z"
   },
   {
    "duration": 44,
    "start_time": "2022-12-12T13:03:12.016Z"
   },
   {
    "duration": 81,
    "start_time": "2022-12-12T13:03:12.062Z"
   },
   {
    "duration": 61,
    "start_time": "2022-12-12T13:03:12.145Z"
   },
   {
    "duration": 75,
    "start_time": "2022-12-12T13:03:12.208Z"
   },
   {
    "duration": 213,
    "start_time": "2022-12-12T13:03:12.285Z"
   },
   {
    "duration": 17,
    "start_time": "2022-12-12T13:03:12.500Z"
   },
   {
    "duration": 146,
    "start_time": "2022-12-12T13:03:12.519Z"
   },
   {
    "duration": 77,
    "start_time": "2022-12-12T13:03:12.667Z"
   },
   {
    "duration": 81,
    "start_time": "2022-12-12T13:03:12.746Z"
   },
   {
    "duration": 76,
    "start_time": "2022-12-12T13:03:12.829Z"
   },
   {
    "duration": 23,
    "start_time": "2022-12-12T13:03:12.907Z"
   },
   {
    "duration": 18,
    "start_time": "2022-12-12T13:03:12.932Z"
   },
   {
    "duration": 254,
    "start_time": "2022-12-12T13:03:12.952Z"
   },
   {
    "duration": 0,
    "start_time": "2022-12-12T13:03:13.207Z"
   },
   {
    "duration": 0,
    "start_time": "2022-12-12T13:03:13.209Z"
   },
   {
    "duration": 0,
    "start_time": "2022-12-12T13:03:13.210Z"
   },
   {
    "duration": 0,
    "start_time": "2022-12-12T13:03:13.211Z"
   },
   {
    "duration": 0,
    "start_time": "2022-12-12T13:03:13.212Z"
   },
   {
    "duration": 0,
    "start_time": "2022-12-12T13:03:13.213Z"
   },
   {
    "duration": 0,
    "start_time": "2022-12-12T13:03:13.214Z"
   },
   {
    "duration": 1492,
    "start_time": "2022-12-12T13:06:34.233Z"
   },
   {
    "duration": 34,
    "start_time": "2022-12-12T13:06:35.727Z"
   },
   {
    "duration": 117,
    "start_time": "2022-12-12T13:06:35.763Z"
   },
   {
    "duration": 244,
    "start_time": "2022-12-12T13:06:35.883Z"
   },
   {
    "duration": 187,
    "start_time": "2022-12-12T13:06:36.128Z"
   },
   {
    "duration": 995,
    "start_time": "2022-12-12T13:06:36.317Z"
   },
   {
    "duration": 13,
    "start_time": "2022-12-12T13:06:37.315Z"
   },
   {
    "duration": 598,
    "start_time": "2022-12-12T13:06:37.329Z"
   },
   {
    "duration": 7,
    "start_time": "2022-12-12T13:06:37.930Z"
   },
   {
    "duration": 52,
    "start_time": "2022-12-12T13:06:37.940Z"
   },
   {
    "duration": 7575,
    "start_time": "2022-12-12T13:06:37.995Z"
   },
   {
    "duration": 5,
    "start_time": "2022-12-12T13:06:45.579Z"
   },
   {
    "duration": 46,
    "start_time": "2022-12-12T13:06:45.586Z"
   },
   {
    "duration": 78,
    "start_time": "2022-12-12T13:06:45.634Z"
   },
   {
    "duration": 58,
    "start_time": "2022-12-12T13:06:45.714Z"
   },
   {
    "duration": 104,
    "start_time": "2022-12-12T13:06:45.775Z"
   },
   {
    "duration": 66,
    "start_time": "2022-12-12T13:06:45.882Z"
   },
   {
    "duration": 70,
    "start_time": "2022-12-12T13:06:45.950Z"
   },
   {
    "duration": 34,
    "start_time": "2022-12-12T13:06:46.022Z"
   },
   {
    "duration": 23,
    "start_time": "2022-12-12T13:06:46.059Z"
   },
   {
    "duration": 96,
    "start_time": "2022-12-12T13:06:46.084Z"
   },
   {
    "duration": 197,
    "start_time": "2022-12-12T13:06:46.182Z"
   },
   {
    "duration": 5,
    "start_time": "2022-12-12T13:06:46.381Z"
   },
   {
    "duration": 93,
    "start_time": "2022-12-12T13:06:46.388Z"
   },
   {
    "duration": 47,
    "start_time": "2022-12-12T13:06:46.483Z"
   },
   {
    "duration": 70,
    "start_time": "2022-12-12T13:06:46.532Z"
   },
   {
    "duration": 82,
    "start_time": "2022-12-12T13:06:46.604Z"
   },
   {
    "duration": 226,
    "start_time": "2022-12-12T13:06:46.691Z"
   },
   {
    "duration": 5,
    "start_time": "2022-12-12T13:06:46.919Z"
   },
   {
    "duration": 65,
    "start_time": "2022-12-12T13:06:46.926Z"
   },
   {
    "duration": 29,
    "start_time": "2022-12-12T13:06:46.993Z"
   },
   {
    "duration": 56,
    "start_time": "2022-12-12T13:06:47.025Z"
   },
   {
    "duration": 55,
    "start_time": "2022-12-12T13:06:47.083Z"
   },
   {
    "duration": 33,
    "start_time": "2022-12-12T13:06:47.140Z"
   },
   {
    "duration": 43,
    "start_time": "2022-12-12T13:06:47.175Z"
   },
   {
    "duration": 27,
    "start_time": "2022-12-12T13:06:47.220Z"
   },
   {
    "duration": 63,
    "start_time": "2022-12-12T13:06:47.250Z"
   },
   {
    "duration": 12,
    "start_time": "2022-12-12T13:06:47.315Z"
   },
   {
    "duration": 20,
    "start_time": "2022-12-12T13:06:47.329Z"
   },
   {
    "duration": 36,
    "start_time": "2022-12-12T13:06:47.351Z"
   },
   {
    "duration": 140,
    "start_time": "2022-12-12T13:06:47.389Z"
   },
   {
    "duration": 0,
    "start_time": "2022-12-12T13:06:47.531Z"
   },
   {
    "duration": 0,
    "start_time": "2022-12-12T13:06:47.533Z"
   },
   {
    "duration": 19,
    "start_time": "2022-12-12T13:07:11.737Z"
   },
   {
    "duration": 12,
    "start_time": "2022-12-12T13:07:16.595Z"
   },
   {
    "duration": 5,
    "start_time": "2022-12-12T13:07:20.899Z"
   },
   {
    "duration": 33,
    "start_time": "2022-12-12T13:07:22.908Z"
   },
   {
    "duration": 1493,
    "start_time": "2022-12-12T13:07:43.609Z"
   },
   {
    "duration": 35,
    "start_time": "2022-12-12T13:07:45.104Z"
   },
   {
    "duration": 13,
    "start_time": "2022-12-12T13:07:45.140Z"
   },
   {
    "duration": 14,
    "start_time": "2022-12-12T13:07:45.155Z"
   },
   {
    "duration": 28,
    "start_time": "2022-12-12T13:07:45.171Z"
   },
   {
    "duration": 936,
    "start_time": "2022-12-12T13:07:45.201Z"
   },
   {
    "duration": 13,
    "start_time": "2022-12-12T13:07:46.139Z"
   },
   {
    "duration": 538,
    "start_time": "2022-12-12T13:07:46.154Z"
   },
   {
    "duration": 6,
    "start_time": "2022-12-12T13:07:46.694Z"
   },
   {
    "duration": 185,
    "start_time": "2022-12-12T13:07:46.703Z"
   },
   {
    "duration": 7945,
    "start_time": "2022-12-12T13:07:46.889Z"
   },
   {
    "duration": 4,
    "start_time": "2022-12-12T13:07:54.836Z"
   },
   {
    "duration": 68,
    "start_time": "2022-12-12T13:07:54.842Z"
   },
   {
    "duration": 44,
    "start_time": "2022-12-12T13:07:54.912Z"
   },
   {
    "duration": 19,
    "start_time": "2022-12-12T13:07:54.958Z"
   },
   {
    "duration": 108,
    "start_time": "2022-12-12T13:07:54.979Z"
   },
   {
    "duration": 96,
    "start_time": "2022-12-12T13:07:55.089Z"
   },
   {
    "duration": 65,
    "start_time": "2022-12-12T13:07:55.187Z"
   },
   {
    "duration": 68,
    "start_time": "2022-12-12T13:07:55.254Z"
   },
   {
    "duration": 56,
    "start_time": "2022-12-12T13:07:55.324Z"
   },
   {
    "duration": 97,
    "start_time": "2022-12-12T13:07:55.382Z"
   },
   {
    "duration": 198,
    "start_time": "2022-12-12T13:07:55.481Z"
   },
   {
    "duration": 5,
    "start_time": "2022-12-12T13:07:55.681Z"
   },
   {
    "duration": 90,
    "start_time": "2022-12-12T13:07:55.688Z"
   },
   {
    "duration": 48,
    "start_time": "2022-12-12T13:07:55.780Z"
   },
   {
    "duration": 49,
    "start_time": "2022-12-12T13:07:55.830Z"
   },
   {
    "duration": 102,
    "start_time": "2022-12-12T13:07:55.881Z"
   },
   {
    "duration": 211,
    "start_time": "2022-12-12T13:07:55.988Z"
   },
   {
    "duration": 5,
    "start_time": "2022-12-12T13:07:56.201Z"
   },
   {
    "duration": 48,
    "start_time": "2022-12-12T13:07:56.208Z"
   },
   {
    "duration": 34,
    "start_time": "2022-12-12T13:07:56.258Z"
   },
   {
    "duration": 55,
    "start_time": "2022-12-12T13:07:56.294Z"
   },
   {
    "duration": 12,
    "start_time": "2022-12-12T13:07:56.351Z"
   },
   {
    "duration": 9,
    "start_time": "2022-12-12T13:07:56.365Z"
   },
   {
    "duration": 44,
    "start_time": "2022-12-12T13:07:56.376Z"
   },
   {
    "duration": 51,
    "start_time": "2022-12-12T13:07:56.422Z"
   },
   {
    "duration": 67,
    "start_time": "2022-12-12T13:07:56.475Z"
   },
   {
    "duration": 27,
    "start_time": "2022-12-12T13:07:56.544Z"
   },
   {
    "duration": 41,
    "start_time": "2022-12-12T13:07:56.573Z"
   },
   {
    "duration": 43,
    "start_time": "2022-12-12T13:07:56.616Z"
   },
   {
    "duration": 31,
    "start_time": "2022-12-12T13:07:56.660Z"
   },
   {
    "duration": 28,
    "start_time": "2022-12-12T13:07:56.693Z"
   },
   {
    "duration": 298,
    "start_time": "2022-12-12T13:07:56.723Z"
   },
   {
    "duration": 19,
    "start_time": "2022-12-12T13:09:48.514Z"
   },
   {
    "duration": 1535,
    "start_time": "2022-12-12T13:11:56.196Z"
   },
   {
    "duration": 36,
    "start_time": "2022-12-12T13:11:57.733Z"
   },
   {
    "duration": 14,
    "start_time": "2022-12-12T13:11:57.770Z"
   },
   {
    "duration": 17,
    "start_time": "2022-12-12T13:11:57.787Z"
   },
   {
    "duration": 44,
    "start_time": "2022-12-12T13:11:57.806Z"
   },
   {
    "duration": 1016,
    "start_time": "2022-12-12T13:11:57.852Z"
   },
   {
    "duration": 15,
    "start_time": "2022-12-12T13:11:58.870Z"
   },
   {
    "duration": 571,
    "start_time": "2022-12-12T13:11:58.886Z"
   },
   {
    "duration": 20,
    "start_time": "2022-12-12T13:11:59.459Z"
   },
   {
    "duration": 58,
    "start_time": "2022-12-12T13:11:59.482Z"
   },
   {
    "duration": 7474,
    "start_time": "2022-12-12T13:11:59.541Z"
   },
   {
    "duration": 4,
    "start_time": "2022-12-12T13:12:07.017Z"
   },
   {
    "duration": 202,
    "start_time": "2022-12-12T13:12:07.023Z"
   },
   {
    "duration": 168,
    "start_time": "2022-12-12T13:12:07.227Z"
   },
   {
    "duration": 104,
    "start_time": "2022-12-12T13:12:07.397Z"
   },
   {
    "duration": 182,
    "start_time": "2022-12-12T13:12:07.504Z"
   },
   {
    "duration": 76,
    "start_time": "2022-12-12T13:12:07.688Z"
   },
   {
    "duration": 174,
    "start_time": "2022-12-12T13:12:07.766Z"
   },
   {
    "duration": 127,
    "start_time": "2022-12-12T13:12:07.943Z"
   },
   {
    "duration": 108,
    "start_time": "2022-12-12T13:12:08.073Z"
   },
   {
    "duration": 111,
    "start_time": "2022-12-12T13:12:08.183Z"
   },
   {
    "duration": 283,
    "start_time": "2022-12-12T13:12:08.296Z"
   },
   {
    "duration": 134,
    "start_time": "2022-12-12T13:12:08.581Z"
   },
   {
    "duration": 126,
    "start_time": "2022-12-12T13:12:08.717Z"
   },
   {
    "duration": 184,
    "start_time": "2022-12-12T13:12:08.845Z"
   },
   {
    "duration": 76,
    "start_time": "2022-12-12T13:12:09.032Z"
   },
   {
    "duration": 72,
    "start_time": "2022-12-12T13:12:09.112Z"
   },
   {
    "duration": 233,
    "start_time": "2022-12-12T13:12:09.189Z"
   },
   {
    "duration": 10,
    "start_time": "2022-12-12T13:12:09.424Z"
   },
   {
    "duration": 96,
    "start_time": "2022-12-12T13:12:09.436Z"
   },
   {
    "duration": 64,
    "start_time": "2022-12-12T13:12:09.534Z"
   },
   {
    "duration": 139,
    "start_time": "2022-12-12T13:12:09.600Z"
   },
   {
    "duration": 207,
    "start_time": "2022-12-12T13:12:09.741Z"
   },
   {
    "duration": 108,
    "start_time": "2022-12-12T13:12:09.951Z"
   },
   {
    "duration": 98,
    "start_time": "2022-12-12T13:12:10.061Z"
   },
   {
    "duration": 43,
    "start_time": "2022-12-12T13:12:10.161Z"
   },
   {
    "duration": 68,
    "start_time": "2022-12-12T13:12:10.207Z"
   },
   {
    "duration": 42,
    "start_time": "2022-12-12T13:12:10.277Z"
   },
   {
    "duration": 51,
    "start_time": "2022-12-12T13:12:10.321Z"
   },
   {
    "duration": 68,
    "start_time": "2022-12-12T13:12:10.375Z"
   },
   {
    "duration": 88,
    "start_time": "2022-12-12T13:12:10.445Z"
   },
   {
    "duration": 71,
    "start_time": "2022-12-12T13:12:10.534Z"
   },
   {
    "duration": 430,
    "start_time": "2022-12-12T13:12:10.607Z"
   },
   {
    "duration": 5,
    "start_time": "2022-12-12T13:12:39.713Z"
   },
   {
    "duration": 5,
    "start_time": "2022-12-12T13:13:16.177Z"
   },
   {
    "duration": 1585,
    "start_time": "2022-12-12T13:14:51.839Z"
   },
   {
    "duration": 34,
    "start_time": "2022-12-12T13:14:53.427Z"
   },
   {
    "duration": 14,
    "start_time": "2022-12-12T13:14:53.465Z"
   },
   {
    "duration": 43,
    "start_time": "2022-12-12T13:14:53.481Z"
   },
   {
    "duration": 136,
    "start_time": "2022-12-12T13:14:53.526Z"
   },
   {
    "duration": 969,
    "start_time": "2022-12-12T13:14:53.664Z"
   },
   {
    "duration": 12,
    "start_time": "2022-12-12T13:14:54.634Z"
   },
   {
    "duration": 533,
    "start_time": "2022-12-12T13:14:54.648Z"
   },
   {
    "duration": 6,
    "start_time": "2022-12-12T13:14:55.183Z"
   },
   {
    "duration": 19,
    "start_time": "2022-12-12T13:14:55.191Z"
   },
   {
    "duration": 7488,
    "start_time": "2022-12-12T13:14:55.212Z"
   },
   {
    "duration": 5,
    "start_time": "2022-12-12T13:15:02.702Z"
   },
   {
    "duration": 53,
    "start_time": "2022-12-12T13:15:02.710Z"
   },
   {
    "duration": 21,
    "start_time": "2022-12-12T13:15:02.765Z"
   },
   {
    "duration": 15,
    "start_time": "2022-12-12T13:15:02.789Z"
   },
   {
    "duration": 83,
    "start_time": "2022-12-12T13:15:02.806Z"
   },
   {
    "duration": 129,
    "start_time": "2022-12-12T13:15:02.891Z"
   },
   {
    "duration": 25,
    "start_time": "2022-12-12T13:15:03.022Z"
   },
   {
    "duration": 28,
    "start_time": "2022-12-12T13:15:03.049Z"
   },
   {
    "duration": 22,
    "start_time": "2022-12-12T13:15:03.080Z"
   },
   {
    "duration": 7,
    "start_time": "2022-12-12T13:15:03.179Z"
   },
   {
    "duration": 197,
    "start_time": "2022-12-12T13:15:03.188Z"
   },
   {
    "duration": 6,
    "start_time": "2022-12-12T13:15:03.387Z"
   },
   {
    "duration": 102,
    "start_time": "2022-12-12T13:15:03.395Z"
   },
   {
    "duration": 29,
    "start_time": "2022-12-12T13:15:03.499Z"
   },
   {
    "duration": 15,
    "start_time": "2022-12-12T13:15:03.530Z"
   },
   {
    "duration": 137,
    "start_time": "2022-12-12T13:15:03.547Z"
   },
   {
    "duration": 215,
    "start_time": "2022-12-12T13:15:03.686Z"
   },
   {
    "duration": 5,
    "start_time": "2022-12-12T13:15:03.902Z"
   },
   {
    "duration": 19,
    "start_time": "2022-12-12T13:15:03.909Z"
   },
   {
    "duration": 137,
    "start_time": "2022-12-12T13:15:03.930Z"
   },
   {
    "duration": 16,
    "start_time": "2022-12-12T13:15:04.069Z"
   },
   {
    "duration": 9,
    "start_time": "2022-12-12T13:15:04.087Z"
   },
   {
    "duration": 11,
    "start_time": "2022-12-12T13:15:04.098Z"
   },
   {
    "duration": 11,
    "start_time": "2022-12-12T13:15:04.110Z"
   },
   {
    "duration": 29,
    "start_time": "2022-12-12T13:15:04.123Z"
   },
   {
    "duration": 17,
    "start_time": "2022-12-12T13:15:04.154Z"
   },
   {
    "duration": 16,
    "start_time": "2022-12-12T13:15:04.173Z"
   },
   {
    "duration": 7,
    "start_time": "2022-12-12T13:15:04.191Z"
   },
   {
    "duration": 7,
    "start_time": "2022-12-12T13:15:04.202Z"
   },
   {
    "duration": 35,
    "start_time": "2022-12-12T13:15:04.211Z"
   },
   {
    "duration": 17,
    "start_time": "2022-12-12T13:15:04.248Z"
   },
   {
    "duration": 14,
    "start_time": "2022-12-12T13:15:04.267Z"
   },
   {
    "duration": 151,
    "start_time": "2022-12-12T13:15:04.283Z"
   },
   {
    "duration": 17,
    "start_time": "2022-12-12T13:15:42.608Z"
   },
   {
    "duration": 16,
    "start_time": "2022-12-12T13:15:57.128Z"
   },
   {
    "duration": 15,
    "start_time": "2022-12-12T13:16:40.228Z"
   },
   {
    "duration": 12,
    "start_time": "2022-12-12T13:18:01.235Z"
   },
   {
    "duration": 16,
    "start_time": "2022-12-12T13:18:44.718Z"
   },
   {
    "duration": 1590,
    "start_time": "2022-12-12T14:49:42.119Z"
   },
   {
    "duration": 107,
    "start_time": "2022-12-12T14:49:43.711Z"
   },
   {
    "duration": 15,
    "start_time": "2022-12-12T14:49:43.820Z"
   },
   {
    "duration": 14,
    "start_time": "2022-12-12T14:49:43.838Z"
   },
   {
    "duration": 31,
    "start_time": "2022-12-12T14:49:43.854Z"
   },
   {
    "duration": 872,
    "start_time": "2022-12-12T14:49:43.886Z"
   },
   {
    "duration": 12,
    "start_time": "2022-12-12T14:49:44.759Z"
   },
   {
    "duration": 533,
    "start_time": "2022-12-12T14:49:44.772Z"
   },
   {
    "duration": 5,
    "start_time": "2022-12-12T14:49:45.307Z"
   },
   {
    "duration": 7,
    "start_time": "2022-12-12T14:49:45.315Z"
   },
   {
    "duration": 6890,
    "start_time": "2022-12-12T14:49:45.336Z"
   },
   {
    "duration": 5,
    "start_time": "2022-12-12T14:49:52.229Z"
   },
   {
    "duration": 12,
    "start_time": "2022-12-12T14:49:52.236Z"
   },
   {
    "duration": 23,
    "start_time": "2022-12-12T14:49:52.250Z"
   },
   {
    "duration": 25,
    "start_time": "2022-12-12T14:49:52.275Z"
   },
   {
    "duration": 40,
    "start_time": "2022-12-12T14:49:52.303Z"
   },
   {
    "duration": 99,
    "start_time": "2022-12-12T14:49:52.345Z"
   },
   {
    "duration": 10,
    "start_time": "2022-12-12T14:49:52.446Z"
   },
   {
    "duration": 26,
    "start_time": "2022-12-12T14:49:52.458Z"
   },
   {
    "duration": 7,
    "start_time": "2022-12-12T14:49:52.537Z"
   },
   {
    "duration": 94,
    "start_time": "2022-12-12T14:49:52.547Z"
   },
   {
    "duration": 116,
    "start_time": "2022-12-12T14:49:52.644Z"
   },
   {
    "duration": 6,
    "start_time": "2022-12-12T14:49:52.839Z"
   },
   {
    "duration": 90,
    "start_time": "2022-12-12T14:49:52.848Z"
   },
   {
    "duration": 22,
    "start_time": "2022-12-12T14:49:52.940Z"
   },
   {
    "duration": 30,
    "start_time": "2022-12-12T14:49:52.963Z"
   },
   {
    "duration": 65,
    "start_time": "2022-12-12T14:49:52.995Z"
   },
   {
    "duration": 212,
    "start_time": "2022-12-12T14:49:53.064Z"
   },
   {
    "duration": 4,
    "start_time": "2022-12-12T14:49:53.279Z"
   },
   {
    "duration": 23,
    "start_time": "2022-12-12T14:49:53.285Z"
   },
   {
    "duration": 37,
    "start_time": "2022-12-12T14:49:53.310Z"
   },
   {
    "duration": 29,
    "start_time": "2022-12-12T14:49:53.349Z"
   },
   {
    "duration": 9,
    "start_time": "2022-12-12T14:49:53.380Z"
   },
   {
    "duration": 7,
    "start_time": "2022-12-12T14:49:53.391Z"
   },
   {
    "duration": 8,
    "start_time": "2022-12-12T14:49:53.400Z"
   },
   {
    "duration": 31,
    "start_time": "2022-12-12T14:49:53.410Z"
   },
   {
    "duration": 222,
    "start_time": "2022-12-12T14:49:53.537Z"
   },
   {
    "duration": 14,
    "start_time": "2022-12-12T14:49:53.761Z"
   },
   {
    "duration": 5,
    "start_time": "2022-12-12T14:49:53.776Z"
   },
   {
    "duration": 9,
    "start_time": "2022-12-12T14:49:53.782Z"
   },
   {
    "duration": 36,
    "start_time": "2022-12-12T14:49:53.793Z"
   },
   {
    "duration": 33,
    "start_time": "2022-12-12T14:49:53.837Z"
   },
   {
    "duration": 5,
    "start_time": "2022-12-12T14:49:53.871Z"
   },
   {
    "duration": 143,
    "start_time": "2022-12-12T14:49:53.878Z"
   },
   {
    "duration": 10,
    "start_time": "2022-12-12T14:50:34.659Z"
   },
   {
    "duration": 10,
    "start_time": "2022-12-12T14:50:57.204Z"
   },
   {
    "duration": 17,
    "start_time": "2022-12-12T14:51:04.711Z"
   },
   {
    "duration": 11,
    "start_time": "2022-12-12T14:51:07.279Z"
   },
   {
    "duration": 4,
    "start_time": "2022-12-12T14:51:22.255Z"
   },
   {
    "duration": 12,
    "start_time": "2022-12-12T14:51:35.252Z"
   },
   {
    "duration": 4,
    "start_time": "2022-12-12T14:51:38.400Z"
   },
   {
    "duration": 5,
    "start_time": "2022-12-12T14:51:58.439Z"
   },
   {
    "duration": 4,
    "start_time": "2022-12-12T14:53:19.308Z"
   },
   {
    "duration": 4,
    "start_time": "2022-12-12T14:53:26.617Z"
   },
   {
    "duration": 5,
    "start_time": "2022-12-12T14:53:48.804Z"
   },
   {
    "duration": 5,
    "start_time": "2022-12-12T14:54:17.072Z"
   },
   {
    "duration": 1417,
    "start_time": "2022-12-12T14:54:34.428Z"
   },
   {
    "duration": 36,
    "start_time": "2022-12-12T14:54:35.847Z"
   },
   {
    "duration": 12,
    "start_time": "2022-12-12T14:54:35.884Z"
   },
   {
    "duration": 12,
    "start_time": "2022-12-12T14:54:35.898Z"
   },
   {
    "duration": 25,
    "start_time": "2022-12-12T14:54:35.913Z"
   },
   {
    "duration": 865,
    "start_time": "2022-12-12T14:54:35.940Z"
   },
   {
    "duration": 12,
    "start_time": "2022-12-12T14:54:36.807Z"
   },
   {
    "duration": 511,
    "start_time": "2022-12-12T14:54:36.821Z"
   },
   {
    "duration": 6,
    "start_time": "2022-12-12T14:54:37.336Z"
   },
   {
    "duration": 8,
    "start_time": "2022-12-12T14:54:37.343Z"
   },
   {
    "duration": 7026,
    "start_time": "2022-12-12T14:54:37.352Z"
   },
   {
    "duration": 4,
    "start_time": "2022-12-12T14:54:44.380Z"
   },
   {
    "duration": 9,
    "start_time": "2022-12-12T14:54:44.386Z"
   },
   {
    "duration": 5,
    "start_time": "2022-12-12T14:54:44.398Z"
   },
   {
    "duration": 11,
    "start_time": "2022-12-12T14:54:44.404Z"
   },
   {
    "duration": 14,
    "start_time": "2022-12-12T14:54:44.438Z"
   },
   {
    "duration": 91,
    "start_time": "2022-12-12T14:54:44.454Z"
   },
   {
    "duration": 9,
    "start_time": "2022-12-12T14:54:44.547Z"
   },
   {
    "duration": 19,
    "start_time": "2022-12-12T14:54:44.558Z"
   },
   {
    "duration": 7,
    "start_time": "2022-12-12T14:54:44.639Z"
   },
   {
    "duration": 92,
    "start_time": "2022-12-12T14:54:44.649Z"
   },
   {
    "duration": 114,
    "start_time": "2022-12-12T14:54:44.743Z"
   },
   {
    "duration": 4,
    "start_time": "2022-12-12T14:54:44.938Z"
   },
   {
    "duration": 14,
    "start_time": "2022-12-12T14:54:44.943Z"
   },
   {
    "duration": 13,
    "start_time": "2022-12-12T14:54:44.959Z"
   },
   {
    "duration": 13,
    "start_time": "2022-12-12T14:54:44.973Z"
   },
   {
    "duration": 61,
    "start_time": "2022-12-12T14:54:44.989Z"
   },
   {
    "duration": 214,
    "start_time": "2022-12-12T14:54:45.052Z"
   },
   {
    "duration": 4,
    "start_time": "2022-12-12T14:54:45.268Z"
   },
   {
    "duration": 12,
    "start_time": "2022-12-12T14:54:45.274Z"
   },
   {
    "duration": 117,
    "start_time": "2022-12-12T14:54:45.288Z"
   },
   {
    "duration": 10,
    "start_time": "2022-12-12T14:54:45.407Z"
   },
   {
    "duration": 6,
    "start_time": "2022-12-12T14:54:45.418Z"
   },
   {
    "duration": 11,
    "start_time": "2022-12-12T14:54:45.425Z"
   },
   {
    "duration": 5,
    "start_time": "2022-12-12T14:54:45.438Z"
   },
   {
    "duration": 18,
    "start_time": "2022-12-12T14:54:45.445Z"
   },
   {
    "duration": 15,
    "start_time": "2022-12-12T14:54:45.465Z"
   },
   {
    "duration": 15,
    "start_time": "2022-12-12T14:54:45.482Z"
   },
   {
    "duration": 5,
    "start_time": "2022-12-12T14:54:45.499Z"
   },
   {
    "duration": 36,
    "start_time": "2022-12-12T14:54:45.506Z"
   },
   {
    "duration": 16,
    "start_time": "2022-12-12T14:54:45.546Z"
   },
   {
    "duration": 16,
    "start_time": "2022-12-12T14:54:45.563Z"
   },
   {
    "duration": 13,
    "start_time": "2022-12-12T14:54:45.581Z"
   },
   {
    "duration": 9,
    "start_time": "2022-12-12T14:54:45.596Z"
   },
   {
    "duration": 8,
    "start_time": "2022-12-12T14:54:45.607Z"
   },
   {
    "duration": 4,
    "start_time": "2022-12-12T14:54:45.637Z"
   },
   {
    "duration": 74,
    "start_time": "2022-12-12T14:54:45.643Z"
   },
   {
    "duration": 0,
    "start_time": "2022-12-12T14:54:45.718Z"
   },
   {
    "duration": 0,
    "start_time": "2022-12-12T14:54:45.720Z"
   },
   {
    "duration": 0,
    "start_time": "2022-12-12T14:54:45.721Z"
   },
   {
    "duration": 11,
    "start_time": "2022-12-12T14:56:37.066Z"
   },
   {
    "duration": 13,
    "start_time": "2022-12-12T14:56:52.061Z"
   },
   {
    "duration": 14,
    "start_time": "2022-12-12T14:57:23.112Z"
   },
   {
    "duration": 1476,
    "start_time": "2022-12-12T14:58:01.354Z"
   },
   {
    "duration": 31,
    "start_time": "2022-12-12T14:58:02.833Z"
   },
   {
    "duration": 12,
    "start_time": "2022-12-12T14:58:02.867Z"
   },
   {
    "duration": 31,
    "start_time": "2022-12-12T14:58:02.881Z"
   },
   {
    "duration": 35,
    "start_time": "2022-12-12T14:58:02.914Z"
   },
   {
    "duration": 844,
    "start_time": "2022-12-12T14:58:02.951Z"
   },
   {
    "duration": 10,
    "start_time": "2022-12-12T14:58:03.798Z"
   },
   {
    "duration": 539,
    "start_time": "2022-12-12T14:58:03.810Z"
   },
   {
    "duration": 7,
    "start_time": "2022-12-12T14:58:04.351Z"
   },
   {
    "duration": 8,
    "start_time": "2022-12-12T14:58:04.359Z"
   },
   {
    "duration": 6909,
    "start_time": "2022-12-12T14:58:04.369Z"
   },
   {
    "duration": 3,
    "start_time": "2022-12-12T14:58:11.280Z"
   },
   {
    "duration": 8,
    "start_time": "2022-12-12T14:58:11.285Z"
   },
   {
    "duration": 5,
    "start_time": "2022-12-12T14:58:11.296Z"
   },
   {
    "duration": 6,
    "start_time": "2022-12-12T14:58:11.303Z"
   },
   {
    "duration": 49,
    "start_time": "2022-12-12T14:58:11.312Z"
   },
   {
    "duration": 11,
    "start_time": "2022-12-12T14:58:11.438Z"
   },
   {
    "duration": 10,
    "start_time": "2022-12-12T14:58:11.451Z"
   },
   {
    "duration": 16,
    "start_time": "2022-12-12T14:58:11.462Z"
   },
   {
    "duration": 6,
    "start_time": "2022-12-12T14:58:11.538Z"
   },
   {
    "duration": 7,
    "start_time": "2022-12-12T14:58:11.547Z"
   },
   {
    "duration": 182,
    "start_time": "2022-12-12T14:58:11.557Z"
   },
   {
    "duration": 5,
    "start_time": "2022-12-12T14:58:11.741Z"
   },
   {
    "duration": 6,
    "start_time": "2022-12-12T14:58:11.749Z"
   },
   {
    "duration": 92,
    "start_time": "2022-12-12T14:58:11.757Z"
   },
   {
    "duration": 9,
    "start_time": "2022-12-12T14:58:11.851Z"
   },
   {
    "duration": 82,
    "start_time": "2022-12-12T14:58:11.862Z"
   },
   {
    "duration": 215,
    "start_time": "2022-12-12T14:58:11.947Z"
   },
   {
    "duration": 4,
    "start_time": "2022-12-12T14:58:12.164Z"
   },
   {
    "duration": 14,
    "start_time": "2022-12-12T14:58:12.170Z"
   },
   {
    "duration": 115,
    "start_time": "2022-12-12T14:58:12.185Z"
   },
   {
    "duration": 6,
    "start_time": "2022-12-12T14:58:12.302Z"
   },
   {
    "duration": 5,
    "start_time": "2022-12-12T14:58:12.310Z"
   },
   {
    "duration": 6,
    "start_time": "2022-12-12T14:58:12.316Z"
   },
   {
    "duration": 13,
    "start_time": "2022-12-12T14:58:12.324Z"
   },
   {
    "duration": 15,
    "start_time": "2022-12-12T14:58:12.339Z"
   },
   {
    "duration": 15,
    "start_time": "2022-12-12T14:58:12.355Z"
   },
   {
    "duration": 17,
    "start_time": "2022-12-12T14:58:12.372Z"
   },
   {
    "duration": 5,
    "start_time": "2022-12-12T14:58:12.390Z"
   },
   {
    "duration": 6,
    "start_time": "2022-12-12T14:58:12.397Z"
   },
   {
    "duration": 45,
    "start_time": "2022-12-12T14:58:12.407Z"
   },
   {
    "duration": 15,
    "start_time": "2022-12-12T14:58:12.454Z"
   },
   {
    "duration": 11,
    "start_time": "2022-12-12T14:58:12.471Z"
   },
   {
    "duration": 154,
    "start_time": "2022-12-12T14:58:12.483Z"
   },
   {
    "duration": 13,
    "start_time": "2022-12-12T14:59:09.202Z"
   },
   {
    "duration": 11,
    "start_time": "2022-12-12T14:59:15.883Z"
   },
   {
    "duration": 16,
    "start_time": "2022-12-12T14:59:38.607Z"
   },
   {
    "duration": 17,
    "start_time": "2022-12-12T14:59:42.411Z"
   },
   {
    "duration": 1358,
    "start_time": "2022-12-12T14:59:49.568Z"
   },
   {
    "duration": 32,
    "start_time": "2022-12-12T14:59:50.928Z"
   },
   {
    "duration": 11,
    "start_time": "2022-12-12T14:59:50.961Z"
   },
   {
    "duration": 11,
    "start_time": "2022-12-12T14:59:50.974Z"
   },
   {
    "duration": 23,
    "start_time": "2022-12-12T14:59:50.987Z"
   },
   {
    "duration": 836,
    "start_time": "2022-12-12T14:59:51.012Z"
   },
   {
    "duration": 13,
    "start_time": "2022-12-12T14:59:51.850Z"
   },
   {
    "duration": 500,
    "start_time": "2022-12-12T14:59:51.865Z"
   },
   {
    "duration": 6,
    "start_time": "2022-12-12T14:59:52.367Z"
   },
   {
    "duration": 22,
    "start_time": "2022-12-12T14:59:52.375Z"
   },
   {
    "duration": 6836,
    "start_time": "2022-12-12T14:59:52.398Z"
   },
   {
    "duration": 5,
    "start_time": "2022-12-12T14:59:59.236Z"
   },
   {
    "duration": 10,
    "start_time": "2022-12-12T14:59:59.243Z"
   },
   {
    "duration": 6,
    "start_time": "2022-12-12T14:59:59.255Z"
   },
   {
    "duration": 8,
    "start_time": "2022-12-12T14:59:59.263Z"
   },
   {
    "duration": 74,
    "start_time": "2022-12-12T14:59:59.273Z"
   },
   {
    "duration": 11,
    "start_time": "2022-12-12T14:59:59.350Z"
   },
   {
    "duration": 9,
    "start_time": "2022-12-12T14:59:59.438Z"
   },
   {
    "duration": 18,
    "start_time": "2022-12-12T14:59:59.449Z"
   },
   {
    "duration": 7,
    "start_time": "2022-12-12T14:59:59.537Z"
   },
   {
    "duration": 91,
    "start_time": "2022-12-12T14:59:59.546Z"
   },
   {
    "duration": 107,
    "start_time": "2022-12-12T14:59:59.640Z"
   },
   {
    "duration": 4,
    "start_time": "2022-12-12T14:59:59.749Z"
   },
   {
    "duration": 86,
    "start_time": "2022-12-12T14:59:59.755Z"
   },
   {
    "duration": 5,
    "start_time": "2022-12-12T14:59:59.842Z"
   },
   {
    "duration": 10,
    "start_time": "2022-12-12T14:59:59.849Z"
   },
   {
    "duration": 88,
    "start_time": "2022-12-12T14:59:59.861Z"
   },
   {
    "duration": 204,
    "start_time": "2022-12-12T14:59:59.955Z"
   },
   {
    "duration": 4,
    "start_time": "2022-12-12T15:00:00.161Z"
   },
   {
    "duration": 19,
    "start_time": "2022-12-12T15:00:00.167Z"
   },
   {
    "duration": 11,
    "start_time": "2022-12-12T15:00:00.188Z"
   },
   {
    "duration": 17,
    "start_time": "2022-12-12T15:00:00.201Z"
   },
   {
    "duration": 16,
    "start_time": "2022-12-12T15:00:00.221Z"
   },
   {
    "duration": 25,
    "start_time": "2022-12-12T15:00:00.239Z"
   },
   {
    "duration": 19,
    "start_time": "2022-12-12T15:00:00.266Z"
   },
   {
    "duration": 23,
    "start_time": "2022-12-12T15:00:00.287Z"
   },
   {
    "duration": 178,
    "start_time": "2022-12-12T15:00:00.311Z"
   },
   {
    "duration": 14,
    "start_time": "2022-12-12T15:00:00.491Z"
   },
   {
    "duration": 4,
    "start_time": "2022-12-12T15:00:00.506Z"
   },
   {
    "duration": 25,
    "start_time": "2022-12-12T15:00:00.512Z"
   },
   {
    "duration": 28,
    "start_time": "2022-12-12T15:00:00.538Z"
   },
   {
    "duration": 16,
    "start_time": "2022-12-12T15:00:00.568Z"
   },
   {
    "duration": 18,
    "start_time": "2022-12-12T15:00:00.586Z"
   },
   {
    "duration": 25,
    "start_time": "2022-12-12T15:00:00.606Z"
   },
   {
    "duration": 13,
    "start_time": "2022-12-12T15:02:46.903Z"
   },
   {
    "duration": 1436,
    "start_time": "2022-12-12T15:21:02.409Z"
   },
   {
    "duration": 38,
    "start_time": "2022-12-12T15:21:03.848Z"
   },
   {
    "duration": 16,
    "start_time": "2022-12-12T15:21:03.889Z"
   },
   {
    "duration": 18,
    "start_time": "2022-12-12T15:21:03.907Z"
   },
   {
    "duration": 47,
    "start_time": "2022-12-12T15:21:03.927Z"
   },
   {
    "duration": 886,
    "start_time": "2022-12-12T15:21:03.976Z"
   },
   {
    "duration": 11,
    "start_time": "2022-12-12T15:21:04.864Z"
   },
   {
    "duration": 528,
    "start_time": "2022-12-12T15:21:04.876Z"
   },
   {
    "duration": 6,
    "start_time": "2022-12-12T15:21:05.407Z"
   },
   {
    "duration": 37,
    "start_time": "2022-12-12T15:21:05.416Z"
   },
   {
    "duration": 7372,
    "start_time": "2022-12-12T15:21:05.454Z"
   },
   {
    "duration": 4,
    "start_time": "2022-12-12T15:21:12.828Z"
   },
   {
    "duration": 21,
    "start_time": "2022-12-12T15:21:12.834Z"
   },
   {
    "duration": 8,
    "start_time": "2022-12-12T15:21:12.857Z"
   },
   {
    "duration": 10,
    "start_time": "2022-12-12T15:21:12.867Z"
   },
   {
    "duration": 15,
    "start_time": "2022-12-12T15:21:12.879Z"
   },
   {
    "duration": 15,
    "start_time": "2022-12-12T15:21:12.939Z"
   },
   {
    "duration": 93,
    "start_time": "2022-12-12T15:21:12.956Z"
   },
   {
    "duration": 22,
    "start_time": "2022-12-12T15:21:13.052Z"
   },
   {
    "duration": 90,
    "start_time": "2022-12-12T15:21:13.076Z"
   },
   {
    "duration": 15,
    "start_time": "2022-12-12T15:21:13.238Z"
   },
   {
    "duration": 182,
    "start_time": "2022-12-12T15:21:13.256Z"
   },
   {
    "duration": 7,
    "start_time": "2022-12-12T15:21:13.440Z"
   },
   {
    "duration": 12,
    "start_time": "2022-12-12T15:21:13.449Z"
   },
   {
    "duration": 17,
    "start_time": "2022-12-12T15:21:13.463Z"
   },
   {
    "duration": 11,
    "start_time": "2022-12-12T15:21:13.483Z"
   },
   {
    "duration": 69,
    "start_time": "2022-12-12T15:21:13.496Z"
   },
   {
    "duration": 123,
    "start_time": "2022-12-12T15:21:13.642Z"
   },
   {
    "duration": 4,
    "start_time": "2022-12-12T15:21:13.767Z"
   },
   {
    "duration": 7,
    "start_time": "2022-12-12T15:21:13.773Z"
   },
   {
    "duration": 4,
    "start_time": "2022-12-12T15:21:13.781Z"
   },
   {
    "duration": 10,
    "start_time": "2022-12-12T15:21:13.786Z"
   },
   {
    "duration": 16,
    "start_time": "2022-12-12T15:21:13.798Z"
   },
   {
    "duration": 8,
    "start_time": "2022-12-12T15:21:13.816Z"
   },
   {
    "duration": 12,
    "start_time": "2022-12-12T15:21:13.826Z"
   },
   {
    "duration": 25,
    "start_time": "2022-12-12T15:21:13.840Z"
   },
   {
    "duration": 10,
    "start_time": "2022-12-12T15:21:13.867Z"
   },
   {
    "duration": 7,
    "start_time": "2022-12-12T15:21:13.879Z"
   },
   {
    "duration": 13,
    "start_time": "2022-12-12T15:21:13.888Z"
   },
   {
    "duration": 10,
    "start_time": "2022-12-12T15:21:13.903Z"
   },
   {
    "duration": 26,
    "start_time": "2022-12-12T15:21:13.915Z"
   },
   {
    "duration": 258,
    "start_time": "2022-12-12T15:21:13.944Z"
   },
   {
    "duration": 17,
    "start_time": "2022-12-12T15:21:14.204Z"
   },
   {
    "duration": 36,
    "start_time": "2022-12-12T15:21:14.223Z"
   },
   {
    "duration": 127,
    "start_time": "2022-12-12T15:22:44.983Z"
   },
   {
    "duration": 4,
    "start_time": "2022-12-12T15:24:02.776Z"
   },
   {
    "duration": 14,
    "start_time": "2022-12-12T15:24:20.866Z"
   },
   {
    "duration": 1822,
    "start_time": "2022-12-12T15:25:11.435Z"
   },
   {
    "duration": 30,
    "start_time": "2022-12-12T15:25:13.260Z"
   },
   {
    "duration": 15,
    "start_time": "2022-12-12T15:25:13.292Z"
   },
   {
    "duration": 13,
    "start_time": "2022-12-12T15:25:13.310Z"
   },
   {
    "duration": 25,
    "start_time": "2022-12-12T15:25:13.325Z"
   },
   {
    "duration": 844,
    "start_time": "2022-12-12T15:25:13.351Z"
   },
   {
    "duration": 12,
    "start_time": "2022-12-12T15:25:14.197Z"
   },
   {
    "duration": 512,
    "start_time": "2022-12-12T15:25:14.211Z"
   },
   {
    "duration": 15,
    "start_time": "2022-12-12T15:25:14.725Z"
   },
   {
    "duration": 6,
    "start_time": "2022-12-12T15:25:14.743Z"
   },
   {
    "duration": 7015,
    "start_time": "2022-12-12T15:25:14.751Z"
   },
   {
    "duration": 4,
    "start_time": "2022-12-12T15:25:21.768Z"
   },
   {
    "duration": 16,
    "start_time": "2022-12-12T15:25:21.774Z"
   },
   {
    "duration": 8,
    "start_time": "2022-12-12T15:25:21.792Z"
   },
   {
    "duration": 11,
    "start_time": "2022-12-12T15:25:21.802Z"
   },
   {
    "duration": 19,
    "start_time": "2022-12-12T15:25:21.837Z"
   },
   {
    "duration": 93,
    "start_time": "2022-12-12T15:25:21.858Z"
   },
   {
    "duration": 10,
    "start_time": "2022-12-12T15:25:21.953Z"
   },
   {
    "duration": 14,
    "start_time": "2022-12-12T15:25:21.964Z"
   },
   {
    "duration": 8,
    "start_time": "2022-12-12T15:25:22.039Z"
   },
   {
    "duration": 89,
    "start_time": "2022-12-12T15:25:22.049Z"
   },
   {
    "duration": 114,
    "start_time": "2022-12-12T15:25:22.141Z"
   },
   {
    "duration": 6,
    "start_time": "2022-12-12T15:25:22.337Z"
   },
   {
    "duration": 8,
    "start_time": "2022-12-12T15:25:22.344Z"
   },
   {
    "duration": 8,
    "start_time": "2022-12-12T15:25:22.354Z"
   },
   {
    "duration": 12,
    "start_time": "2022-12-12T15:25:22.364Z"
   },
   {
    "duration": 64,
    "start_time": "2022-12-12T15:25:22.380Z"
   },
   {
    "duration": 209,
    "start_time": "2022-12-12T15:25:22.451Z"
   },
   {
    "duration": 4,
    "start_time": "2022-12-12T15:25:22.662Z"
   },
   {
    "duration": 9,
    "start_time": "2022-12-12T15:25:22.667Z"
   },
   {
    "duration": 6,
    "start_time": "2022-12-12T15:25:22.677Z"
   },
   {
    "duration": 7,
    "start_time": "2022-12-12T15:25:22.685Z"
   },
   {
    "duration": 11,
    "start_time": "2022-12-12T15:25:22.694Z"
   },
   {
    "duration": 5,
    "start_time": "2022-12-12T15:25:22.707Z"
   },
   {
    "duration": 6,
    "start_time": "2022-12-12T15:25:22.713Z"
   },
   {
    "duration": 18,
    "start_time": "2022-12-12T15:25:22.720Z"
   },
   {
    "duration": 6,
    "start_time": "2022-12-12T15:25:22.740Z"
   },
   {
    "duration": 5,
    "start_time": "2022-12-12T15:25:22.748Z"
   },
   {
    "duration": 6,
    "start_time": "2022-12-12T15:25:22.755Z"
   },
   {
    "duration": 14,
    "start_time": "2022-12-12T15:25:22.763Z"
   },
   {
    "duration": 131,
    "start_time": "2022-12-12T15:25:22.779Z"
   },
   {
    "duration": 104,
    "start_time": "2022-12-12T15:25:22.938Z"
   },
   {
    "duration": 15,
    "start_time": "2022-12-12T15:25:23.043Z"
   },
   {
    "duration": 14,
    "start_time": "2022-12-12T15:25:23.059Z"
   },
   {
    "duration": 4,
    "start_time": "2022-12-12T15:25:23.138Z"
   },
   {
    "duration": 106,
    "start_time": "2022-12-12T15:25:23.144Z"
   },
   {
    "duration": 97,
    "start_time": "2022-12-12T15:25:23.252Z"
   },
   {
    "duration": 16,
    "start_time": "2022-12-12T15:25:23.437Z"
   },
   {
    "duration": 16,
    "start_time": "2022-12-12T15:25:23.454Z"
   },
   {
    "duration": 1404,
    "start_time": "2022-12-12T15:25:51.887Z"
   },
   {
    "duration": 34,
    "start_time": "2022-12-12T15:25:53.293Z"
   },
   {
    "duration": 14,
    "start_time": "2022-12-12T15:25:53.329Z"
   },
   {
    "duration": 13,
    "start_time": "2022-12-12T15:25:53.345Z"
   },
   {
    "duration": 23,
    "start_time": "2022-12-12T15:25:53.360Z"
   },
   {
    "duration": 954,
    "start_time": "2022-12-12T15:25:53.385Z"
   },
   {
    "duration": 11,
    "start_time": "2022-12-12T15:25:54.341Z"
   },
   {
    "duration": 481,
    "start_time": "2022-12-12T15:25:54.354Z"
   },
   {
    "duration": 7,
    "start_time": "2022-12-12T15:25:54.837Z"
   },
   {
    "duration": 9,
    "start_time": "2022-12-12T15:25:54.845Z"
   },
   {
    "duration": 6987,
    "start_time": "2022-12-12T15:25:54.855Z"
   },
   {
    "duration": 5,
    "start_time": "2022-12-12T15:26:01.845Z"
   },
   {
    "duration": 11,
    "start_time": "2022-12-12T15:26:01.852Z"
   },
   {
    "duration": 19,
    "start_time": "2022-12-12T15:26:01.867Z"
   },
   {
    "duration": 21,
    "start_time": "2022-12-12T15:26:01.888Z"
   },
   {
    "duration": 45,
    "start_time": "2022-12-12T15:26:01.912Z"
   },
   {
    "duration": 12,
    "start_time": "2022-12-12T15:26:02.038Z"
   },
   {
    "duration": 17,
    "start_time": "2022-12-12T15:26:02.052Z"
   },
   {
    "duration": 23,
    "start_time": "2022-12-12T15:26:02.071Z"
   },
   {
    "duration": 6,
    "start_time": "2022-12-12T15:26:02.138Z"
   },
   {
    "duration": 94,
    "start_time": "2022-12-12T15:26:02.146Z"
   },
   {
    "duration": 111,
    "start_time": "2022-12-12T15:26:02.242Z"
   },
   {
    "duration": 4,
    "start_time": "2022-12-12T15:26:02.355Z"
   },
   {
    "duration": 78,
    "start_time": "2022-12-12T15:26:02.361Z"
   },
   {
    "duration": 8,
    "start_time": "2022-12-12T15:26:02.441Z"
   },
   {
    "duration": 11,
    "start_time": "2022-12-12T15:26:02.451Z"
   },
   {
    "duration": 75,
    "start_time": "2022-12-12T15:26:02.469Z"
   },
   {
    "duration": 215,
    "start_time": "2022-12-12T15:26:02.547Z"
   },
   {
    "duration": 4,
    "start_time": "2022-12-12T15:26:02.764Z"
   },
   {
    "duration": 17,
    "start_time": "2022-12-12T15:26:02.770Z"
   },
   {
    "duration": 4,
    "start_time": "2022-12-12T15:26:02.789Z"
   },
   {
    "duration": 12,
    "start_time": "2022-12-12T15:26:02.794Z"
   },
   {
    "duration": 8,
    "start_time": "2022-12-12T15:26:02.807Z"
   },
   {
    "duration": 5,
    "start_time": "2022-12-12T15:26:02.817Z"
   },
   {
    "duration": 6,
    "start_time": "2022-12-12T15:26:02.823Z"
   },
   {
    "duration": 7,
    "start_time": "2022-12-12T15:26:02.830Z"
   },
   {
    "duration": 110,
    "start_time": "2022-12-12T15:26:02.839Z"
   },
   {
    "duration": 6,
    "start_time": "2022-12-12T15:26:02.951Z"
   },
   {
    "duration": 8,
    "start_time": "2022-12-12T15:26:02.959Z"
   },
   {
    "duration": 10,
    "start_time": "2022-12-12T15:26:02.968Z"
   },
   {
    "duration": 59,
    "start_time": "2022-12-12T15:26:02.982Z"
   },
   {
    "duration": 102,
    "start_time": "2022-12-12T15:26:03.044Z"
   },
   {
    "duration": 18,
    "start_time": "2022-12-12T15:26:03.148Z"
   },
   {
    "duration": 71,
    "start_time": "2022-12-12T15:26:03.168Z"
   },
   {
    "duration": 5,
    "start_time": "2022-12-12T15:26:03.242Z"
   },
   {
    "duration": 101,
    "start_time": "2022-12-12T15:26:03.249Z"
   },
   {
    "duration": 99,
    "start_time": "2022-12-12T15:26:03.352Z"
   },
   {
    "duration": 3,
    "start_time": "2022-12-12T15:26:03.538Z"
   },
   {
    "duration": 144,
    "start_time": "2022-12-12T15:26:03.542Z"
   },
   {
    "duration": 1562,
    "start_time": "2022-12-12T15:26:37.432Z"
   },
   {
    "duration": 35,
    "start_time": "2022-12-12T15:26:38.998Z"
   },
   {
    "duration": 14,
    "start_time": "2022-12-12T15:26:39.035Z"
   },
   {
    "duration": 14,
    "start_time": "2022-12-12T15:26:39.052Z"
   },
   {
    "duration": 37,
    "start_time": "2022-12-12T15:26:39.068Z"
   },
   {
    "duration": 889,
    "start_time": "2022-12-12T15:26:39.108Z"
   },
   {
    "duration": 12,
    "start_time": "2022-12-12T15:26:39.999Z"
   },
   {
    "duration": 503,
    "start_time": "2022-12-12T15:26:40.013Z"
   },
   {
    "duration": 20,
    "start_time": "2022-12-12T15:26:40.518Z"
   },
   {
    "duration": 6,
    "start_time": "2022-12-12T15:26:40.541Z"
   },
   {
    "duration": 7297,
    "start_time": "2022-12-12T15:26:40.549Z"
   },
   {
    "duration": 5,
    "start_time": "2022-12-12T15:26:47.849Z"
   },
   {
    "duration": 22,
    "start_time": "2022-12-12T15:26:47.856Z"
   },
   {
    "duration": 7,
    "start_time": "2022-12-12T15:26:47.883Z"
   },
   {
    "duration": 11,
    "start_time": "2022-12-12T15:26:47.892Z"
   },
   {
    "duration": 20,
    "start_time": "2022-12-12T15:26:47.939Z"
   },
   {
    "duration": 11,
    "start_time": "2022-12-12T15:26:48.038Z"
   },
   {
    "duration": 12,
    "start_time": "2022-12-12T15:26:48.052Z"
   },
   {
    "duration": 74,
    "start_time": "2022-12-12T15:26:48.067Z"
   },
   {
    "duration": 7,
    "start_time": "2022-12-12T15:26:48.144Z"
   },
   {
    "duration": 89,
    "start_time": "2022-12-12T15:26:48.153Z"
   },
   {
    "duration": 194,
    "start_time": "2022-12-12T15:26:48.245Z"
   },
   {
    "duration": 4,
    "start_time": "2022-12-12T15:26:48.441Z"
   },
   {
    "duration": 9,
    "start_time": "2022-12-12T15:26:48.447Z"
   },
   {
    "duration": 7,
    "start_time": "2022-12-12T15:26:48.459Z"
   },
   {
    "duration": 14,
    "start_time": "2022-12-12T15:26:48.468Z"
   },
   {
    "duration": 152,
    "start_time": "2022-12-12T15:26:48.485Z"
   },
   {
    "duration": 125,
    "start_time": "2022-12-12T15:26:48.640Z"
   },
   {
    "duration": 4,
    "start_time": "2022-12-12T15:26:48.767Z"
   },
   {
    "duration": 11,
    "start_time": "2022-12-12T15:26:48.772Z"
   },
   {
    "duration": 5,
    "start_time": "2022-12-12T15:26:48.785Z"
   },
   {
    "duration": 9,
    "start_time": "2022-12-12T15:26:48.791Z"
   },
   {
    "duration": 14,
    "start_time": "2022-12-12T15:26:48.803Z"
   },
   {
    "duration": 22,
    "start_time": "2022-12-12T15:26:48.822Z"
   },
   {
    "duration": 11,
    "start_time": "2022-12-12T15:26:48.847Z"
   },
   {
    "duration": 13,
    "start_time": "2022-12-12T15:26:48.861Z"
   },
   {
    "duration": 10,
    "start_time": "2022-12-12T15:26:48.876Z"
   },
   {
    "duration": 160,
    "start_time": "2022-12-12T15:26:48.888Z"
   },
   {
    "duration": 20,
    "start_time": "2022-12-12T15:26:49.050Z"
   },
   {
    "duration": 44,
    "start_time": "2022-12-12T15:26:49.072Z"
   },
   {
    "duration": 45,
    "start_time": "2022-12-12T15:26:49.123Z"
   },
   {
    "duration": 187,
    "start_time": "2022-12-12T15:26:49.171Z"
   },
   {
    "duration": 37,
    "start_time": "2022-12-12T15:26:49.361Z"
   },
   {
    "duration": 39,
    "start_time": "2022-12-12T15:26:49.400Z"
   },
   {
    "duration": 96,
    "start_time": "2022-12-12T15:26:49.442Z"
   },
   {
    "duration": 98,
    "start_time": "2022-12-12T15:26:49.541Z"
   },
   {
    "duration": 104,
    "start_time": "2022-12-12T15:26:49.642Z"
   },
   {
    "duration": 17,
    "start_time": "2022-12-12T15:26:49.748Z"
   },
   {
    "duration": 73,
    "start_time": "2022-12-12T15:26:49.766Z"
   },
   {
    "duration": 4,
    "start_time": "2022-12-12T15:28:04.314Z"
   },
   {
    "duration": 14,
    "start_time": "2022-12-12T18:35:41.628Z"
   },
   {
    "duration": 17,
    "start_time": "2022-12-12T18:36:43.245Z"
   },
   {
    "duration": 16,
    "start_time": "2022-12-12T18:37:29.072Z"
   },
   {
    "duration": 1589,
    "start_time": "2022-12-12T18:39:34.605Z"
   },
   {
    "duration": 43,
    "start_time": "2022-12-12T18:39:36.196Z"
   },
   {
    "duration": 11,
    "start_time": "2022-12-12T18:39:36.241Z"
   },
   {
    "duration": 27,
    "start_time": "2022-12-12T18:39:36.254Z"
   },
   {
    "duration": 36,
    "start_time": "2022-12-12T18:39:36.283Z"
   },
   {
    "duration": 915,
    "start_time": "2022-12-12T18:39:36.321Z"
   },
   {
    "duration": 10,
    "start_time": "2022-12-12T18:39:37.238Z"
   },
   {
    "duration": 481,
    "start_time": "2022-12-12T18:39:37.250Z"
   },
   {
    "duration": 10,
    "start_time": "2022-12-12T18:39:37.733Z"
   },
   {
    "duration": 27,
    "start_time": "2022-12-12T18:39:37.746Z"
   },
   {
    "duration": 7011,
    "start_time": "2022-12-12T18:39:37.775Z"
   },
   {
    "duration": 5,
    "start_time": "2022-12-12T18:39:44.788Z"
   },
   {
    "duration": 9,
    "start_time": "2022-12-12T18:39:44.795Z"
   },
   {
    "duration": 7,
    "start_time": "2022-12-12T18:39:44.806Z"
   },
   {
    "duration": 14,
    "start_time": "2022-12-12T18:39:44.815Z"
   },
   {
    "duration": 17,
    "start_time": "2022-12-12T18:39:44.838Z"
   },
   {
    "duration": 86,
    "start_time": "2022-12-12T18:39:44.857Z"
   },
   {
    "duration": 18,
    "start_time": "2022-12-12T18:39:44.945Z"
   },
   {
    "duration": 87,
    "start_time": "2022-12-12T18:39:44.965Z"
   },
   {
    "duration": 85,
    "start_time": "2022-12-12T18:39:45.054Z"
   },
   {
    "duration": 7,
    "start_time": "2022-12-12T18:39:45.141Z"
   },
   {
    "duration": 111,
    "start_time": "2022-12-12T18:39:45.150Z"
   },
   {
    "duration": 4,
    "start_time": "2022-12-12T18:39:45.338Z"
   },
   {
    "duration": 8,
    "start_time": "2022-12-12T18:39:45.344Z"
   },
   {
    "duration": 6,
    "start_time": "2022-12-12T18:39:45.354Z"
   },
   {
    "duration": 12,
    "start_time": "2022-12-12T18:39:45.362Z"
   },
   {
    "duration": 69,
    "start_time": "2022-12-12T18:39:45.376Z"
   },
   {
    "duration": 212,
    "start_time": "2022-12-12T18:39:45.451Z"
   },
   {
    "duration": 3,
    "start_time": "2022-12-12T18:39:45.665Z"
   },
   {
    "duration": 10,
    "start_time": "2022-12-12T18:39:45.670Z"
   },
   {
    "duration": 12,
    "start_time": "2022-12-12T18:39:45.682Z"
   },
   {
    "duration": 6,
    "start_time": "2022-12-12T18:39:45.696Z"
   },
   {
    "duration": 36,
    "start_time": "2022-12-12T18:39:45.703Z"
   },
   {
    "duration": 106,
    "start_time": "2022-12-12T18:39:45.741Z"
   },
   {
    "duration": 18,
    "start_time": "2022-12-12T18:39:45.850Z"
   },
   {
    "duration": 17,
    "start_time": "2022-12-12T18:39:45.870Z"
   },
   {
    "duration": 4,
    "start_time": "2022-12-12T18:39:45.939Z"
   },
   {
    "duration": 103,
    "start_time": "2022-12-12T18:39:45.945Z"
   },
   {
    "duration": 101,
    "start_time": "2022-12-12T18:39:46.050Z"
   },
   {
    "duration": 126,
    "start_time": "2022-12-12T18:39:46.237Z"
   },
   {
    "duration": 15,
    "start_time": "2022-12-12T18:39:46.365Z"
   },
   {
    "duration": 1457,
    "start_time": "2022-12-12T18:41:26.611Z"
   },
   {
    "duration": 31,
    "start_time": "2022-12-12T18:41:28.070Z"
   },
   {
    "duration": 11,
    "start_time": "2022-12-12T18:41:28.103Z"
   },
   {
    "duration": 12,
    "start_time": "2022-12-12T18:41:28.115Z"
   },
   {
    "duration": 23,
    "start_time": "2022-12-12T18:41:28.128Z"
   },
   {
    "duration": 882,
    "start_time": "2022-12-12T18:41:28.152Z"
   },
   {
    "duration": 13,
    "start_time": "2022-12-12T18:41:29.038Z"
   },
   {
    "duration": 473,
    "start_time": "2022-12-12T18:41:29.053Z"
   },
   {
    "duration": 11,
    "start_time": "2022-12-12T18:41:29.527Z"
   },
   {
    "duration": 32,
    "start_time": "2022-12-12T18:41:29.540Z"
   },
   {
    "duration": 7085,
    "start_time": "2022-12-12T18:41:29.573Z"
   },
   {
    "duration": 4,
    "start_time": "2022-12-12T18:41:36.660Z"
   },
   {
    "duration": 9,
    "start_time": "2022-12-12T18:41:36.666Z"
   },
   {
    "duration": 11,
    "start_time": "2022-12-12T18:41:36.677Z"
   },
   {
    "duration": 8,
    "start_time": "2022-12-12T18:41:36.691Z"
   },
   {
    "duration": 47,
    "start_time": "2022-12-12T18:41:36.701Z"
   },
   {
    "duration": 93,
    "start_time": "2022-12-12T18:41:36.750Z"
   },
   {
    "duration": 13,
    "start_time": "2022-12-12T18:41:36.844Z"
   },
   {
    "duration": 17,
    "start_time": "2022-12-12T18:41:36.858Z"
   },
   {
    "duration": 68,
    "start_time": "2022-12-12T18:41:36.881Z"
   },
   {
    "duration": 89,
    "start_time": "2022-12-12T18:41:36.951Z"
   },
   {
    "duration": 106,
    "start_time": "2022-12-12T18:41:37.043Z"
   },
   {
    "duration": 6,
    "start_time": "2022-12-12T18:41:37.151Z"
   },
   {
    "duration": 3,
    "start_time": "2022-12-12T18:41:37.238Z"
   },
   {
    "duration": 10,
    "start_time": "2022-12-12T18:41:37.242Z"
   },
   {
    "duration": 9,
    "start_time": "2022-12-12T18:41:37.254Z"
   },
   {
    "duration": 76,
    "start_time": "2022-12-12T18:41:37.265Z"
   },
   {
    "duration": 5,
    "start_time": "2022-12-12T18:41:37.347Z"
   },
   {
    "duration": 91,
    "start_time": "2022-12-12T18:41:37.353Z"
   },
   {
    "duration": 121,
    "start_time": "2022-12-12T18:41:37.445Z"
   },
   {
    "duration": 0,
    "start_time": "2022-12-12T18:41:37.568Z"
   },
   {
    "duration": 0,
    "start_time": "2022-12-12T18:41:37.569Z"
   },
   {
    "duration": 0,
    "start_time": "2022-12-12T18:41:37.571Z"
   },
   {
    "duration": 0,
    "start_time": "2022-12-12T18:41:37.572Z"
   },
   {
    "duration": 0,
    "start_time": "2022-12-12T18:41:37.574Z"
   },
   {
    "duration": 0,
    "start_time": "2022-12-12T18:41:37.575Z"
   },
   {
    "duration": 0,
    "start_time": "2022-12-12T18:41:37.578Z"
   },
   {
    "duration": 0,
    "start_time": "2022-12-12T18:41:37.580Z"
   },
   {
    "duration": 0,
    "start_time": "2022-12-12T18:41:37.581Z"
   },
   {
    "duration": 4,
    "start_time": "2022-12-12T18:42:38.550Z"
   },
   {
    "duration": 25,
    "start_time": "2022-12-12T18:42:42.225Z"
   },
   {
    "duration": 9,
    "start_time": "2022-12-12T18:43:31.256Z"
   },
   {
    "duration": 1568,
    "start_time": "2022-12-12T18:44:27.936Z"
   },
   {
    "duration": 31,
    "start_time": "2022-12-12T18:44:29.506Z"
   },
   {
    "duration": 11,
    "start_time": "2022-12-12T18:44:29.538Z"
   },
   {
    "duration": 11,
    "start_time": "2022-12-12T18:44:29.551Z"
   },
   {
    "duration": 24,
    "start_time": "2022-12-12T18:44:29.564Z"
   },
   {
    "duration": 887,
    "start_time": "2022-12-12T18:44:29.590Z"
   },
   {
    "duration": 13,
    "start_time": "2022-12-12T18:44:30.479Z"
   },
   {
    "duration": 547,
    "start_time": "2022-12-12T18:44:30.494Z"
   },
   {
    "duration": 6,
    "start_time": "2022-12-12T18:44:31.043Z"
   },
   {
    "duration": 69,
    "start_time": "2022-12-12T18:44:31.051Z"
   },
   {
    "duration": 7032,
    "start_time": "2022-12-12T18:44:31.122Z"
   },
   {
    "duration": 4,
    "start_time": "2022-12-12T18:44:38.156Z"
   },
   {
    "duration": 9,
    "start_time": "2022-12-12T18:44:38.162Z"
   },
   {
    "duration": 7,
    "start_time": "2022-12-12T18:44:38.174Z"
   },
   {
    "duration": 13,
    "start_time": "2022-12-12T18:44:38.183Z"
   },
   {
    "duration": 46,
    "start_time": "2022-12-12T18:44:38.198Z"
   },
   {
    "duration": 92,
    "start_time": "2022-12-12T18:44:38.246Z"
   },
   {
    "duration": 10,
    "start_time": "2022-12-12T18:44:38.340Z"
   },
   {
    "duration": 23,
    "start_time": "2022-12-12T18:44:38.351Z"
   },
   {
    "duration": 7,
    "start_time": "2022-12-12T18:44:38.437Z"
   },
   {
    "duration": 93,
    "start_time": "2022-12-12T18:44:38.447Z"
   },
   {
    "duration": 197,
    "start_time": "2022-12-12T18:44:38.542Z"
   },
   {
    "duration": 7,
    "start_time": "2022-12-12T18:44:38.741Z"
   },
   {
    "duration": 88,
    "start_time": "2022-12-12T18:44:38.750Z"
   },
   {
    "duration": 18,
    "start_time": "2022-12-12T18:44:38.841Z"
   },
   {
    "duration": 64,
    "start_time": "2022-12-12T18:44:38.862Z"
   },
   {
    "duration": 116,
    "start_time": "2022-12-12T18:44:38.928Z"
   },
   {
    "duration": 194,
    "start_time": "2022-12-12T18:44:39.046Z"
   },
   {
    "duration": 6,
    "start_time": "2022-12-12T18:44:39.241Z"
   },
   {
    "duration": 4,
    "start_time": "2022-12-12T18:44:39.249Z"
   },
   {
    "duration": 6,
    "start_time": "2022-12-12T18:44:39.254Z"
   },
   {
    "duration": 8,
    "start_time": "2022-12-12T18:44:39.262Z"
   },
   {
    "duration": 68,
    "start_time": "2022-12-12T18:44:39.272Z"
   },
   {
    "duration": 107,
    "start_time": "2022-12-12T18:44:39.343Z"
   },
   {
    "duration": 16,
    "start_time": "2022-12-12T18:44:39.452Z"
   },
   {
    "duration": 69,
    "start_time": "2022-12-12T18:44:39.470Z"
   },
   {
    "duration": 114,
    "start_time": "2022-12-12T18:44:39.542Z"
   },
   {
    "duration": 18,
    "start_time": "2022-12-12T18:44:39.659Z"
   },
   {
    "duration": 106,
    "start_time": "2022-12-12T18:44:39.738Z"
   },
   {
    "duration": 19,
    "start_time": "2022-12-12T18:44:39.846Z"
   },
   {
    "duration": 71,
    "start_time": "2022-12-12T18:44:39.870Z"
   },
   {
    "duration": 1506,
    "start_time": "2022-12-12T20:01:39.777Z"
   },
   {
    "duration": 33,
    "start_time": "2022-12-12T20:01:41.285Z"
   },
   {
    "duration": 12,
    "start_time": "2022-12-12T20:01:41.320Z"
   },
   {
    "duration": 16,
    "start_time": "2022-12-12T20:01:41.334Z"
   },
   {
    "duration": 30,
    "start_time": "2022-12-12T20:01:41.353Z"
   },
   {
    "duration": 916,
    "start_time": "2022-12-12T20:01:41.384Z"
   },
   {
    "duration": 11,
    "start_time": "2022-12-12T20:01:42.302Z"
   },
   {
    "duration": 559,
    "start_time": "2022-12-12T20:01:42.315Z"
   },
   {
    "duration": 7,
    "start_time": "2022-12-12T20:01:42.875Z"
   },
   {
    "duration": 8,
    "start_time": "2022-12-12T20:01:42.883Z"
   },
   {
    "duration": 7562,
    "start_time": "2022-12-12T20:01:42.892Z"
   },
   {
    "duration": 4,
    "start_time": "2022-12-12T20:01:50.456Z"
   },
   {
    "duration": 11,
    "start_time": "2022-12-12T20:01:50.461Z"
   },
   {
    "duration": 5,
    "start_time": "2022-12-12T20:01:50.474Z"
   },
   {
    "duration": 9,
    "start_time": "2022-12-12T20:01:50.481Z"
   },
   {
    "duration": 55,
    "start_time": "2022-12-12T20:01:50.491Z"
   },
   {
    "duration": 98,
    "start_time": "2022-12-12T20:01:50.548Z"
   },
   {
    "duration": 20,
    "start_time": "2022-12-12T20:01:50.648Z"
   },
   {
    "duration": 67,
    "start_time": "2022-12-12T20:01:50.670Z"
   },
   {
    "duration": 15,
    "start_time": "2022-12-12T20:01:50.739Z"
   },
   {
    "duration": 84,
    "start_time": "2022-12-12T20:01:50.756Z"
   },
   {
    "duration": 213,
    "start_time": "2022-12-12T20:01:50.842Z"
   },
   {
    "duration": 4,
    "start_time": "2022-12-12T20:01:51.057Z"
   },
   {
    "duration": 76,
    "start_time": "2022-12-12T20:01:51.063Z"
   },
   {
    "duration": 19,
    "start_time": "2022-12-12T20:01:51.141Z"
   },
   {
    "duration": 22,
    "start_time": "2022-12-12T20:01:51.162Z"
   },
   {
    "duration": 170,
    "start_time": "2022-12-12T20:01:51.187Z"
   },
   {
    "duration": 101,
    "start_time": "2022-12-12T20:01:51.359Z"
   },
   {
    "duration": 20,
    "start_time": "2022-12-12T20:01:51.463Z"
   },
   {
    "duration": 26,
    "start_time": "2022-12-12T20:01:51.539Z"
   },
   {
    "duration": 191,
    "start_time": "2022-12-12T20:01:51.567Z"
   },
   {
    "duration": 29,
    "start_time": "2022-12-12T20:01:51.760Z"
   },
   {
    "duration": 50,
    "start_time": "2022-12-12T20:01:51.791Z"
   },
   {
    "duration": 106,
    "start_time": "2022-12-12T20:01:51.844Z"
   },
   {
    "duration": 8,
    "start_time": "2022-12-12T20:01:51.952Z"
   },
   {
    "duration": 25,
    "start_time": "2022-12-12T20:01:51.962Z"
   },
   {
    "duration": 22,
    "start_time": "2022-12-12T20:01:52.039Z"
   },
   {
    "duration": 37,
    "start_time": "2022-12-12T20:01:52.139Z"
   },
   {
    "duration": 29,
    "start_time": "2022-12-12T20:01:52.177Z"
   }
  ],
  "kernelspec": {
   "display_name": "Python 3 (ipykernel)",
   "language": "python",
   "name": "python3"
  },
  "language_info": {
   "codemirror_mode": {
    "name": "ipython",
    "version": 3
   },
   "file_extension": ".py",
   "mimetype": "text/x-python",
   "name": "python",
   "nbconvert_exporter": "python",
   "pygments_lexer": "ipython3",
   "version": "3.11.5"
  },
  "toc": {
   "base_numbering": 1,
   "nav_menu": {},
   "number_sections": true,
   "sideBar": true,
   "skip_h1_title": true,
   "title_cell": "Содержание",
   "title_sidebar": "Contents",
   "toc_cell": false,
   "toc_position": {
    "height": "calc(100% - 180px)",
    "left": "10px",
    "top": "150px",
    "width": "265.138px"
   },
   "toc_section_display": true,
   "toc_window_display": true
  }
 },
 "nbformat": 4,
 "nbformat_minor": 2
}
